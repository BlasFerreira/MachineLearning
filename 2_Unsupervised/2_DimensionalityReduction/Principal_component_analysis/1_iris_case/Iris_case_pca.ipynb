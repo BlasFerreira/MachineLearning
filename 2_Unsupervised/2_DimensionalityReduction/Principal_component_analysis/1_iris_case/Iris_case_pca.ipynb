{
 "cells": [
  {
   "cell_type": "markdown",
   "metadata": {
    "heading_collapsed": true
   },
   "source": [
    "# Import"
   ]
  },
  {
   "cell_type": "markdown",
   "metadata": {
    "heading_collapsed": true,
    "hidden": true
   },
   "source": [
    "## Library "
   ]
  },
  {
   "cell_type": "code",
   "execution_count": 486,
   "metadata": {
    "hidden": true
   },
   "outputs": [],
   "source": [
    "import numpy as np\n",
    "import pandas as pd\n",
    "import matplotlib.pyplot as plt\n",
    "from mpl_toolkits.mplot3d import Axes3D\n",
    "from sklearn.preprocessing import StandardScaler\n",
    "# Clustering\n",
    "from sklearn.cluster import KMeans, AgglomerativeClustering\n",
    "from scipy.cluster.hierarchy import dendrogram, linkage\n",
    "from sklearn.metrics import silhouette_score, rand_score\n",
    "# PCA\n",
    "from sklearn.decomposition import PCA\n",
    "import warnings\n",
    "warnings.filterwarnings('ignore')\n",
    "from sklearn import preprocessing\n",
    "\n",
    "\n",
    "# Data Manipulation\n",
    "import numpy as np\n",
    "import pandas as pd\n",
    "\n",
    "# Visualization\n",
    "import matplotlib.pyplot as plt\n",
    "import seaborn as sns\n",
    "plt.style.use('seaborn-whitegrid')\n",
    "\n",
    "# Model\n",
    "from sklearn import preprocessing\n",
    "from sklearn import svm\n",
    "from sklearn.svm import SVC\n",
    "from sklearn.model_selection import train_test_split\n",
    "from sklearn.metrics import accuracy_score\n",
    "from sklearn.model_selection import cross_val_score\n",
    "from sklearn.metrics import roc_curve, auc\n",
    "from sklearn.metrics import precision_recall_curve, auc\n",
    "from sklearn import metrics\n",
    "from sklearn.model_selection import RandomizedSearchCV\n",
    "from sklearn.model_selection import GridSearchCV\n",
    "from sklearn.metrics import confusion_matrix\n",
    "from sklearn.neighbors import KNeighborsClassifier\n",
    "from sklearn.linear_model import LogisticRegression\n",
    "from sklearn.metrics import average_precision_score\n",
    "from sklearn.preprocessing import StandardScaler\n",
    "from sklearn.ensemble import RandomForestClassifier\n",
    "from sklearn.decomposition import PCA\n",
    "from sklearn.tree import DecisionTreeClassifier \n",
    "from sklearn import svm\n",
    "\n",
    "#Time\n",
    "import time"
   ]
  },
  {
   "cell_type": "markdown",
   "metadata": {
    "hidden": true
   },
   "source": [
    "##  Dataset"
   ]
  },
  {
   "cell_type": "code",
   "execution_count": 487,
   "metadata": {
    "hidden": true
   },
   "outputs": [],
   "source": [
    "iris = pd.read_csv( 'iris.data' , names=['SepalLengthCm','SepalWidthCm','PetalLengthCm','PetalWidthCm','Species'] )"
   ]
  },
  {
   "cell_type": "code",
   "execution_count": 488,
   "metadata": {
    "hidden": true,
    "scrolled": true
   },
   "outputs": [
    {
     "data": {
      "text/html": [
       "<div>\n",
       "<style scoped>\n",
       "    .dataframe tbody tr th:only-of-type {\n",
       "        vertical-align: middle;\n",
       "    }\n",
       "\n",
       "    .dataframe tbody tr th {\n",
       "        vertical-align: top;\n",
       "    }\n",
       "\n",
       "    .dataframe thead th {\n",
       "        text-align: right;\n",
       "    }\n",
       "</style>\n",
       "<table border=\"1\" class=\"dataframe\">\n",
       "  <thead>\n",
       "    <tr style=\"text-align: right;\">\n",
       "      <th></th>\n",
       "      <th>SepalLengthCm</th>\n",
       "      <th>SepalWidthCm</th>\n",
       "      <th>PetalLengthCm</th>\n",
       "      <th>PetalWidthCm</th>\n",
       "      <th>Species</th>\n",
       "    </tr>\n",
       "  </thead>\n",
       "  <tbody>\n",
       "    <tr>\n",
       "      <th>0</th>\n",
       "      <td>5.1</td>\n",
       "      <td>3.5</td>\n",
       "      <td>1.4</td>\n",
       "      <td>0.2</td>\n",
       "      <td>Iris-setosa</td>\n",
       "    </tr>\n",
       "    <tr>\n",
       "      <th>1</th>\n",
       "      <td>4.9</td>\n",
       "      <td>3.0</td>\n",
       "      <td>1.4</td>\n",
       "      <td>0.2</td>\n",
       "      <td>Iris-setosa</td>\n",
       "    </tr>\n",
       "    <tr>\n",
       "      <th>2</th>\n",
       "      <td>4.7</td>\n",
       "      <td>3.2</td>\n",
       "      <td>1.3</td>\n",
       "      <td>0.2</td>\n",
       "      <td>Iris-setosa</td>\n",
       "    </tr>\n",
       "    <tr>\n",
       "      <th>3</th>\n",
       "      <td>4.6</td>\n",
       "      <td>3.1</td>\n",
       "      <td>1.5</td>\n",
       "      <td>0.2</td>\n",
       "      <td>Iris-setosa</td>\n",
       "    </tr>\n",
       "    <tr>\n",
       "      <th>4</th>\n",
       "      <td>5.0</td>\n",
       "      <td>3.6</td>\n",
       "      <td>1.4</td>\n",
       "      <td>0.2</td>\n",
       "      <td>Iris-setosa</td>\n",
       "    </tr>\n",
       "  </tbody>\n",
       "</table>\n",
       "</div>"
      ],
      "text/plain": [
       "   SepalLengthCm  SepalWidthCm  PetalLengthCm  PetalWidthCm      Species\n",
       "0            5.1           3.5            1.4           0.2  Iris-setosa\n",
       "1            4.9           3.0            1.4           0.2  Iris-setosa\n",
       "2            4.7           3.2            1.3           0.2  Iris-setosa\n",
       "3            4.6           3.1            1.5           0.2  Iris-setosa\n",
       "4            5.0           3.6            1.4           0.2  Iris-setosa"
      ]
     },
     "execution_count": 488,
     "metadata": {},
     "output_type": "execute_result"
    }
   ],
   "source": [
    "iris.head()"
   ]
  },
  {
   "cell_type": "code",
   "execution_count": 489,
   "metadata": {
    "hidden": true,
    "scrolled": true
   },
   "outputs": [
    {
     "data": {
      "text/plain": [
       "(150, 5)"
      ]
     },
     "execution_count": 489,
     "metadata": {},
     "output_type": "execute_result"
    }
   ],
   "source": [
    "iris.shape"
   ]
  },
  {
   "cell_type": "code",
   "execution_count": 490,
   "metadata": {
    "hidden": true
   },
   "outputs": [
    {
     "data": {
      "text/plain": [
       "SepalLengthCm    0\n",
       "SepalWidthCm     0\n",
       "PetalLengthCm    0\n",
       "PetalWidthCm     0\n",
       "Species          0\n",
       "dtype: int64"
      ]
     },
     "execution_count": 490,
     "metadata": {},
     "output_type": "execute_result"
    }
   ],
   "source": [
    "iris.isnull().sum()"
   ]
  },
  {
   "cell_type": "markdown",
   "metadata": {
    "heading_collapsed": true
   },
   "source": [
    "# Pre-processing"
   ]
  },
  {
   "cell_type": "markdown",
   "metadata": {
    "hidden": true
   },
   "source": [
    "## Define Feature and Target"
   ]
  },
  {
   "cell_type": "code",
   "execution_count": 491,
   "metadata": {
    "hidden": true
   },
   "outputs": [],
   "source": [
    "x = iris[['SepalLengthCm','SepalWidthCm','PetalLengthCm','PetalWidthCm']]"
   ]
  },
  {
   "cell_type": "code",
   "execution_count": 492,
   "metadata": {
    "hidden": true
   },
   "outputs": [
    {
     "data": {
      "text/plain": [
       "array([0, 0, 0, 0, 0, 0, 0, 0, 0, 0, 0, 0, 0, 0, 0, 0, 0, 0, 0, 0, 0, 0,\n",
       "       0, 0, 0, 0, 0, 0, 0, 0, 0, 0, 0, 0, 0, 0, 0, 0, 0, 0, 0, 0, 0, 0,\n",
       "       0, 0, 0, 0, 0, 0, 1, 1, 1, 1, 1, 1, 1, 1, 1, 1, 1, 1, 1, 1, 1, 1,\n",
       "       1, 1, 1, 1, 1, 1, 1, 1, 1, 1, 1, 1, 1, 1, 1, 1, 1, 1, 1, 1, 1, 1,\n",
       "       1, 1, 1, 1, 1, 1, 1, 1, 1, 1, 1, 1, 2, 2, 2, 2, 2, 2, 2, 2, 2, 2,\n",
       "       2, 2, 2, 2, 2, 2, 2, 2, 2, 2, 2, 2, 2, 2, 2, 2, 2, 2, 2, 2, 2, 2,\n",
       "       2, 2, 2, 2, 2, 2, 2, 2, 2, 2, 2, 2, 2, 2, 2, 2, 2, 2])"
      ]
     },
     "execution_count": 492,
     "metadata": {},
     "output_type": "execute_result"
    }
   ],
   "source": [
    "y = iris[['Species']]\n",
    "enc = preprocessing.LabelEncoder()\n",
    "y = enc.fit_transform(y)\n",
    "y"
   ]
  },
  {
   "cell_type": "markdown",
   "metadata": {
    "hidden": true
   },
   "source": [
    "## Auto-Scaling"
   ]
  },
  {
   "cell_type": "code",
   "execution_count": 493,
   "metadata": {
    "hidden": true
   },
   "outputs": [],
   "source": [
    "# Realizamos un autoscaling con los datos, para todas las features\n",
    "scaler = StandardScaler().fit(x)\n",
    "xscal = scaler.transform(x)"
   ]
  },
  {
   "cell_type": "markdown",
   "metadata": {
    "heading_collapsed": true
   },
   "source": [
    "# Principal Component Analysis"
   ]
  },
  {
   "cell_type": "code",
   "execution_count": 494,
   "metadata": {
    "hidden": true
   },
   "outputs": [
    {
     "data": {
      "image/png": "[encoded data removed]",
      "text/plain": [
       "<Figure size 432x288 with 1 Axes>"
      ]
     },
     "metadata": {
      "needs_background": "light"
     },
     "output_type": "display_data"
    }
   ],
   "source": [
    "%matplotlib inline\n",
    "pca = PCA(n_components=4)\n",
    "pca.fit(xscal)\n",
    "xpca = pca.transform(xscal)\n",
    "plt.plot(np.cumsum(pca.explained_variance_ratio_))\n",
    "plt.xlabel('Number of components')\n",
    "plt.ylabel('Cumulative explained variance')\n",
    "plt.show()"
   ]
  },
  {
   "cell_type": "code",
   "execution_count": 495,
   "metadata": {
    "hidden": true
   },
   "outputs": [
    {
     "data": {
      "image/png": "[encoded data removed]",
      "text/plain": [
       "<Figure size 648x432 with 1 Axes>"
      ]
     },
     "metadata": {
      "needs_background": "light"
     },
     "output_type": "display_data"
    }
   ],
   "source": [
    "plt.figure(figsize=(9,6))\n",
    "plt.scatter(xpca[:,0],xpca[:,1])    \n",
    "plt.xlabel('PC 1')\n",
    "plt.ylabel('PC 2')\n",
    "plt.title('Figure PC1 y PC2')\n",
    "plt.show()"
   ]
  },
  {
   "cell_type": "markdown",
   "metadata": {
    "heading_collapsed": true
   },
   "source": [
    "# Cluster analysis"
   ]
  },
  {
   "cell_type": "markdown",
   "metadata": {
    "hidden": true
   },
   "source": [
    "## K - Means without PCA"
   ]
  },
  {
   "cell_type": "code",
   "execution_count": 496,
   "metadata": {
    "hidden": true,
    "scrolled": false
   },
   "outputs": [
    {
     "data": {
      "image/png": "[encoded data removed]",
      "text/plain": [
       "<Figure size 1080x360 with 3 Axes>"
      ]
     },
     "metadata": {
      "needs_background": "light"
     },
     "output_type": "display_data"
    }
   ],
   "source": [
    "dist_cent = []\n",
    "sil_list = []\n",
    "rand_list = []\n",
    "for k in range(2, 10):\n",
    "    # Creamos el objecto de cluster y lo fiteamos en la misma linea utilizado xscal\n",
    "    kmeans = KMeans(n_clusters=k, random_state=1).fit(xscal)\n",
    "    centers_i = kmeans.cluster_centers_ # Centroide de cada cluster\n",
    "    labels_i = kmeans.labels_ # Labels de cada muestra    \n",
    "    # Silhouttte Score\n",
    "    sil_score_i = silhouette_score(xscal,labels_i)\n",
    "    sil_list.append(sil_score_i)        \n",
    "    # Rand_Index\n",
    "    rand_index_i = rand_score(y,labels_i)\n",
    "    rand_list.append(rand_index_i)\n",
    "    dist_cent.append(kmeans.inertia_)    \n",
    "# Plot de metricas\n",
    "fig, axs = plt.subplots(1,3,figsize=(15,5))    \n",
    "axs[0].plot(range(2, 10), dist_cent, marker='s');\n",
    "axs[0].set_xlabel('N° K')\n",
    "axs[0].set_ylabel('Sum of squared distances')\n",
    "# Silhoute plot\n",
    "axs[1].plot(range(2, 10), sil_list, marker='s');\n",
    "axs[1].set_xlabel('N° K')\n",
    "axs[1].set_ylabel('Silhouette')\n",
    "# Rand Index plot\n",
    "axs[2].plot(range(2, 10), rand_list, marker='s');\n",
    "axs[2].set_xlabel('N° K')\n",
    "axs[2].set_ylabel('Rand Index')    \n",
    "plt.show()\n"
   ]
  },
  {
   "cell_type": "code",
   "execution_count": 497,
   "metadata": {
    "hidden": true
   },
   "outputs": [],
   "source": [
    "# Vamos a crear un dataframe para guardar los resultados\n",
    "results_df = pd.DataFrame(columns=['Cluster','Rand_','Sil_'])"
   ]
  },
  {
   "cell_type": "markdown",
   "metadata": {
    "hidden": true
   },
   "source": [
    "### Train KMeans with 2 clusters"
   ]
  },
  {
   "cell_type": "code",
   "execution_count": 498,
   "metadata": {
    "hidden": true,
    "scrolled": true
   },
   "outputs": [
    {
     "data": {
      "text/html": [
       "<div>\n",
       "<style scoped>\n",
       "    .dataframe tbody tr th:only-of-type {\n",
       "        vertical-align: middle;\n",
       "    }\n",
       "\n",
       "    .dataframe tbody tr th {\n",
       "        vertical-align: top;\n",
       "    }\n",
       "\n",
       "    .dataframe thead th {\n",
       "        text-align: right;\n",
       "    }\n",
       "</style>\n",
       "<table border=\"1\" class=\"dataframe\">\n",
       "  <thead>\n",
       "    <tr style=\"text-align: right;\">\n",
       "      <th></th>\n",
       "      <th>Cluster</th>\n",
       "      <th>Rand_</th>\n",
       "      <th>Sil_</th>\n",
       "    </tr>\n",
       "  </thead>\n",
       "  <tbody>\n",
       "    <tr>\n",
       "      <th>0</th>\n",
       "      <td>Kmeans2 without pca</td>\n",
       "      <td>0.776286</td>\n",
       "      <td>0.580184</td>\n",
       "    </tr>\n",
       "  </tbody>\n",
       "</table>\n",
       "</div>"
      ],
      "text/plain": [
       "               Cluster     Rand_      Sil_\n",
       "0  Kmeans2 without pca  0.776286  0.580184"
      ]
     },
     "execution_count": 498,
     "metadata": {},
     "output_type": "execute_result"
    }
   ],
   "source": [
    "kmeans2 = KMeans(n_clusters = 2, random_state = 10).fit(xscal)\n",
    "# Silhouttte Score\n",
    "sil_score = silhouette_score(xscal,kmeans2.labels_)\n",
    "# Rand_Index\n",
    "rand_index = rand_score(y,kmeans2.labels_)\n",
    "\n",
    "#Save outcome\n",
    "results_df = results_df.append({'Cluster':'Kmeans2 without pca',\n",
    "                                'Rand_':rand_index,\n",
    "                                'Sil_':sil_score},ignore_index=True)\n",
    "results_df"
   ]
  },
  {
   "cell_type": "markdown",
   "metadata": {
    "hidden": true
   },
   "source": [
    "### Train KMeans with 3 clusters"
   ]
  },
  {
   "cell_type": "code",
   "execution_count": 499,
   "metadata": {
    "hidden": true
   },
   "outputs": [
    {
     "data": {
      "text/html": [
       "<div>\n",
       "<style scoped>\n",
       "    .dataframe tbody tr th:only-of-type {\n",
       "        vertical-align: middle;\n",
       "    }\n",
       "\n",
       "    .dataframe tbody tr th {\n",
       "        vertical-align: top;\n",
       "    }\n",
       "\n",
       "    .dataframe thead th {\n",
       "        text-align: right;\n",
       "    }\n",
       "</style>\n",
       "<table border=\"1\" class=\"dataframe\">\n",
       "  <thead>\n",
       "    <tr style=\"text-align: right;\">\n",
       "      <th></th>\n",
       "      <th>Cluster</th>\n",
       "      <th>Rand_</th>\n",
       "      <th>Sil_</th>\n",
       "    </tr>\n",
       "  </thead>\n",
       "  <tbody>\n",
       "    <tr>\n",
       "      <th>0</th>\n",
       "      <td>Kmeans2 without pca</td>\n",
       "      <td>0.776286</td>\n",
       "      <td>0.580184</td>\n",
       "    </tr>\n",
       "    <tr>\n",
       "      <th>1</th>\n",
       "      <td>Kmeans3 without pca</td>\n",
       "      <td>0.819597</td>\n",
       "      <td>0.462149</td>\n",
       "    </tr>\n",
       "  </tbody>\n",
       "</table>\n",
       "</div>"
      ],
      "text/plain": [
       "               Cluster     Rand_      Sil_\n",
       "0  Kmeans2 without pca  0.776286  0.580184\n",
       "1  Kmeans3 without pca  0.819597  0.462149"
      ]
     },
     "execution_count": 499,
     "metadata": {},
     "output_type": "execute_result"
    }
   ],
   "source": [
    "kmeans3 = KMeans(n_clusters = 3, random_state = 10).fit(xscal)\n",
    "# Silhouttte Score\n",
    "sil_score = silhouette_score(xscal,kmeans3.labels_)\n",
    "# Rand_Index\n",
    "rand_index = rand_score(y,kmeans3.labels_)\n",
    "\n",
    "#Save outcome\n",
    "results_df = results_df.append({'Cluster':'Kmeans3 without pca',\n",
    "                                'Rand_':rand_index,\n",
    "                                'Sil_':sil_score},ignore_index=True)\n",
    "results_df"
   ]
  },
  {
   "cell_type": "markdown",
   "metadata": {
    "hidden": true
   },
   "source": [
    "## K - Means with  PCA"
   ]
  },
  {
   "cell_type": "markdown",
   "metadata": {
    "hidden": true
   },
   "source": [
    "### 2 PC"
   ]
  },
  {
   "cell_type": "code",
   "execution_count": 500,
   "metadata": {
    "hidden": true
   },
   "outputs": [],
   "source": [
    "reduced_dim = 2\n",
    "xpca_rd = xpca[:,0:reduced_dim]"
   ]
  },
  {
   "cell_type": "code",
   "execution_count": 501,
   "metadata": {
    "hidden": true
   },
   "outputs": [],
   "source": [
    "# Generamos el modelo PCA + K-means\n",
    "kmeans_rd = KMeans(n_clusters=3,random_state=10).fit(xpca_rd)"
   ]
  },
  {
   "cell_type": "code",
   "execution_count": 502,
   "metadata": {
    "hidden": true,
    "scrolled": true
   },
   "outputs": [
    {
     "data": {
      "text/plain": [
       "array([[-2.22730524,  0.3456925 ],\n",
       "       [ 0.41801367, -0.94356957],\n",
       "       [ 1.63471505,  0.48118669]])"
      ]
     },
     "execution_count": 502,
     "metadata": {},
     "output_type": "execute_result"
    }
   ],
   "source": [
    "# visualizamos los centroides finales de cada cluster\n",
    "centers_rd = kmeans_rd.cluster_centers_\n",
    "centers_rd"
   ]
  },
  {
   "cell_type": "markdown",
   "metadata": {
    "hidden": true
   },
   "source": [
    "#### Scatter plot con 2 PC:"
   ]
  },
  {
   "cell_type": "code",
   "execution_count": 503,
   "metadata": {
    "hidden": true,
    "scrolled": false
   },
   "outputs": [
    {
     "data": {
      "image/png": "[encoded data removed]",
      "text/plain": [
       "<Figure size 1080x360 with 2 Axes>"
      ]
     },
     "metadata": {
      "needs_background": "light"
     },
     "output_type": "display_data"
    }
   ],
   "source": [
    "fig,axs = plt.subplots(1,2,figsize=(15,5))\n",
    "#Verdadero\n",
    "axs[0].scatter(xpca[:,0],xpca[:,1],c=y,cmap='viridis')    \n",
    "axs[0].set_xlabel('PC 1')\n",
    "axs[0].set_ylabel('PC 2')\n",
    "axs[0].set_title('Clustering True')\n",
    "# PCA + K-Means\n",
    "axs[1].scatter(xpca_rd[:,0],xpca_rd[:,1],c=kmeans_rd.labels_.astype(float),cmap='viridis')\n",
    "axs[1].scatter(centers_rd[:,0], centers_rd[:,1], marker=\"x\", color='r',s=150)\n",
    "axs[1].set_xlabel('PC 1')\n",
    "axs[1].set_ylabel('PC 2')\n",
    "axs[1].set_title('Clustering K-means+RD')\n",
    "plt.show()"
   ]
  },
  {
   "cell_type": "markdown",
   "metadata": {
    "hidden": true
   },
   "source": [
    "#### Metrics"
   ]
  },
  {
   "cell_type": "code",
   "execution_count": 504,
   "metadata": {
    "hidden": true
   },
   "outputs": [
    {
     "data": {
      "text/html": [
       "<div>\n",
       "<style scoped>\n",
       "    .dataframe tbody tr th:only-of-type {\n",
       "        vertical-align: middle;\n",
       "    }\n",
       "\n",
       "    .dataframe tbody tr th {\n",
       "        vertical-align: top;\n",
       "    }\n",
       "\n",
       "    .dataframe thead th {\n",
       "        text-align: right;\n",
       "    }\n",
       "</style>\n",
       "<table border=\"1\" class=\"dataframe\">\n",
       "  <thead>\n",
       "    <tr style=\"text-align: right;\">\n",
       "      <th></th>\n",
       "      <th>Cluster</th>\n",
       "      <th>Rand_</th>\n",
       "      <th>Sil_</th>\n",
       "    </tr>\n",
       "  </thead>\n",
       "  <tbody>\n",
       "    <tr>\n",
       "      <th>0</th>\n",
       "      <td>Kmeans2 without pca</td>\n",
       "      <td>0.776286</td>\n",
       "      <td>0.580184</td>\n",
       "    </tr>\n",
       "    <tr>\n",
       "      <th>1</th>\n",
       "      <td>Kmeans3 without pca</td>\n",
       "      <td>0.819597</td>\n",
       "      <td>0.462149</td>\n",
       "    </tr>\n",
       "    <tr>\n",
       "      <th>2</th>\n",
       "      <td>2 PC + Kmeans</td>\n",
       "      <td>0.843132</td>\n",
       "      <td>0.503895</td>\n",
       "    </tr>\n",
       "  </tbody>\n",
       "</table>\n",
       "</div>"
      ],
      "text/plain": [
       "               Cluster     Rand_      Sil_\n",
       "0  Kmeans2 without pca  0.776286  0.580184\n",
       "1  Kmeans3 without pca  0.819597  0.462149\n",
       "2        2 PC + Kmeans  0.843132  0.503895"
      ]
     },
     "execution_count": 504,
     "metadata": {},
     "output_type": "execute_result"
    }
   ],
   "source": [
    "# Silhouttte Score\n",
    "sil_score = silhouette_score(xpca_rd,kmeans_rd.labels_)\n",
    "# Rand_Index\n",
    "rand_index = rand_score(y,kmeans_rd.labels_)\n",
    "\n",
    "#Guardamos los resultados\n",
    "results_df = results_df.append({'Cluster':'2 PC + Kmeans',\n",
    "                                'Rand_':rand_index,\n",
    "                                'Sil_':sil_score},ignore_index=True)\n",
    "results_df"
   ]
  },
  {
   "cell_type": "markdown",
   "metadata": {
    "hidden": true
   },
   "source": [
    "### 3 PC"
   ]
  },
  {
   "cell_type": "code",
   "execution_count": 505,
   "metadata": {
    "hidden": true,
    "scrolled": false
   },
   "outputs": [
    {
     "data": {
      "text/plain": [
       "array([[-2.22019328,  0.29222482, -0.04395511],\n",
       "       [ 1.70578273,  0.58803896, -0.02280596],\n",
       "       [ 0.56023256, -0.8237906 ,  0.06331619]])"
      ]
     },
     "execution_count": 505,
     "metadata": {},
     "output_type": "execute_result"
    }
   ],
   "source": [
    "# Cantidad de PC quer queremos\n",
    "reduced_dim = 3\n",
    "xpca_rd = xpca[:,0:reduced_dim]\n",
    "# Generamos el modelo PCA + K-means \n",
    "kmeans_rd = KMeans(n_clusters=3, \n",
    "                   random_state=10).fit(xpca_rd)\n",
    "centers_rd = kmeans_rd.cluster_centers_\n",
    "centers_rd\n"
   ]
  },
  {
   "cell_type": "markdown",
   "metadata": {
    "hidden": true
   },
   "source": [
    "#### Scatter plot con 3 PC:"
   ]
  },
  {
   "cell_type": "code",
   "execution_count": 506,
   "metadata": {
    "hidden": true
   },
   "outputs": [
    {
     "data": {
      "application/javascript": [
       "/* Put everything inside the global mpl namespace */\n",
       "/* global mpl */\n",
       "window.mpl = {};\n",
       "\n",
       "mpl.get_websocket_type = function () {\n",
       "    if (typeof WebSocket !== 'undefined') {\n",
       "        return WebSocket;\n",
       "    } else if (typeof MozWebSocket !== 'undefined') {\n",
       "        return MozWebSocket;\n",
       "    } else {\n",
       "        alert(\n",
       "            'Your browser does not have WebSocket support. ' +\n",
       "                'Please try Chrome, Safari or Firefox ≥ 6. ' +\n",
       "                'Firefox 4 and 5 are also supported but you ' +\n",
       "                'have to enable WebSockets in about:config.'\n",
       "        );\n",
       "    }\n",
       "};\n",
       "\n",
       "mpl.figure = function (figure_id, websocket, ondownload, parent_element) {\n",
       "    this.id = figure_id;\n",
       "\n",
       "    this.ws = websocket;\n",
       "\n",
       "    this.supports_binary = this.ws.binaryType !== undefined;\n",
       "\n",
       "    if (!this.supports_binary) {\n",
       "        var warnings = document.getElementById('mpl-warnings');\n",
       "        if (warnings) {\n",
       "            warnings.style.display = 'block';\n",
       "            warnings.textContent =\n",
       "                'This browser does not support binary websocket messages. ' +\n",
       "                'Performance may be slow.';\n",
       "        }\n",
       "    }\n",
       "\n",
       "    this.imageObj = new Image();\n",
       "\n",
       "    this.context = undefined;\n",
       "    this.message = undefined;\n",
       "    this.canvas = undefined;\n",
       "    this.rubberband_canvas = undefined;\n",
       "    this.rubberband_context = undefined;\n",
       "    this.format_dropdown = undefined;\n",
       "\n",
       "    this.image_mode = 'full';\n",
       "\n",
       "    this.root = document.createElement('div');\n",
       "    this.root.setAttribute('style', 'display: inline-block');\n",
       "    this._root_extra_style(this.root);\n",
       "\n",
       "    parent_element.appendChild(this.root);\n",
       "\n",
       "    this._init_header(this);\n",
       "    this._init_canvas(this);\n",
       "    this._init_toolbar(this);\n",
       "\n",
       "    var fig = this;\n",
       "\n",
       "    this.waiting = false;\n",
       "\n",
       "    this.ws.onopen = function () {\n",
       "        fig.send_message('supports_binary', { value: fig.supports_binary });\n",
       "        fig.send_message('send_image_mode', {});\n",
       "        if (fig.ratio !== 1) {\n",
       "            fig.send_message('set_device_pixel_ratio', {\n",
       "                device_pixel_ratio: fig.ratio,\n",
       "            });\n",
       "        }\n",
       "        fig.send_message('refresh', {});\n",
       "    };\n",
       "\n",
       "    this.imageObj.onload = function () {\n",
       "        if (fig.image_mode === 'full') {\n",
       "            // Full images could contain transparency (where diff images\n",
       "            // almost always do), so we need to clear the canvas so that\n",
       "            // there is no ghosting.\n",
       "            fig.context.clearRect(0, 0, fig.canvas.width, fig.canvas.height);\n",
       "        }\n",
       "        fig.context.drawImage(fig.imageObj, 0, 0);\n",
       "    };\n",
       "\n",
       "    this.imageObj.onunload = function () {\n",
       "        fig.ws.close();\n",
       "    };\n",
       "\n",
       "    this.ws.onmessage = this._make_on_message_function(this);\n",
       "\n",
       "    this.ondownload = ondownload;\n",
       "};\n",
       "\n",
       "mpl.figure.prototype._init_header = function () {\n",
       "    var titlebar = document.createElement('div');\n",
       "    titlebar.classList =\n",
       "        'ui-dialog-titlebar ui-widget-header ui-corner-all ui-helper-clearfix';\n",
       "    var titletext = document.createElement('div');\n",
       "    titletext.classList = 'ui-dialog-title';\n",
       "    titletext.setAttribute(\n",
       "        'style',\n",
       "        'width: 100%; text-align: center; padding: 3px;'\n",
       "    );\n",
       "    titlebar.appendChild(titletext);\n",
       "    this.root.appendChild(titlebar);\n",
       "    this.header = titletext;\n",
       "};\n",
       "\n",
       "mpl.figure.prototype._canvas_extra_style = function (_canvas_div) {};\n",
       "\n",
       "mpl.figure.prototype._root_extra_style = function (_canvas_div) {};\n",
       "\n",
       "mpl.figure.prototype._init_canvas = function () {\n",
       "    var fig = this;\n",
       "\n",
       "    var canvas_div = (this.canvas_div = document.createElement('div'));\n",
       "    canvas_div.setAttribute(\n",
       "        'style',\n",
       "        'border: 1px solid #ddd;' +\n",
       "            'box-sizing: content-box;' +\n",
       "            'clear: both;' +\n",
       "            'min-height: 1px;' +\n",
       "            'min-width: 1px;' +\n",
       "            'outline: 0;' +\n",
       "            'overflow: hidden;' +\n",
       "            'position: relative;' +\n",
       "            'resize: both;'\n",
       "    );\n",
       "\n",
       "    function on_keyboard_event_closure(name) {\n",
       "        return function (event) {\n",
       "            return fig.key_event(event, name);\n",
       "        };\n",
       "    }\n",
       "\n",
       "    canvas_div.addEventListener(\n",
       "        'keydown',\n",
       "        on_keyboard_event_closure('key_press')\n",
       "    );\n",
       "    canvas_div.addEventListener(\n",
       "        'keyup',\n",
       "        on_keyboard_event_closure('key_release')\n",
       "    );\n",
       "\n",
       "    this._canvas_extra_style(canvas_div);\n",
       "    this.root.appendChild(canvas_div);\n",
       "\n",
       "    var canvas = (this.canvas = document.createElement('canvas'));\n",
       "    canvas.classList.add('mpl-canvas');\n",
       "    canvas.setAttribute('style', 'box-sizing: content-box;');\n",
       "\n",
       "    this.context = canvas.getContext('2d');\n",
       "\n",
       "    var backingStore =\n",
       "        this.context.backingStorePixelRatio ||\n",
       "        this.context.webkitBackingStorePixelRatio ||\n",
       "        this.context.mozBackingStorePixelRatio ||\n",
       "        this.context.msBackingStorePixelRatio ||\n",
       "        this.context.oBackingStorePixelRatio ||\n",
       "        this.context.backingStorePixelRatio ||\n",
       "        1;\n",
       "\n",
       "    this.ratio = (window.devicePixelRatio || 1) / backingStore;\n",
       "\n",
       "    var rubberband_canvas = (this.rubberband_canvas = document.createElement(\n",
       "        'canvas'\n",
       "    ));\n",
       "    rubberband_canvas.setAttribute(\n",
       "        'style',\n",
       "        'box-sizing: content-box; position: absolute; left: 0; top: 0; z-index: 1;'\n",
       "    );\n",
       "\n",
       "    // Apply a ponyfill if ResizeObserver is not implemented by browser.\n",
       "    if (this.ResizeObserver === undefined) {\n",
       "        if (window.ResizeObserver !== undefined) {\n",
       "            this.ResizeObserver = window.ResizeObserver;\n",
       "        } else {\n",
       "            var obs = _JSXTOOLS_RESIZE_OBSERVER({});\n",
       "            this.ResizeObserver = obs.ResizeObserver;\n",
       "        }\n",
       "    }\n",
       "\n",
       "    this.resizeObserverInstance = new this.ResizeObserver(function (entries) {\n",
       "        var nentries = entries.length;\n",
       "        for (var i = 0; i < nentries; i++) {\n",
       "            var entry = entries[i];\n",
       "            var width, height;\n",
       "            if (entry.contentBoxSize) {\n",
       "                if (entry.contentBoxSize instanceof Array) {\n",
       "                    // Chrome 84 implements new version of spec.\n",
       "                    width = entry.contentBoxSize[0].inlineSize;\n",
       "                    height = entry.contentBoxSize[0].blockSize;\n",
       "                } else {\n",
       "                    // Firefox implements old version of spec.\n",
       "                    width = entry.contentBoxSize.inlineSize;\n",
       "                    height = entry.contentBoxSize.blockSize;\n",
       "                }\n",
       "            } else {\n",
       "                // Chrome <84 implements even older version of spec.\n",
       "                width = entry.contentRect.width;\n",
       "                height = entry.contentRect.height;\n",
       "            }\n",
       "\n",
       "            // Keep the size of the canvas and rubber band canvas in sync with\n",
       "            // the canvas container.\n",
       "            if (entry.devicePixelContentBoxSize) {\n",
       "                // Chrome 84 implements new version of spec.\n",
       "                canvas.setAttribute(\n",
       "                    'width',\n",
       "                    entry.devicePixelContentBoxSize[0].inlineSize\n",
       "                );\n",
       "                canvas.setAttribute(\n",
       "                    'height',\n",
       "                    entry.devicePixelContentBoxSize[0].blockSize\n",
       "                );\n",
       "            } else {\n",
       "                canvas.setAttribute('width', width * fig.ratio);\n",
       "                canvas.setAttribute('height', height * fig.ratio);\n",
       "            }\n",
       "            canvas.setAttribute(\n",
       "                'style',\n",
       "                'width: ' + width + 'px; height: ' + height + 'px;'\n",
       "            );\n",
       "\n",
       "            rubberband_canvas.setAttribute('width', width);\n",
       "            rubberband_canvas.setAttribute('height', height);\n",
       "\n",
       "            // And update the size in Python. We ignore the initial 0/0 size\n",
       "            // that occurs as the element is placed into the DOM, which should\n",
       "            // otherwise not happen due to the minimum size styling.\n",
       "            if (fig.ws.readyState == 1 && width != 0 && height != 0) {\n",
       "                fig.request_resize(width, height);\n",
       "            }\n",
       "        }\n",
       "    });\n",
       "    this.resizeObserverInstance.observe(canvas_div);\n",
       "\n",
       "    function on_mouse_event_closure(name) {\n",
       "        return function (event) {\n",
       "            return fig.mouse_event(event, name);\n",
       "        };\n",
       "    }\n",
       "\n",
       "    rubberband_canvas.addEventListener(\n",
       "        'mousedown',\n",
       "        on_mouse_event_closure('button_press')\n",
       "    );\n",
       "    rubberband_canvas.addEventListener(\n",
       "        'mouseup',\n",
       "        on_mouse_event_closure('button_release')\n",
       "    );\n",
       "    rubberband_canvas.addEventListener(\n",
       "        'dblclick',\n",
       "        on_mouse_event_closure('dblclick')\n",
       "    );\n",
       "    // Throttle sequential mouse events to 1 every 20ms.\n",
       "    rubberband_canvas.addEventListener(\n",
       "        'mousemove',\n",
       "        on_mouse_event_closure('motion_notify')\n",
       "    );\n",
       "\n",
       "    rubberband_canvas.addEventListener(\n",
       "        'mouseenter',\n",
       "        on_mouse_event_closure('figure_enter')\n",
       "    );\n",
       "    rubberband_canvas.addEventListener(\n",
       "        'mouseleave',\n",
       "        on_mouse_event_closure('figure_leave')\n",
       "    );\n",
       "\n",
       "    canvas_div.addEventListener('wheel', function (event) {\n",
       "        if (event.deltaY < 0) {\n",
       "            event.step = 1;\n",
       "        } else {\n",
       "            event.step = -1;\n",
       "        }\n",
       "        on_mouse_event_closure('scroll')(event);\n",
       "    });\n",
       "\n",
       "    canvas_div.appendChild(canvas);\n",
       "    canvas_div.appendChild(rubberband_canvas);\n",
       "\n",
       "    this.rubberband_context = rubberband_canvas.getContext('2d');\n",
       "    this.rubberband_context.strokeStyle = '#000000';\n",
       "\n",
       "    this._resize_canvas = function (width, height, forward) {\n",
       "        if (forward) {\n",
       "            canvas_div.style.width = width + 'px';\n",
       "            canvas_div.style.height = height + 'px';\n",
       "        }\n",
       "    };\n",
       "\n",
       "    // Disable right mouse context menu.\n",
       "    this.rubberband_canvas.addEventListener('contextmenu', function (_e) {\n",
       "        event.preventDefault();\n",
       "        return false;\n",
       "    });\n",
       "\n",
       "    function set_focus() {\n",
       "        canvas.focus();\n",
       "        canvas_div.focus();\n",
       "    }\n",
       "\n",
       "    window.setTimeout(set_focus, 100);\n",
       "};\n",
       "\n",
       "mpl.figure.prototype._init_toolbar = function () {\n",
       "    var fig = this;\n",
       "\n",
       "    var toolbar = document.createElement('div');\n",
       "    toolbar.classList = 'mpl-toolbar';\n",
       "    this.root.appendChild(toolbar);\n",
       "\n",
       "    function on_click_closure(name) {\n",
       "        return function (_event) {\n",
       "            return fig.toolbar_button_onclick(name);\n",
       "        };\n",
       "    }\n",
       "\n",
       "    function on_mouseover_closure(tooltip) {\n",
       "        return function (event) {\n",
       "            if (!event.currentTarget.disabled) {\n",
       "                return fig.toolbar_button_onmouseover(tooltip);\n",
       "            }\n",
       "        };\n",
       "    }\n",
       "\n",
       "    fig.buttons = {};\n",
       "    var buttonGroup = document.createElement('div');\n",
       "    buttonGroup.classList = 'mpl-button-group';\n",
       "    for (var toolbar_ind in mpl.toolbar_items) {\n",
       "        var name = mpl.toolbar_items[toolbar_ind][0];\n",
       "        var tooltip = mpl.toolbar_items[toolbar_ind][1];\n",
       "        var image = mpl.toolbar_items[toolbar_ind][2];\n",
       "        var method_name = mpl.toolbar_items[toolbar_ind][3];\n",
       "\n",
       "        if (!name) {\n",
       "            /* Instead of a spacer, we start a new button group. */\n",
       "            if (buttonGroup.hasChildNodes()) {\n",
       "                toolbar.appendChild(buttonGroup);\n",
       "            }\n",
       "            buttonGroup = document.createElement('div');\n",
       "            buttonGroup.classList = 'mpl-button-group';\n",
       "            continue;\n",
       "        }\n",
       "\n",
       "        var button = (fig.buttons[name] = document.createElement('button'));\n",
       "        button.classList = 'mpl-widget';\n",
       "        button.setAttribute('role', 'button');\n",
       "        button.setAttribute('aria-disabled', 'false');\n",
       "        button.addEventListener('click', on_click_closure(method_name));\n",
       "        button.addEventListener('mouseover', on_mouseover_closure(tooltip));\n",
       "\n",
       "        var icon_img = document.createElement('img');\n",
       "        icon_img.src = '_images/' + image + '.png';\n",
       "        icon_img.srcset = '_images/' + image + '_large.png 2x';\n",
       "        icon_img.alt = tooltip;\n",
       "        button.appendChild(icon_img);\n",
       "\n",
       "        buttonGroup.appendChild(button);\n",
       "    }\n",
       "\n",
       "    if (buttonGroup.hasChildNodes()) {\n",
       "        toolbar.appendChild(buttonGroup);\n",
       "    }\n",
       "\n",
       "    var fmt_picker = document.createElement('select');\n",
       "    fmt_picker.classList = 'mpl-widget';\n",
       "    toolbar.appendChild(fmt_picker);\n",
       "    this.format_dropdown = fmt_picker;\n",
       "\n",
       "    for (var ind in mpl.extensions) {\n",
       "        var fmt = mpl.extensions[ind];\n",
       "        var option = document.createElement('option');\n",
       "        option.selected = fmt === mpl.default_extension;\n",
       "        option.innerHTML = fmt;\n",
       "        fmt_picker.appendChild(option);\n",
       "    }\n",
       "\n",
       "    var status_bar = document.createElement('span');\n",
       "    status_bar.classList = 'mpl-message';\n",
       "    toolbar.appendChild(status_bar);\n",
       "    this.message = status_bar;\n",
       "};\n",
       "\n",
       "mpl.figure.prototype.request_resize = function (x_pixels, y_pixels) {\n",
       "    // Request matplotlib to resize the figure. Matplotlib will then trigger a resize in the client,\n",
       "    // which will in turn request a refresh of the image.\n",
       "    this.send_message('resize', { width: x_pixels, height: y_pixels });\n",
       "};\n",
       "\n",
       "mpl.figure.prototype.send_message = function (type, properties) {\n",
       "    properties['type'] = type;\n",
       "    properties['figure_id'] = this.id;\n",
       "    this.ws.send(JSON.stringify(properties));\n",
       "};\n",
       "\n",
       "mpl.figure.prototype.send_draw_message = function () {\n",
       "    if (!this.waiting) {\n",
       "        this.waiting = true;\n",
       "        this.ws.send(JSON.stringify({ type: 'draw', figure_id: this.id }));\n",
       "    }\n",
       "};\n",
       "\n",
       "mpl.figure.prototype.handle_save = function (fig, _msg) {\n",
       "    var format_dropdown = fig.format_dropdown;\n",
       "    var format = format_dropdown.options[format_dropdown.selectedIndex].value;\n",
       "    fig.ondownload(fig, format);\n",
       "};\n",
       "\n",
       "mpl.figure.prototype.handle_resize = function (fig, msg) {\n",
       "    var size = msg['size'];\n",
       "    if (size[0] !== fig.canvas.width || size[1] !== fig.canvas.height) {\n",
       "        fig._resize_canvas(size[0], size[1], msg['forward']);\n",
       "        fig.send_message('refresh', {});\n",
       "    }\n",
       "};\n",
       "\n",
       "mpl.figure.prototype.handle_rubberband = function (fig, msg) {\n",
       "    var x0 = msg['x0'] / fig.ratio;\n",
       "    var y0 = (fig.canvas.height - msg['y0']) / fig.ratio;\n",
       "    var x1 = msg['x1'] / fig.ratio;\n",
       "    var y1 = (fig.canvas.height - msg['y1']) / fig.ratio;\n",
       "    x0 = Math.floor(x0) + 0.5;\n",
       "    y0 = Math.floor(y0) + 0.5;\n",
       "    x1 = Math.floor(x1) + 0.5;\n",
       "    y1 = Math.floor(y1) + 0.5;\n",
       "    var min_x = Math.min(x0, x1);\n",
       "    var min_y = Math.min(y0, y1);\n",
       "    var width = Math.abs(x1 - x0);\n",
       "    var height = Math.abs(y1 - y0);\n",
       "\n",
       "    fig.rubberband_context.clearRect(\n",
       "        0,\n",
       "        0,\n",
       "        fig.canvas.width / fig.ratio,\n",
       "        fig.canvas.height / fig.ratio\n",
       "    );\n",
       "\n",
       "    fig.rubberband_context.strokeRect(min_x, min_y, width, height);\n",
       "};\n",
       "\n",
       "mpl.figure.prototype.handle_figure_label = function (fig, msg) {\n",
       "    // Updates the figure title.\n",
       "    fig.header.textContent = msg['label'];\n",
       "};\n",
       "\n",
       "mpl.figure.prototype.handle_cursor = function (fig, msg) {\n",
       "    fig.rubberband_canvas.style.cursor = msg['cursor'];\n",
       "};\n",
       "\n",
       "mpl.figure.prototype.handle_message = function (fig, msg) {\n",
       "    fig.message.textContent = msg['message'];\n",
       "};\n",
       "\n",
       "mpl.figure.prototype.handle_draw = function (fig, _msg) {\n",
       "    // Request the server to send over a new figure.\n",
       "    fig.send_draw_message();\n",
       "};\n",
       "\n",
       "mpl.figure.prototype.handle_image_mode = function (fig, msg) {\n",
       "    fig.image_mode = msg['mode'];\n",
       "};\n",
       "\n",
       "mpl.figure.prototype.handle_history_buttons = function (fig, msg) {\n",
       "    for (var key in msg) {\n",
       "        if (!(key in fig.buttons)) {\n",
       "            continue;\n",
       "        }\n",
       "        fig.buttons[key].disabled = !msg[key];\n",
       "        fig.buttons[key].setAttribute('aria-disabled', !msg[key]);\n",
       "    }\n",
       "};\n",
       "\n",
       "mpl.figure.prototype.handle_navigate_mode = function (fig, msg) {\n",
       "    if (msg['mode'] === 'PAN') {\n",
       "        fig.buttons['Pan'].classList.add('active');\n",
       "        fig.buttons['Zoom'].classList.remove('active');\n",
       "    } else if (msg['mode'] === 'ZOOM') {\n",
       "        fig.buttons['Pan'].classList.remove('active');\n",
       "        fig.buttons['Zoom'].classList.add('active');\n",
       "    } else {\n",
       "        fig.buttons['Pan'].classList.remove('active');\n",
       "        fig.buttons['Zoom'].classList.remove('active');\n",
       "    }\n",
       "};\n",
       "\n",
       "mpl.figure.prototype.updated_canvas_event = function () {\n",
       "    // Called whenever the canvas gets updated.\n",
       "    this.send_message('ack', {});\n",
       "};\n",
       "\n",
       "// A function to construct a web socket function for onmessage handling.\n",
       "// Called in the figure constructor.\n",
       "mpl.figure.prototype._make_on_message_function = function (fig) {\n",
       "    return function socket_on_message(evt) {\n",
       "        if (evt.data instanceof Blob) {\n",
       "            var img = evt.data;\n",
       "            if (img.type !== 'image/png') {\n",
       "                /* FIXME: We get \"Resource interpreted as Image but\n",
       "                 * transferred with MIME type text/plain:\" errors on\n",
       "                 * Chrome.  But how to set the MIME type?  It doesn't seem\n",
       "                 * to be part of the websocket stream */\n",
       "                img.type = 'image/png';\n",
       "            }\n",
       "\n",
       "            /* Free the memory for the previous frames */\n",
       "            if (fig.imageObj.src) {\n",
       "                (window.URL || window.webkitURL).revokeObjectURL(\n",
       "                    fig.imageObj.src\n",
       "                );\n",
       "            }\n",
       "\n",
       "            fig.imageObj.src = (window.URL || window.webkitURL).createObjectURL(\n",
       "                img\n",
       "            );\n",
       "            fig.updated_canvas_event();\n",
       "            fig.waiting = false;\n",
       "            return;\n",
       "        } else if (\n",
       "            typeof evt.data === 'string' &&\n",
       "            evt.data.slice(0, 21) === 'data:image/png;base64'\n",
       "        ) {\n",
       "            fig.imageObj.src = evt.data;\n",
       "            fig.updated_canvas_event();\n",
       "            fig.waiting = false;\n",
       "            return;\n",
       "        }\n",
       "\n",
       "        var msg = JSON.parse(evt.data);\n",
       "        var msg_type = msg['type'];\n",
       "\n",
       "        // Call the  \"handle_{type}\" callback, which takes\n",
       "        // the figure and JSON message as its only arguments.\n",
       "        try {\n",
       "            var callback = fig['handle_' + msg_type];\n",
       "        } catch (e) {\n",
       "            console.log(\n",
       "                \"No handler for the '\" + msg_type + \"' message type: \",\n",
       "                msg\n",
       "            );\n",
       "            return;\n",
       "        }\n",
       "\n",
       "        if (callback) {\n",
       "            try {\n",
       "                // console.log(\"Handling '\" + msg_type + \"' message: \", msg);\n",
       "                callback(fig, msg);\n",
       "            } catch (e) {\n",
       "                console.log(\n",
       "                    \"Exception inside the 'handler_\" + msg_type + \"' callback:\",\n",
       "                    e,\n",
       "                    e.stack,\n",
       "                    msg\n",
       "                );\n",
       "            }\n",
       "        }\n",
       "    };\n",
       "};\n",
       "\n",
       "// from https://stackoverflow.com/questions/1114465/getting-mouse-location-in-canvas\n",
       "mpl.findpos = function (e) {\n",
       "    //this section is from http://www.quirksmode.org/js/events_properties.html\n",
       "    var targ;\n",
       "    if (!e) {\n",
       "        e = window.event;\n",
       "    }\n",
       "    if (e.target) {\n",
       "        targ = e.target;\n",
       "    } else if (e.srcElement) {\n",
       "        targ = e.srcElement;\n",
       "    }\n",
       "    if (targ.nodeType === 3) {\n",
       "        // defeat Safari bug\n",
       "        targ = targ.parentNode;\n",
       "    }\n",
       "\n",
       "    // pageX,Y are the mouse positions relative to the document\n",
       "    var boundingRect = targ.getBoundingClientRect();\n",
       "    var x = e.pageX - (boundingRect.left + document.body.scrollLeft);\n",
       "    var y = e.pageY - (boundingRect.top + document.body.scrollTop);\n",
       "\n",
       "    return { x: x, y: y };\n",
       "};\n",
       "\n",
       "/*\n",
       " * return a copy of an object with only non-object keys\n",
       " * we need this to avoid circular references\n",
       " * https://stackoverflow.com/a/24161582/3208463\n",
       " */\n",
       "function simpleKeys(original) {\n",
       "    return Object.keys(original).reduce(function (obj, key) {\n",
       "        if (typeof original[key] !== 'object') {\n",
       "            obj[key] = original[key];\n",
       "        }\n",
       "        return obj;\n",
       "    }, {});\n",
       "}\n",
       "\n",
       "mpl.figure.prototype.mouse_event = function (event, name) {\n",
       "    var canvas_pos = mpl.findpos(event);\n",
       "\n",
       "    if (name === 'button_press') {\n",
       "        this.canvas.focus();\n",
       "        this.canvas_div.focus();\n",
       "    }\n",
       "\n",
       "    var x = canvas_pos.x * this.ratio;\n",
       "    var y = canvas_pos.y * this.ratio;\n",
       "\n",
       "    this.send_message(name, {\n",
       "        x: x,\n",
       "        y: y,\n",
       "        button: event.button,\n",
       "        step: event.step,\n",
       "        guiEvent: simpleKeys(event),\n",
       "    });\n",
       "\n",
       "    /* This prevents the web browser from automatically changing to\n",
       "     * the text insertion cursor when the button is pressed.  We want\n",
       "     * to control all of the cursor setting manually through the\n",
       "     * 'cursor' event from matplotlib */\n",
       "    event.preventDefault();\n",
       "    return false;\n",
       "};\n",
       "\n",
       "mpl.figure.prototype._key_event_extra = function (_event, _name) {\n",
       "    // Handle any extra behaviour associated with a key event\n",
       "};\n",
       "\n",
       "mpl.figure.prototype.key_event = function (event, name) {\n",
       "    // Prevent repeat events\n",
       "    if (name === 'key_press') {\n",
       "        if (event.key === this._key) {\n",
       "            return;\n",
       "        } else {\n",
       "            this._key = event.key;\n",
       "        }\n",
       "    }\n",
       "    if (name === 'key_release') {\n",
       "        this._key = null;\n",
       "    }\n",
       "\n",
       "    var value = '';\n",
       "    if (event.ctrlKey && event.key !== 'Control') {\n",
       "        value += 'ctrl+';\n",
       "    }\n",
       "    else if (event.altKey && event.key !== 'Alt') {\n",
       "        value += 'alt+';\n",
       "    }\n",
       "    else if (event.shiftKey && event.key !== 'Shift') {\n",
       "        value += 'shift+';\n",
       "    }\n",
       "\n",
       "    value += 'k' + event.key;\n",
       "\n",
       "    this._key_event_extra(event, name);\n",
       "\n",
       "    this.send_message(name, { key: value, guiEvent: simpleKeys(event) });\n",
       "    return false;\n",
       "};\n",
       "\n",
       "mpl.figure.prototype.toolbar_button_onclick = function (name) {\n",
       "    if (name === 'download') {\n",
       "        this.handle_save(this, null);\n",
       "    } else {\n",
       "        this.send_message('toolbar_button', { name: name });\n",
       "    }\n",
       "};\n",
       "\n",
       "mpl.figure.prototype.toolbar_button_onmouseover = function (tooltip) {\n",
       "    this.message.textContent = tooltip;\n",
       "};\n",
       "\n",
       "///////////////// REMAINING CONTENT GENERATED BY embed_js.py /////////////////\n",
       "// prettier-ignore\n",
       "var _JSXTOOLS_RESIZE_OBSERVER=function(A){var t,i=new WeakMap,n=new WeakMap,a=new WeakMap,r=new WeakMap,o=new Set;function s(e){if(!(this instanceof s))throw new TypeError(\"Constructor requires 'new' operator\");i.set(this,e)}function h(){throw new TypeError(\"Function is not a constructor\")}function c(e,t,i,n){e=0 in arguments?Number(arguments[0]):0,t=1 in arguments?Number(arguments[1]):0,i=2 in arguments?Number(arguments[2]):0,n=3 in arguments?Number(arguments[3]):0,this.right=(this.x=this.left=e)+(this.width=i),this.bottom=(this.y=this.top=t)+(this.height=n),Object.freeze(this)}function d(){t=requestAnimationFrame(d);var s=new WeakMap,p=new Set;o.forEach((function(t){r.get(t).forEach((function(i){var r=t instanceof window.SVGElement,o=a.get(t),d=r?0:parseFloat(o.paddingTop),f=r?0:parseFloat(o.paddingRight),l=r?0:parseFloat(o.paddingBottom),u=r?0:parseFloat(o.paddingLeft),g=r?0:parseFloat(o.borderTopWidth),m=r?0:parseFloat(o.borderRightWidth),w=r?0:parseFloat(o.borderBottomWidth),b=u+f,F=d+l,v=(r?0:parseFloat(o.borderLeftWidth))+m,W=g+w,y=r?0:t.offsetHeight-W-t.clientHeight,E=r?0:t.offsetWidth-v-t.clientWidth,R=b+v,z=F+W,M=r?t.width:parseFloat(o.width)-R-E,O=r?t.height:parseFloat(o.height)-z-y;if(n.has(t)){var k=n.get(t);if(k[0]===M&&k[1]===O)return}n.set(t,[M,O]);var S=Object.create(h.prototype);S.target=t,S.contentRect=new c(u,d,M,O),s.has(i)||(s.set(i,[]),p.add(i)),s.get(i).push(S)}))})),p.forEach((function(e){i.get(e).call(e,s.get(e),e)}))}return s.prototype.observe=function(i){if(i instanceof window.Element){r.has(i)||(r.set(i,new Set),o.add(i),a.set(i,window.getComputedStyle(i)));var n=r.get(i);n.has(this)||n.add(this),cancelAnimationFrame(t),t=requestAnimationFrame(d)}},s.prototype.unobserve=function(i){if(i instanceof window.Element&&r.has(i)){var n=r.get(i);n.has(this)&&(n.delete(this),n.size||(r.delete(i),o.delete(i))),n.size||r.delete(i),o.size||cancelAnimationFrame(t)}},A.DOMRectReadOnly=c,A.ResizeObserver=s,A.ResizeObserverEntry=h,A}; // eslint-disable-line\n",
       "mpl.toolbar_items = [[\"Home\", \"Reset original view\", \"fa fa-home icon-home\", \"home\"], [\"Back\", \"Back to previous view\", \"fa fa-arrow-left icon-arrow-left\", \"back\"], [\"Forward\", \"Forward to next view\", \"fa fa-arrow-right icon-arrow-right\", \"forward\"], [\"\", \"\", \"\", \"\"], [\"Pan\", \"Left button pans, Right button zooms\\nx/y fixes axis, CTRL fixes aspect\", \"fa fa-arrows icon-move\", \"pan\"], [\"Zoom\", \"Zoom to rectangle\\nx/y fixes axis\", \"fa fa-square-o icon-check-empty\", \"zoom\"], [\"\", \"\", \"\", \"\"], [\"Download\", \"Download plot\", \"fa fa-floppy-o icon-save\", \"download\"]];\n",
       "\n",
       "mpl.extensions = [\"eps\", \"jpeg\", \"pgf\", \"pdf\", \"png\", \"ps\", \"raw\", \"svg\", \"tif\"];\n",
       "\n",
       "mpl.default_extension = \"png\";/* global mpl */\n",
       "\n",
       "var comm_websocket_adapter = function (comm) {\n",
       "    // Create a \"websocket\"-like object which calls the given IPython comm\n",
       "    // object with the appropriate methods. Currently this is a non binary\n",
       "    // socket, so there is still some room for performance tuning.\n",
       "    var ws = {};\n",
       "\n",
       "    ws.binaryType = comm.kernel.ws.binaryType;\n",
       "    ws.readyState = comm.kernel.ws.readyState;\n",
       "    function updateReadyState(_event) {\n",
       "        if (comm.kernel.ws) {\n",
       "            ws.readyState = comm.kernel.ws.readyState;\n",
       "        } else {\n",
       "            ws.readyState = 3; // Closed state.\n",
       "        }\n",
       "    }\n",
       "    comm.kernel.ws.addEventListener('open', updateReadyState);\n",
       "    comm.kernel.ws.addEventListener('close', updateReadyState);\n",
       "    comm.kernel.ws.addEventListener('error', updateReadyState);\n",
       "\n",
       "    ws.close = function () {\n",
       "        comm.close();\n",
       "    };\n",
       "    ws.send = function (m) {\n",
       "        //console.log('sending', m);\n",
       "        comm.send(m);\n",
       "    };\n",
       "    // Register the callback with on_msg.\n",
       "    comm.on_msg(function (msg) {\n",
       "        //console.log('receiving', msg['content']['data'], msg);\n",
       "        var data = msg['content']['data'];\n",
       "        if (data['blob'] !== undefined) {\n",
       "            data = {\n",
       "                data: new Blob(msg['buffers'], { type: data['blob'] }),\n",
       "            };\n",
       "        }\n",
       "        // Pass the mpl event to the overridden (by mpl) onmessage function.\n",
       "        ws.onmessage(data);\n",
       "    });\n",
       "    return ws;\n",
       "};\n",
       "\n",
       "mpl.mpl_figure_comm = function (comm, msg) {\n",
       "    // This is the function which gets called when the mpl process\n",
       "    // starts-up an IPython Comm through the \"matplotlib\" channel.\n",
       "\n",
       "    var id = msg.content.data.id;\n",
       "    // Get hold of the div created by the display call when the Comm\n",
       "    // socket was opened in Python.\n",
       "    var element = document.getElementById(id);\n",
       "    var ws_proxy = comm_websocket_adapter(comm);\n",
       "\n",
       "    function ondownload(figure, _format) {\n",
       "        window.open(figure.canvas.toDataURL());\n",
       "    }\n",
       "\n",
       "    var fig = new mpl.figure(id, ws_proxy, ondownload, element);\n",
       "\n",
       "    // Call onopen now - mpl needs it, as it is assuming we've passed it a real\n",
       "    // web socket which is closed, not our websocket->open comm proxy.\n",
       "    ws_proxy.onopen();\n",
       "\n",
       "    fig.parent_element = element;\n",
       "    fig.cell_info = mpl.find_output_cell(\"<div id='\" + id + \"'></div>\");\n",
       "    if (!fig.cell_info) {\n",
       "        console.error('Failed to find cell for figure', id, fig);\n",
       "        return;\n",
       "    }\n",
       "    fig.cell_info[0].output_area.element.on(\n",
       "        'cleared',\n",
       "        { fig: fig },\n",
       "        fig._remove_fig_handler\n",
       "    );\n",
       "};\n",
       "\n",
       "mpl.figure.prototype.handle_close = function (fig, msg) {\n",
       "    var width = fig.canvas.width / fig.ratio;\n",
       "    fig.cell_info[0].output_area.element.off(\n",
       "        'cleared',\n",
       "        fig._remove_fig_handler\n",
       "    );\n",
       "    fig.resizeObserverInstance.unobserve(fig.canvas_div);\n",
       "\n",
       "    // Update the output cell to use the data from the current canvas.\n",
       "    fig.push_to_output();\n",
       "    var dataURL = fig.canvas.toDataURL();\n",
       "    // Re-enable the keyboard manager in IPython - without this line, in FF,\n",
       "    // the notebook keyboard shortcuts fail.\n",
       "    IPython.keyboard_manager.enable();\n",
       "    fig.parent_element.innerHTML =\n",
       "        '<img src=\"' + dataURL + '\" width=\"' + width + '\">';\n",
       "    fig.close_ws(fig, msg);\n",
       "};\n",
       "\n",
       "mpl.figure.prototype.close_ws = function (fig, msg) {\n",
       "    fig.send_message('closing', msg);\n",
       "    // fig.ws.close()\n",
       "};\n",
       "\n",
       "mpl.figure.prototype.push_to_output = function (_remove_interactive) {\n",
       "    // Turn the data on the canvas into data in the output cell.\n",
       "    var width = this.canvas.width / this.ratio;\n",
       "    var dataURL = this.canvas.toDataURL();\n",
       "    this.cell_info[1]['text/html'] =\n",
       "        '<img src=\"' + dataURL + '\" width=\"' + width + '\">';\n",
       "};\n",
       "\n",
       "mpl.figure.prototype.updated_canvas_event = function () {\n",
       "    // Tell IPython that the notebook contents must change.\n",
       "    IPython.notebook.set_dirty(true);\n",
       "    this.send_message('ack', {});\n",
       "    var fig = this;\n",
       "    // Wait a second, then push the new image to the DOM so\n",
       "    // that it is saved nicely (might be nice to debounce this).\n",
       "    setTimeout(function () {\n",
       "        fig.push_to_output();\n",
       "    }, 1000);\n",
       "};\n",
       "\n",
       "mpl.figure.prototype._init_toolbar = function () {\n",
       "    var fig = this;\n",
       "\n",
       "    var toolbar = document.createElement('div');\n",
       "    toolbar.classList = 'btn-toolbar';\n",
       "    this.root.appendChild(toolbar);\n",
       "\n",
       "    function on_click_closure(name) {\n",
       "        return function (_event) {\n",
       "            return fig.toolbar_button_onclick(name);\n",
       "        };\n",
       "    }\n",
       "\n",
       "    function on_mouseover_closure(tooltip) {\n",
       "        return function (event) {\n",
       "            if (!event.currentTarget.disabled) {\n",
       "                return fig.toolbar_button_onmouseover(tooltip);\n",
       "            }\n",
       "        };\n",
       "    }\n",
       "\n",
       "    fig.buttons = {};\n",
       "    var buttonGroup = document.createElement('div');\n",
       "    buttonGroup.classList = 'btn-group';\n",
       "    var button;\n",
       "    for (var toolbar_ind in mpl.toolbar_items) {\n",
       "        var name = mpl.toolbar_items[toolbar_ind][0];\n",
       "        var tooltip = mpl.toolbar_items[toolbar_ind][1];\n",
       "        var image = mpl.toolbar_items[toolbar_ind][2];\n",
       "        var method_name = mpl.toolbar_items[toolbar_ind][3];\n",
       "\n",
       "        if (!name) {\n",
       "            /* Instead of a spacer, we start a new button group. */\n",
       "            if (buttonGroup.hasChildNodes()) {\n",
       "                toolbar.appendChild(buttonGroup);\n",
       "            }\n",
       "            buttonGroup = document.createElement('div');\n",
       "            buttonGroup.classList = 'btn-group';\n",
       "            continue;\n",
       "        }\n",
       "\n",
       "        button = fig.buttons[name] = document.createElement('button');\n",
       "        button.classList = 'btn btn-default';\n",
       "        button.href = '#';\n",
       "        button.title = name;\n",
       "        button.innerHTML = '<i class=\"fa ' + image + ' fa-lg\"></i>';\n",
       "        button.addEventListener('click', on_click_closure(method_name));\n",
       "        button.addEventListener('mouseover', on_mouseover_closure(tooltip));\n",
       "        buttonGroup.appendChild(button);\n",
       "    }\n",
       "\n",
       "    if (buttonGroup.hasChildNodes()) {\n",
       "        toolbar.appendChild(buttonGroup);\n",
       "    }\n",
       "\n",
       "    // Add the status bar.\n",
       "    var status_bar = document.createElement('span');\n",
       "    status_bar.classList = 'mpl-message pull-right';\n",
       "    toolbar.appendChild(status_bar);\n",
       "    this.message = status_bar;\n",
       "\n",
       "    // Add the close button to the window.\n",
       "    var buttongrp = document.createElement('div');\n",
       "    buttongrp.classList = 'btn-group inline pull-right';\n",
       "    button = document.createElement('button');\n",
       "    button.classList = 'btn btn-mini btn-primary';\n",
       "    button.href = '#';\n",
       "    button.title = 'Stop Interaction';\n",
       "    button.innerHTML = '<i class=\"fa fa-power-off icon-remove icon-large\"></i>';\n",
       "    button.addEventListener('click', function (_evt) {\n",
       "        fig.handle_close(fig, {});\n",
       "    });\n",
       "    button.addEventListener(\n",
       "        'mouseover',\n",
       "        on_mouseover_closure('Stop Interaction')\n",
       "    );\n",
       "    buttongrp.appendChild(button);\n",
       "    var titlebar = this.root.querySelector('.ui-dialog-titlebar');\n",
       "    titlebar.insertBefore(buttongrp, titlebar.firstChild);\n",
       "};\n",
       "\n",
       "mpl.figure.prototype._remove_fig_handler = function (event) {\n",
       "    var fig = event.data.fig;\n",
       "    if (event.target !== this) {\n",
       "        // Ignore bubbled events from children.\n",
       "        return;\n",
       "    }\n",
       "    fig.close_ws(fig, {});\n",
       "};\n",
       "\n",
       "mpl.figure.prototype._root_extra_style = function (el) {\n",
       "    el.style.boxSizing = 'content-box'; // override notebook setting of border-box.\n",
       "};\n",
       "\n",
       "mpl.figure.prototype._canvas_extra_style = function (el) {\n",
       "    // this is important to make the div 'focusable\n",
       "    el.setAttribute('tabindex', 0);\n",
       "    // reach out to IPython and tell the keyboard manager to turn it's self\n",
       "    // off when our div gets focus\n",
       "\n",
       "    // location in version 3\n",
       "    if (IPython.notebook.keyboard_manager) {\n",
       "        IPython.notebook.keyboard_manager.register_events(el);\n",
       "    } else {\n",
       "        // location in version 2\n",
       "        IPython.keyboard_manager.register_events(el);\n",
       "    }\n",
       "};\n",
       "\n",
       "mpl.figure.prototype._key_event_extra = function (event, _name) {\n",
       "    // Check for shift+enter\n",
       "    if (event.shiftKey && event.which === 13) {\n",
       "        this.canvas_div.blur();\n",
       "        // select the cell after this one\n",
       "        var index = IPython.notebook.find_cell_index(this.cell_info[0]);\n",
       "        IPython.notebook.select(index + 1);\n",
       "    }\n",
       "};\n",
       "\n",
       "mpl.figure.prototype.handle_save = function (fig, _msg) {\n",
       "    fig.ondownload(fig, null);\n",
       "};\n",
       "\n",
       "mpl.find_output_cell = function (html_output) {\n",
       "    // Return the cell and output element which can be found *uniquely* in the notebook.\n",
       "    // Note - this is a bit hacky, but it is done because the \"notebook_saving.Notebook\"\n",
       "    // IPython event is triggered only after the cells have been serialised, which for\n",
       "    // our purposes (turning an active figure into a static one), is too late.\n",
       "    var cells = IPython.notebook.get_cells();\n",
       "    var ncells = cells.length;\n",
       "    for (var i = 0; i < ncells; i++) {\n",
       "        var cell = cells[i];\n",
       "        if (cell.cell_type === 'code') {\n",
       "            for (var j = 0; j < cell.output_area.outputs.length; j++) {\n",
       "                var data = cell.output_area.outputs[j];\n",
       "                if (data.data) {\n",
       "                    // IPython >= 3 moved mimebundle to data attribute of output\n",
       "                    data = data.data;\n",
       "                }\n",
       "                if (data['text/html'] === html_output) {\n",
       "                    return [cell, data, j];\n",
       "                }\n",
       "            }\n",
       "        }\n",
       "    }\n",
       "};\n",
       "\n",
       "// Register the function which deals with the matplotlib target/channel.\n",
       "// The kernel may be null if the page has been refreshed.\n",
       "if (IPython.notebook.kernel !== null) {\n",
       "    IPython.notebook.kernel.comm_manager.register_target(\n",
       "        'matplotlib',\n",
       "        mpl.mpl_figure_comm\n",
       "    );\n",
       "}\n"
      ],
      "text/plain": [
       "<IPython.core.display.Javascript object>"
      ]
     },
     "metadata": {},
     "output_type": "display_data"
    },
    {
     "data": {
      "text/html": [
       "<img src=\"data:image/png;base64,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\" width=\"863.63634491755\">"
      ],
      "text/plain": [
       "<IPython.core.display.HTML object>"
      ]
     },
     "metadata": {},
     "output_type": "display_data"
    }
   ],
   "source": [
    "%matplotlib notebook\n",
    "fig = plt.figure(figsize=(12, 6))\n",
    "ax = fig.add_subplot(projection='3d')\n",
    "ax.scatter3D(xpca[:,0], xpca[:,1],xpca[:,3], c=kmeans_rd.labels_,cmap='viridis')\n",
    "ax.scatter3D(centers_rd[:,0], centers_rd[:,1],centers_rd[:,2], marker=\"o\", color='b',s=150)\n",
    "\n",
    "ax.set_xlabel('PC1')\n",
    "ax.set_ylabel('PC2')\n",
    "ax.set_zlabel('PC3')\n",
    "ax.set_xticklabels([])\n",
    "ax.set_yticklabels([])\n",
    "ax.set_zticklabels([])\n",
    "plt.show()"
   ]
  },
  {
   "cell_type": "markdown",
   "metadata": {
    "hidden": true
   },
   "source": [
    "#### Metrics"
   ]
  },
  {
   "cell_type": "code",
   "execution_count": 507,
   "metadata": {
    "hidden": true
   },
   "outputs": [
    {
     "data": {
      "text/html": [
       "<div>\n",
       "<style scoped>\n",
       "    .dataframe tbody tr th:only-of-type {\n",
       "        vertical-align: middle;\n",
       "    }\n",
       "\n",
       "    .dataframe tbody tr th {\n",
       "        vertical-align: top;\n",
       "    }\n",
       "\n",
       "    .dataframe thead th {\n",
       "        text-align: right;\n",
       "    }\n",
       "</style>\n",
       "<table border=\"1\" class=\"dataframe\">\n",
       "  <thead>\n",
       "    <tr style=\"text-align: right;\">\n",
       "      <th></th>\n",
       "      <th>Cluster</th>\n",
       "      <th>Rand_</th>\n",
       "      <th>Sil_</th>\n",
       "    </tr>\n",
       "  </thead>\n",
       "  <tbody>\n",
       "    <tr>\n",
       "      <th>0</th>\n",
       "      <td>Kmeans2 without pca</td>\n",
       "      <td>0.776286</td>\n",
       "      <td>0.580184</td>\n",
       "    </tr>\n",
       "    <tr>\n",
       "      <th>1</th>\n",
       "      <td>Kmeans3 without pca</td>\n",
       "      <td>0.819597</td>\n",
       "      <td>0.462149</td>\n",
       "    </tr>\n",
       "    <tr>\n",
       "      <th>2</th>\n",
       "      <td>2 PC + Kmeans</td>\n",
       "      <td>0.843132</td>\n",
       "      <td>0.503895</td>\n",
       "    </tr>\n",
       "    <tr>\n",
       "      <th>3</th>\n",
       "      <td>3 PC + Kmeans</td>\n",
       "      <td>0.82783</td>\n",
       "      <td>0.464523</td>\n",
       "    </tr>\n",
       "  </tbody>\n",
       "</table>\n",
       "</div>"
      ],
      "text/plain": [
       "               Cluster     Rand_      Sil_\n",
       "0  Kmeans2 without pca  0.776286  0.580184\n",
       "1  Kmeans3 without pca  0.819597  0.462149\n",
       "2        2 PC + Kmeans  0.843132  0.503895\n",
       "3        3 PC + Kmeans   0.82783  0.464523"
      ]
     },
     "execution_count": 507,
     "metadata": {},
     "output_type": "execute_result"
    }
   ],
   "source": [
    "# Silhouttte Score\n",
    "sil_score = silhouette_score(xpca_rd,kmeans_rd.labels_)\n",
    "# Rand_Index\n",
    "rand_index = rand_score(y,kmeans_rd.labels_)\n",
    "\n",
    "#Guardamos los resultados\n",
    "results_df = results_df.append({'Cluster':'3 PC + Kmeans',\n",
    "                                'Rand_':rand_index,\n",
    "                                'Sil_':sil_score},ignore_index=True)\n",
    "results_df"
   ]
  },
  {
   "cell_type": "markdown",
   "metadata": {
    "hidden": true
   },
   "source": [
    "## Clustering Jerárquico"
   ]
  },
  {
   "cell_type": "code",
   "execution_count": 508,
   "metadata": {
    "hidden": true
   },
   "outputs": [
    {
     "data": {
      "image/png": "[encoded data removed]",
      "text/plain": [
       "<Figure size 1800x720 with 1 Axes>"
      ]
     },
     "metadata": {
      "needs_background": "light"
     },
     "output_type": "display_data"
    }
   ],
   "source": [
    "%matplotlib inline\n",
    "\n",
    "# 3 PC\n",
    "reduced_dim = 3\n",
    "xpca_rd = xpca[:,0:reduced_dim]\n",
    "\n",
    "# Definimos el linkage\n",
    "Z = linkage(xpca_rd, method = 'ward',metric='euclidean')\n",
    "# Threshold (Similaridad)\n",
    "dist_cluster = 12\n",
    "plt.figure(figsize=(25, 10))\n",
    "dendrogram(Z,color_threshold=dist_cluster)\n",
    "plt.axhline(c='k',linestyle='--', y=dist_cluster)\n",
    "plt.show()"
   ]
  },
  {
   "cell_type": "code",
   "execution_count": 509,
   "metadata": {
    "hidden": true,
    "scrolled": false
   },
   "outputs": [
    {
     "data": {
      "image/png": "[encoded data removed]",
      "text/plain": [
       "<Figure size 1800x720 with 1 Axes>"
      ]
     },
     "metadata": {
      "needs_background": "light"
     },
     "output_type": "display_data"
    },
    {
     "data": {
      "text/plain": [
       "array([1, 1, 1, 1, 1, 1, 1, 1, 1, 1, 1, 1, 1, 1, 1, 1, 1, 1, 1, 1, 1, 1,\n",
       "       1, 1, 1, 1, 1, 1, 1, 1, 1, 1, 1, 1, 1, 1, 1, 1, 1, 1, 1, 1, 1, 1,\n",
       "       1, 1, 1, 1, 1, 1, 0, 0, 0, 0, 0, 0, 0, 0, 0, 0, 0, 0, 0, 0, 0, 0,\n",
       "       0, 0, 0, 0, 0, 0, 0, 0, 0, 0, 0, 0, 0, 0, 0, 0, 0, 0, 0, 0, 0, 0,\n",
       "       0, 0, 0, 0, 0, 0, 0, 0, 0, 0, 0, 0, 2, 0, 2, 0, 2, 2, 0, 2, 0, 2,\n",
       "       2, 0, 2, 0, 0, 2, 0, 2, 2, 0, 2, 0, 2, 0, 2, 2, 0, 0, 0, 2, 2, 2,\n",
       "       0, 0, 0, 2, 2, 0, 0, 2, 2, 2, 0, 2, 2, 2, 0, 0, 2, 0], dtype=int64)"
      ]
     },
     "execution_count": 509,
     "metadata": {},
     "output_type": "execute_result"
    }
   ],
   "source": [
    "%matplotlib inline\n",
    "\n",
    "dist_cluster = 12\n",
    "plt.figure(figsize=(25, 10))\n",
    "dendrogram(Z,color_threshold=dist_cluster)\n",
    "plt.axhline(c='k',linestyle='--', y=dist_cluster)\n",
    "plt.show()\n",
    "\n",
    "cluster = AgglomerativeClustering(n_clusters=None, distance_threshold =dist_cluster,\n",
    "                                  affinity='euclidean',\n",
    "                                  linkage='ward')\n",
    "cluster.fit_predict(xpca_rd)"
   ]
  },
  {
   "cell_type": "code",
   "execution_count": 510,
   "metadata": {
    "hidden": true
   },
   "outputs": [
    {
     "data": {
      "application/javascript": [
       "/* Put everything inside the global mpl namespace */\n",
       "/* global mpl */\n",
       "window.mpl = {};\n",
       "\n",
       "mpl.get_websocket_type = function () {\n",
       "    if (typeof WebSocket !== 'undefined') {\n",
       "        return WebSocket;\n",
       "    } else if (typeof MozWebSocket !== 'undefined') {\n",
       "        return MozWebSocket;\n",
       "    } else {\n",
       "        alert(\n",
       "            'Your browser does not have WebSocket support. ' +\n",
       "                'Please try Chrome, Safari or Firefox ≥ 6. ' +\n",
       "                'Firefox 4 and 5 are also supported but you ' +\n",
       "                'have to enable WebSockets in about:config.'\n",
       "        );\n",
       "    }\n",
       "};\n",
       "\n",
       "mpl.figure = function (figure_id, websocket, ondownload, parent_element) {\n",
       "    this.id = figure_id;\n",
       "\n",
       "    this.ws = websocket;\n",
       "\n",
       "    this.supports_binary = this.ws.binaryType !== undefined;\n",
       "\n",
       "    if (!this.supports_binary) {\n",
       "        var warnings = document.getElementById('mpl-warnings');\n",
       "        if (warnings) {\n",
       "            warnings.style.display = 'block';\n",
       "            warnings.textContent =\n",
       "                'This browser does not support binary websocket messages. ' +\n",
       "                'Performance may be slow.';\n",
       "        }\n",
       "    }\n",
       "\n",
       "    this.imageObj = new Image();\n",
       "\n",
       "    this.context = undefined;\n",
       "    this.message = undefined;\n",
       "    this.canvas = undefined;\n",
       "    this.rubberband_canvas = undefined;\n",
       "    this.rubberband_context = undefined;\n",
       "    this.format_dropdown = undefined;\n",
       "\n",
       "    this.image_mode = 'full';\n",
       "\n",
       "    this.root = document.createElement('div');\n",
       "    this.root.setAttribute('style', 'display: inline-block');\n",
       "    this._root_extra_style(this.root);\n",
       "\n",
       "    parent_element.appendChild(this.root);\n",
       "\n",
       "    this._init_header(this);\n",
       "    this._init_canvas(this);\n",
       "    this._init_toolbar(this);\n",
       "\n",
       "    var fig = this;\n",
       "\n",
       "    this.waiting = false;\n",
       "\n",
       "    this.ws.onopen = function () {\n",
       "        fig.send_message('supports_binary', { value: fig.supports_binary });\n",
       "        fig.send_message('send_image_mode', {});\n",
       "        if (fig.ratio !== 1) {\n",
       "            fig.send_message('set_device_pixel_ratio', {\n",
       "                device_pixel_ratio: fig.ratio,\n",
       "            });\n",
       "        }\n",
       "        fig.send_message('refresh', {});\n",
       "    };\n",
       "\n",
       "    this.imageObj.onload = function () {\n",
       "        if (fig.image_mode === 'full') {\n",
       "            // Full images could contain transparency (where diff images\n",
       "            // almost always do), so we need to clear the canvas so that\n",
       "            // there is no ghosting.\n",
       "            fig.context.clearRect(0, 0, fig.canvas.width, fig.canvas.height);\n",
       "        }\n",
       "        fig.context.drawImage(fig.imageObj, 0, 0);\n",
       "    };\n",
       "\n",
       "    this.imageObj.onunload = function () {\n",
       "        fig.ws.close();\n",
       "    };\n",
       "\n",
       "    this.ws.onmessage = this._make_on_message_function(this);\n",
       "\n",
       "    this.ondownload = ondownload;\n",
       "};\n",
       "\n",
       "mpl.figure.prototype._init_header = function () {\n",
       "    var titlebar = document.createElement('div');\n",
       "    titlebar.classList =\n",
       "        'ui-dialog-titlebar ui-widget-header ui-corner-all ui-helper-clearfix';\n",
       "    var titletext = document.createElement('div');\n",
       "    titletext.classList = 'ui-dialog-title';\n",
       "    titletext.setAttribute(\n",
       "        'style',\n",
       "        'width: 100%; text-align: center; padding: 3px;'\n",
       "    );\n",
       "    titlebar.appendChild(titletext);\n",
       "    this.root.appendChild(titlebar);\n",
       "    this.header = titletext;\n",
       "};\n",
       "\n",
       "mpl.figure.prototype._canvas_extra_style = function (_canvas_div) {};\n",
       "\n",
       "mpl.figure.prototype._root_extra_style = function (_canvas_div) {};\n",
       "\n",
       "mpl.figure.prototype._init_canvas = function () {\n",
       "    var fig = this;\n",
       "\n",
       "    var canvas_div = (this.canvas_div = document.createElement('div'));\n",
       "    canvas_div.setAttribute(\n",
       "        'style',\n",
       "        'border: 1px solid #ddd;' +\n",
       "            'box-sizing: content-box;' +\n",
       "            'clear: both;' +\n",
       "            'min-height: 1px;' +\n",
       "            'min-width: 1px;' +\n",
       "            'outline: 0;' +\n",
       "            'overflow: hidden;' +\n",
       "            'position: relative;' +\n",
       "            'resize: both;'\n",
       "    );\n",
       "\n",
       "    function on_keyboard_event_closure(name) {\n",
       "        return function (event) {\n",
       "            return fig.key_event(event, name);\n",
       "        };\n",
       "    }\n",
       "\n",
       "    canvas_div.addEventListener(\n",
       "        'keydown',\n",
       "        on_keyboard_event_closure('key_press')\n",
       "    );\n",
       "    canvas_div.addEventListener(\n",
       "        'keyup',\n",
       "        on_keyboard_event_closure('key_release')\n",
       "    );\n",
       "\n",
       "    this._canvas_extra_style(canvas_div);\n",
       "    this.root.appendChild(canvas_div);\n",
       "\n",
       "    var canvas = (this.canvas = document.createElement('canvas'));\n",
       "    canvas.classList.add('mpl-canvas');\n",
       "    canvas.setAttribute('style', 'box-sizing: content-box;');\n",
       "\n",
       "    this.context = canvas.getContext('2d');\n",
       "\n",
       "    var backingStore =\n",
       "        this.context.backingStorePixelRatio ||\n",
       "        this.context.webkitBackingStorePixelRatio ||\n",
       "        this.context.mozBackingStorePixelRatio ||\n",
       "        this.context.msBackingStorePixelRatio ||\n",
       "        this.context.oBackingStorePixelRatio ||\n",
       "        this.context.backingStorePixelRatio ||\n",
       "        1;\n",
       "\n",
       "    this.ratio = (window.devicePixelRatio || 1) / backingStore;\n",
       "\n",
       "    var rubberband_canvas = (this.rubberband_canvas = document.createElement(\n",
       "        'canvas'\n",
       "    ));\n",
       "    rubberband_canvas.setAttribute(\n",
       "        'style',\n",
       "        'box-sizing: content-box; position: absolute; left: 0; top: 0; z-index: 1;'\n",
       "    );\n",
       "\n",
       "    // Apply a ponyfill if ResizeObserver is not implemented by browser.\n",
       "    if (this.ResizeObserver === undefined) {\n",
       "        if (window.ResizeObserver !== undefined) {\n",
       "            this.ResizeObserver = window.ResizeObserver;\n",
       "        } else {\n",
       "            var obs = _JSXTOOLS_RESIZE_OBSERVER({});\n",
       "            this.ResizeObserver = obs.ResizeObserver;\n",
       "        }\n",
       "    }\n",
       "\n",
       "    this.resizeObserverInstance = new this.ResizeObserver(function (entries) {\n",
       "        var nentries = entries.length;\n",
       "        for (var i = 0; i < nentries; i++) {\n",
       "            var entry = entries[i];\n",
       "            var width, height;\n",
       "            if (entry.contentBoxSize) {\n",
       "                if (entry.contentBoxSize instanceof Array) {\n",
       "                    // Chrome 84 implements new version of spec.\n",
       "                    width = entry.contentBoxSize[0].inlineSize;\n",
       "                    height = entry.contentBoxSize[0].blockSize;\n",
       "                } else {\n",
       "                    // Firefox implements old version of spec.\n",
       "                    width = entry.contentBoxSize.inlineSize;\n",
       "                    height = entry.contentBoxSize.blockSize;\n",
       "                }\n",
       "            } else {\n",
       "                // Chrome <84 implements even older version of spec.\n",
       "                width = entry.contentRect.width;\n",
       "                height = entry.contentRect.height;\n",
       "            }\n",
       "\n",
       "            // Keep the size of the canvas and rubber band canvas in sync with\n",
       "            // the canvas container.\n",
       "            if (entry.devicePixelContentBoxSize) {\n",
       "                // Chrome 84 implements new version of spec.\n",
       "                canvas.setAttribute(\n",
       "                    'width',\n",
       "                    entry.devicePixelContentBoxSize[0].inlineSize\n",
       "                );\n",
       "                canvas.setAttribute(\n",
       "                    'height',\n",
       "                    entry.devicePixelContentBoxSize[0].blockSize\n",
       "                );\n",
       "            } else {\n",
       "                canvas.setAttribute('width', width * fig.ratio);\n",
       "                canvas.setAttribute('height', height * fig.ratio);\n",
       "            }\n",
       "            canvas.setAttribute(\n",
       "                'style',\n",
       "                'width: ' + width + 'px; height: ' + height + 'px;'\n",
       "            );\n",
       "\n",
       "            rubberband_canvas.setAttribute('width', width);\n",
       "            rubberband_canvas.setAttribute('height', height);\n",
       "\n",
       "            // And update the size in Python. We ignore the initial 0/0 size\n",
       "            // that occurs as the element is placed into the DOM, which should\n",
       "            // otherwise not happen due to the minimum size styling.\n",
       "            if (fig.ws.readyState == 1 && width != 0 && height != 0) {\n",
       "                fig.request_resize(width, height);\n",
       "            }\n",
       "        }\n",
       "    });\n",
       "    this.resizeObserverInstance.observe(canvas_div);\n",
       "\n",
       "    function on_mouse_event_closure(name) {\n",
       "        return function (event) {\n",
       "            return fig.mouse_event(event, name);\n",
       "        };\n",
       "    }\n",
       "\n",
       "    rubberband_canvas.addEventListener(\n",
       "        'mousedown',\n",
       "        on_mouse_event_closure('button_press')\n",
       "    );\n",
       "    rubberband_canvas.addEventListener(\n",
       "        'mouseup',\n",
       "        on_mouse_event_closure('button_release')\n",
       "    );\n",
       "    rubberband_canvas.addEventListener(\n",
       "        'dblclick',\n",
       "        on_mouse_event_closure('dblclick')\n",
       "    );\n",
       "    // Throttle sequential mouse events to 1 every 20ms.\n",
       "    rubberband_canvas.addEventListener(\n",
       "        'mousemove',\n",
       "        on_mouse_event_closure('motion_notify')\n",
       "    );\n",
       "\n",
       "    rubberband_canvas.addEventListener(\n",
       "        'mouseenter',\n",
       "        on_mouse_event_closure('figure_enter')\n",
       "    );\n",
       "    rubberband_canvas.addEventListener(\n",
       "        'mouseleave',\n",
       "        on_mouse_event_closure('figure_leave')\n",
       "    );\n",
       "\n",
       "    canvas_div.addEventListener('wheel', function (event) {\n",
       "        if (event.deltaY < 0) {\n",
       "            event.step = 1;\n",
       "        } else {\n",
       "            event.step = -1;\n",
       "        }\n",
       "        on_mouse_event_closure('scroll')(event);\n",
       "    });\n",
       "\n",
       "    canvas_div.appendChild(canvas);\n",
       "    canvas_div.appendChild(rubberband_canvas);\n",
       "\n",
       "    this.rubberband_context = rubberband_canvas.getContext('2d');\n",
       "    this.rubberband_context.strokeStyle = '#000000';\n",
       "\n",
       "    this._resize_canvas = function (width, height, forward) {\n",
       "        if (forward) {\n",
       "            canvas_div.style.width = width + 'px';\n",
       "            canvas_div.style.height = height + 'px';\n",
       "        }\n",
       "    };\n",
       "\n",
       "    // Disable right mouse context menu.\n",
       "    this.rubberband_canvas.addEventListener('contextmenu', function (_e) {\n",
       "        event.preventDefault();\n",
       "        return false;\n",
       "    });\n",
       "\n",
       "    function set_focus() {\n",
       "        canvas.focus();\n",
       "        canvas_div.focus();\n",
       "    }\n",
       "\n",
       "    window.setTimeout(set_focus, 100);\n",
       "};\n",
       "\n",
       "mpl.figure.prototype._init_toolbar = function () {\n",
       "    var fig = this;\n",
       "\n",
       "    var toolbar = document.createElement('div');\n",
       "    toolbar.classList = 'mpl-toolbar';\n",
       "    this.root.appendChild(toolbar);\n",
       "\n",
       "    function on_click_closure(name) {\n",
       "        return function (_event) {\n",
       "            return fig.toolbar_button_onclick(name);\n",
       "        };\n",
       "    }\n",
       "\n",
       "    function on_mouseover_closure(tooltip) {\n",
       "        return function (event) {\n",
       "            if (!event.currentTarget.disabled) {\n",
       "                return fig.toolbar_button_onmouseover(tooltip);\n",
       "            }\n",
       "        };\n",
       "    }\n",
       "\n",
       "    fig.buttons = {};\n",
       "    var buttonGroup = document.createElement('div');\n",
       "    buttonGroup.classList = 'mpl-button-group';\n",
       "    for (var toolbar_ind in mpl.toolbar_items) {\n",
       "        var name = mpl.toolbar_items[toolbar_ind][0];\n",
       "        var tooltip = mpl.toolbar_items[toolbar_ind][1];\n",
       "        var image = mpl.toolbar_items[toolbar_ind][2];\n",
       "        var method_name = mpl.toolbar_items[toolbar_ind][3];\n",
       "\n",
       "        if (!name) {\n",
       "            /* Instead of a spacer, we start a new button group. */\n",
       "            if (buttonGroup.hasChildNodes()) {\n",
       "                toolbar.appendChild(buttonGroup);\n",
       "            }\n",
       "            buttonGroup = document.createElement('div');\n",
       "            buttonGroup.classList = 'mpl-button-group';\n",
       "            continue;\n",
       "        }\n",
       "\n",
       "        var button = (fig.buttons[name] = document.createElement('button'));\n",
       "        button.classList = 'mpl-widget';\n",
       "        button.setAttribute('role', 'button');\n",
       "        button.setAttribute('aria-disabled', 'false');\n",
       "        button.addEventListener('click', on_click_closure(method_name));\n",
       "        button.addEventListener('mouseover', on_mouseover_closure(tooltip));\n",
       "\n",
       "        var icon_img = document.createElement('img');\n",
       "        icon_img.src = '_images/' + image + '.png';\n",
       "        icon_img.srcset = '_images/' + image + '_large.png 2x';\n",
       "        icon_img.alt = tooltip;\n",
       "        button.appendChild(icon_img);\n",
       "\n",
       "        buttonGroup.appendChild(button);\n",
       "    }\n",
       "\n",
       "    if (buttonGroup.hasChildNodes()) {\n",
       "        toolbar.appendChild(buttonGroup);\n",
       "    }\n",
       "\n",
       "    var fmt_picker = document.createElement('select');\n",
       "    fmt_picker.classList = 'mpl-widget';\n",
       "    toolbar.appendChild(fmt_picker);\n",
       "    this.format_dropdown = fmt_picker;\n",
       "\n",
       "    for (var ind in mpl.extensions) {\n",
       "        var fmt = mpl.extensions[ind];\n",
       "        var option = document.createElement('option');\n",
       "        option.selected = fmt === mpl.default_extension;\n",
       "        option.innerHTML = fmt;\n",
       "        fmt_picker.appendChild(option);\n",
       "    }\n",
       "\n",
       "    var status_bar = document.createElement('span');\n",
       "    status_bar.classList = 'mpl-message';\n",
       "    toolbar.appendChild(status_bar);\n",
       "    this.message = status_bar;\n",
       "};\n",
       "\n",
       "mpl.figure.prototype.request_resize = function (x_pixels, y_pixels) {\n",
       "    // Request matplotlib to resize the figure. Matplotlib will then trigger a resize in the client,\n",
       "    // which will in turn request a refresh of the image.\n",
       "    this.send_message('resize', { width: x_pixels, height: y_pixels });\n",
       "};\n",
       "\n",
       "mpl.figure.prototype.send_message = function (type, properties) {\n",
       "    properties['type'] = type;\n",
       "    properties['figure_id'] = this.id;\n",
       "    this.ws.send(JSON.stringify(properties));\n",
       "};\n",
       "\n",
       "mpl.figure.prototype.send_draw_message = function () {\n",
       "    if (!this.waiting) {\n",
       "        this.waiting = true;\n",
       "        this.ws.send(JSON.stringify({ type: 'draw', figure_id: this.id }));\n",
       "    }\n",
       "};\n",
       "\n",
       "mpl.figure.prototype.handle_save = function (fig, _msg) {\n",
       "    var format_dropdown = fig.format_dropdown;\n",
       "    var format = format_dropdown.options[format_dropdown.selectedIndex].value;\n",
       "    fig.ondownload(fig, format);\n",
       "};\n",
       "\n",
       "mpl.figure.prototype.handle_resize = function (fig, msg) {\n",
       "    var size = msg['size'];\n",
       "    if (size[0] !== fig.canvas.width || size[1] !== fig.canvas.height) {\n",
       "        fig._resize_canvas(size[0], size[1], msg['forward']);\n",
       "        fig.send_message('refresh', {});\n",
       "    }\n",
       "};\n",
       "\n",
       "mpl.figure.prototype.handle_rubberband = function (fig, msg) {\n",
       "    var x0 = msg['x0'] / fig.ratio;\n",
       "    var y0 = (fig.canvas.height - msg['y0']) / fig.ratio;\n",
       "    var x1 = msg['x1'] / fig.ratio;\n",
       "    var y1 = (fig.canvas.height - msg['y1']) / fig.ratio;\n",
       "    x0 = Math.floor(x0) + 0.5;\n",
       "    y0 = Math.floor(y0) + 0.5;\n",
       "    x1 = Math.floor(x1) + 0.5;\n",
       "    y1 = Math.floor(y1) + 0.5;\n",
       "    var min_x = Math.min(x0, x1);\n",
       "    var min_y = Math.min(y0, y1);\n",
       "    var width = Math.abs(x1 - x0);\n",
       "    var height = Math.abs(y1 - y0);\n",
       "\n",
       "    fig.rubberband_context.clearRect(\n",
       "        0,\n",
       "        0,\n",
       "        fig.canvas.width / fig.ratio,\n",
       "        fig.canvas.height / fig.ratio\n",
       "    );\n",
       "\n",
       "    fig.rubberband_context.strokeRect(min_x, min_y, width, height);\n",
       "};\n",
       "\n",
       "mpl.figure.prototype.handle_figure_label = function (fig, msg) {\n",
       "    // Updates the figure title.\n",
       "    fig.header.textContent = msg['label'];\n",
       "};\n",
       "\n",
       "mpl.figure.prototype.handle_cursor = function (fig, msg) {\n",
       "    fig.rubberband_canvas.style.cursor = msg['cursor'];\n",
       "};\n",
       "\n",
       "mpl.figure.prototype.handle_message = function (fig, msg) {\n",
       "    fig.message.textContent = msg['message'];\n",
       "};\n",
       "\n",
       "mpl.figure.prototype.handle_draw = function (fig, _msg) {\n",
       "    // Request the server to send over a new figure.\n",
       "    fig.send_draw_message();\n",
       "};\n",
       "\n",
       "mpl.figure.prototype.handle_image_mode = function (fig, msg) {\n",
       "    fig.image_mode = msg['mode'];\n",
       "};\n",
       "\n",
       "mpl.figure.prototype.handle_history_buttons = function (fig, msg) {\n",
       "    for (var key in msg) {\n",
       "        if (!(key in fig.buttons)) {\n",
       "            continue;\n",
       "        }\n",
       "        fig.buttons[key].disabled = !msg[key];\n",
       "        fig.buttons[key].setAttribute('aria-disabled', !msg[key]);\n",
       "    }\n",
       "};\n",
       "\n",
       "mpl.figure.prototype.handle_navigate_mode = function (fig, msg) {\n",
       "    if (msg['mode'] === 'PAN') {\n",
       "        fig.buttons['Pan'].classList.add('active');\n",
       "        fig.buttons['Zoom'].classList.remove('active');\n",
       "    } else if (msg['mode'] === 'ZOOM') {\n",
       "        fig.buttons['Pan'].classList.remove('active');\n",
       "        fig.buttons['Zoom'].classList.add('active');\n",
       "    } else {\n",
       "        fig.buttons['Pan'].classList.remove('active');\n",
       "        fig.buttons['Zoom'].classList.remove('active');\n",
       "    }\n",
       "};\n",
       "\n",
       "mpl.figure.prototype.updated_canvas_event = function () {\n",
       "    // Called whenever the canvas gets updated.\n",
       "    this.send_message('ack', {});\n",
       "};\n",
       "\n",
       "// A function to construct a web socket function for onmessage handling.\n",
       "// Called in the figure constructor.\n",
       "mpl.figure.prototype._make_on_message_function = function (fig) {\n",
       "    return function socket_on_message(evt) {\n",
       "        if (evt.data instanceof Blob) {\n",
       "            var img = evt.data;\n",
       "            if (img.type !== 'image/png') {\n",
       "                /* FIXME: We get \"Resource interpreted as Image but\n",
       "                 * transferred with MIME type text/plain:\" errors on\n",
       "                 * Chrome.  But how to set the MIME type?  It doesn't seem\n",
       "                 * to be part of the websocket stream */\n",
       "                img.type = 'image/png';\n",
       "            }\n",
       "\n",
       "            /* Free the memory for the previous frames */\n",
       "            if (fig.imageObj.src) {\n",
       "                (window.URL || window.webkitURL).revokeObjectURL(\n",
       "                    fig.imageObj.src\n",
       "                );\n",
       "            }\n",
       "\n",
       "            fig.imageObj.src = (window.URL || window.webkitURL).createObjectURL(\n",
       "                img\n",
       "            );\n",
       "            fig.updated_canvas_event();\n",
       "            fig.waiting = false;\n",
       "            return;\n",
       "        } else if (\n",
       "            typeof evt.data === 'string' &&\n",
       "            evt.data.slice(0, 21) === 'data:image/png;base64'\n",
       "        ) {\n",
       "            fig.imageObj.src = evt.data;\n",
       "            fig.updated_canvas_event();\n",
       "            fig.waiting = false;\n",
       "            return;\n",
       "        }\n",
       "\n",
       "        var msg = JSON.parse(evt.data);\n",
       "        var msg_type = msg['type'];\n",
       "\n",
       "        // Call the  \"handle_{type}\" callback, which takes\n",
       "        // the figure and JSON message as its only arguments.\n",
       "        try {\n",
       "            var callback = fig['handle_' + msg_type];\n",
       "        } catch (e) {\n",
       "            console.log(\n",
       "                \"No handler for the '\" + msg_type + \"' message type: \",\n",
       "                msg\n",
       "            );\n",
       "            return;\n",
       "        }\n",
       "\n",
       "        if (callback) {\n",
       "            try {\n",
       "                // console.log(\"Handling '\" + msg_type + \"' message: \", msg);\n",
       "                callback(fig, msg);\n",
       "            } catch (e) {\n",
       "                console.log(\n",
       "                    \"Exception inside the 'handler_\" + msg_type + \"' callback:\",\n",
       "                    e,\n",
       "                    e.stack,\n",
       "                    msg\n",
       "                );\n",
       "            }\n",
       "        }\n",
       "    };\n",
       "};\n",
       "\n",
       "// from https://stackoverflow.com/questions/1114465/getting-mouse-location-in-canvas\n",
       "mpl.findpos = function (e) {\n",
       "    //this section is from http://www.quirksmode.org/js/events_properties.html\n",
       "    var targ;\n",
       "    if (!e) {\n",
       "        e = window.event;\n",
       "    }\n",
       "    if (e.target) {\n",
       "        targ = e.target;\n",
       "    } else if (e.srcElement) {\n",
       "        targ = e.srcElement;\n",
       "    }\n",
       "    if (targ.nodeType === 3) {\n",
       "        // defeat Safari bug\n",
       "        targ = targ.parentNode;\n",
       "    }\n",
       "\n",
       "    // pageX,Y are the mouse positions relative to the document\n",
       "    var boundingRect = targ.getBoundingClientRect();\n",
       "    var x = e.pageX - (boundingRect.left + document.body.scrollLeft);\n",
       "    var y = e.pageY - (boundingRect.top + document.body.scrollTop);\n",
       "\n",
       "    return { x: x, y: y };\n",
       "};\n",
       "\n",
       "/*\n",
       " * return a copy of an object with only non-object keys\n",
       " * we need this to avoid circular references\n",
       " * https://stackoverflow.com/a/24161582/3208463\n",
       " */\n",
       "function simpleKeys(original) {\n",
       "    return Object.keys(original).reduce(function (obj, key) {\n",
       "        if (typeof original[key] !== 'object') {\n",
       "            obj[key] = original[key];\n",
       "        }\n",
       "        return obj;\n",
       "    }, {});\n",
       "}\n",
       "\n",
       "mpl.figure.prototype.mouse_event = function (event, name) {\n",
       "    var canvas_pos = mpl.findpos(event);\n",
       "\n",
       "    if (name === 'button_press') {\n",
       "        this.canvas.focus();\n",
       "        this.canvas_div.focus();\n",
       "    }\n",
       "\n",
       "    var x = canvas_pos.x * this.ratio;\n",
       "    var y = canvas_pos.y * this.ratio;\n",
       "\n",
       "    this.send_message(name, {\n",
       "        x: x,\n",
       "        y: y,\n",
       "        button: event.button,\n",
       "        step: event.step,\n",
       "        guiEvent: simpleKeys(event),\n",
       "    });\n",
       "\n",
       "    /* This prevents the web browser from automatically changing to\n",
       "     * the text insertion cursor when the button is pressed.  We want\n",
       "     * to control all of the cursor setting manually through the\n",
       "     * 'cursor' event from matplotlib */\n",
       "    event.preventDefault();\n",
       "    return false;\n",
       "};\n",
       "\n",
       "mpl.figure.prototype._key_event_extra = function (_event, _name) {\n",
       "    // Handle any extra behaviour associated with a key event\n",
       "};\n",
       "\n",
       "mpl.figure.prototype.key_event = function (event, name) {\n",
       "    // Prevent repeat events\n",
       "    if (name === 'key_press') {\n",
       "        if (event.key === this._key) {\n",
       "            return;\n",
       "        } else {\n",
       "            this._key = event.key;\n",
       "        }\n",
       "    }\n",
       "    if (name === 'key_release') {\n",
       "        this._key = null;\n",
       "    }\n",
       "\n",
       "    var value = '';\n",
       "    if (event.ctrlKey && event.key !== 'Control') {\n",
       "        value += 'ctrl+';\n",
       "    }\n",
       "    else if (event.altKey && event.key !== 'Alt') {\n",
       "        value += 'alt+';\n",
       "    }\n",
       "    else if (event.shiftKey && event.key !== 'Shift') {\n",
       "        value += 'shift+';\n",
       "    }\n",
       "\n",
       "    value += 'k' + event.key;\n",
       "\n",
       "    this._key_event_extra(event, name);\n",
       "\n",
       "    this.send_message(name, { key: value, guiEvent: simpleKeys(event) });\n",
       "    return false;\n",
       "};\n",
       "\n",
       "mpl.figure.prototype.toolbar_button_onclick = function (name) {\n",
       "    if (name === 'download') {\n",
       "        this.handle_save(this, null);\n",
       "    } else {\n",
       "        this.send_message('toolbar_button', { name: name });\n",
       "    }\n",
       "};\n",
       "\n",
       "mpl.figure.prototype.toolbar_button_onmouseover = function (tooltip) {\n",
       "    this.message.textContent = tooltip;\n",
       "};\n",
       "\n",
       "///////////////// REMAINING CONTENT GENERATED BY embed_js.py /////////////////\n",
       "// prettier-ignore\n",
       "var _JSXTOOLS_RESIZE_OBSERVER=function(A){var t,i=new WeakMap,n=new WeakMap,a=new WeakMap,r=new WeakMap,o=new Set;function s(e){if(!(this instanceof s))throw new TypeError(\"Constructor requires 'new' operator\");i.set(this,e)}function h(){throw new TypeError(\"Function is not a constructor\")}function c(e,t,i,n){e=0 in arguments?Number(arguments[0]):0,t=1 in arguments?Number(arguments[1]):0,i=2 in arguments?Number(arguments[2]):0,n=3 in arguments?Number(arguments[3]):0,this.right=(this.x=this.left=e)+(this.width=i),this.bottom=(this.y=this.top=t)+(this.height=n),Object.freeze(this)}function d(){t=requestAnimationFrame(d);var s=new WeakMap,p=new Set;o.forEach((function(t){r.get(t).forEach((function(i){var r=t instanceof window.SVGElement,o=a.get(t),d=r?0:parseFloat(o.paddingTop),f=r?0:parseFloat(o.paddingRight),l=r?0:parseFloat(o.paddingBottom),u=r?0:parseFloat(o.paddingLeft),g=r?0:parseFloat(o.borderTopWidth),m=r?0:parseFloat(o.borderRightWidth),w=r?0:parseFloat(o.borderBottomWidth),b=u+f,F=d+l,v=(r?0:parseFloat(o.borderLeftWidth))+m,W=g+w,y=r?0:t.offsetHeight-W-t.clientHeight,E=r?0:t.offsetWidth-v-t.clientWidth,R=b+v,z=F+W,M=r?t.width:parseFloat(o.width)-R-E,O=r?t.height:parseFloat(o.height)-z-y;if(n.has(t)){var k=n.get(t);if(k[0]===M&&k[1]===O)return}n.set(t,[M,O]);var S=Object.create(h.prototype);S.target=t,S.contentRect=new c(u,d,M,O),s.has(i)||(s.set(i,[]),p.add(i)),s.get(i).push(S)}))})),p.forEach((function(e){i.get(e).call(e,s.get(e),e)}))}return s.prototype.observe=function(i){if(i instanceof window.Element){r.has(i)||(r.set(i,new Set),o.add(i),a.set(i,window.getComputedStyle(i)));var n=r.get(i);n.has(this)||n.add(this),cancelAnimationFrame(t),t=requestAnimationFrame(d)}},s.prototype.unobserve=function(i){if(i instanceof window.Element&&r.has(i)){var n=r.get(i);n.has(this)&&(n.delete(this),n.size||(r.delete(i),o.delete(i))),n.size||r.delete(i),o.size||cancelAnimationFrame(t)}},A.DOMRectReadOnly=c,A.ResizeObserver=s,A.ResizeObserverEntry=h,A}; // eslint-disable-line\n",
       "mpl.toolbar_items = [[\"Home\", \"Reset original view\", \"fa fa-home icon-home\", \"home\"], [\"Back\", \"Back to previous view\", \"fa fa-arrow-left icon-arrow-left\", \"back\"], [\"Forward\", \"Forward to next view\", \"fa fa-arrow-right icon-arrow-right\", \"forward\"], [\"\", \"\", \"\", \"\"], [\"Pan\", \"Left button pans, Right button zooms\\nx/y fixes axis, CTRL fixes aspect\", \"fa fa-arrows icon-move\", \"pan\"], [\"Zoom\", \"Zoom to rectangle\\nx/y fixes axis\", \"fa fa-square-o icon-check-empty\", \"zoom\"], [\"\", \"\", \"\", \"\"], [\"Download\", \"Download plot\", \"fa fa-floppy-o icon-save\", \"download\"]];\n",
       "\n",
       "mpl.extensions = [\"eps\", \"jpeg\", \"pgf\", \"pdf\", \"png\", \"ps\", \"raw\", \"svg\", \"tif\"];\n",
       "\n",
       "mpl.default_extension = \"png\";/* global mpl */\n",
       "\n",
       "var comm_websocket_adapter = function (comm) {\n",
       "    // Create a \"websocket\"-like object which calls the given IPython comm\n",
       "    // object with the appropriate methods. Currently this is a non binary\n",
       "    // socket, so there is still some room for performance tuning.\n",
       "    var ws = {};\n",
       "\n",
       "    ws.binaryType = comm.kernel.ws.binaryType;\n",
       "    ws.readyState = comm.kernel.ws.readyState;\n",
       "    function updateReadyState(_event) {\n",
       "        if (comm.kernel.ws) {\n",
       "            ws.readyState = comm.kernel.ws.readyState;\n",
       "        } else {\n",
       "            ws.readyState = 3; // Closed state.\n",
       "        }\n",
       "    }\n",
       "    comm.kernel.ws.addEventListener('open', updateReadyState);\n",
       "    comm.kernel.ws.addEventListener('close', updateReadyState);\n",
       "    comm.kernel.ws.addEventListener('error', updateReadyState);\n",
       "\n",
       "    ws.close = function () {\n",
       "        comm.close();\n",
       "    };\n",
       "    ws.send = function (m) {\n",
       "        //console.log('sending', m);\n",
       "        comm.send(m);\n",
       "    };\n",
       "    // Register the callback with on_msg.\n",
       "    comm.on_msg(function (msg) {\n",
       "        //console.log('receiving', msg['content']['data'], msg);\n",
       "        var data = msg['content']['data'];\n",
       "        if (data['blob'] !== undefined) {\n",
       "            data = {\n",
       "                data: new Blob(msg['buffers'], { type: data['blob'] }),\n",
       "            };\n",
       "        }\n",
       "        // Pass the mpl event to the overridden (by mpl) onmessage function.\n",
       "        ws.onmessage(data);\n",
       "    });\n",
       "    return ws;\n",
       "};\n",
       "\n",
       "mpl.mpl_figure_comm = function (comm, msg) {\n",
       "    // This is the function which gets called when the mpl process\n",
       "    // starts-up an IPython Comm through the \"matplotlib\" channel.\n",
       "\n",
       "    var id = msg.content.data.id;\n",
       "    // Get hold of the div created by the display call when the Comm\n",
       "    // socket was opened in Python.\n",
       "    var element = document.getElementById(id);\n",
       "    var ws_proxy = comm_websocket_adapter(comm);\n",
       "\n",
       "    function ondownload(figure, _format) {\n",
       "        window.open(figure.canvas.toDataURL());\n",
       "    }\n",
       "\n",
       "    var fig = new mpl.figure(id, ws_proxy, ondownload, element);\n",
       "\n",
       "    // Call onopen now - mpl needs it, as it is assuming we've passed it a real\n",
       "    // web socket which is closed, not our websocket->open comm proxy.\n",
       "    ws_proxy.onopen();\n",
       "\n",
       "    fig.parent_element = element;\n",
       "    fig.cell_info = mpl.find_output_cell(\"<div id='\" + id + \"'></div>\");\n",
       "    if (!fig.cell_info) {\n",
       "        console.error('Failed to find cell for figure', id, fig);\n",
       "        return;\n",
       "    }\n",
       "    fig.cell_info[0].output_area.element.on(\n",
       "        'cleared',\n",
       "        { fig: fig },\n",
       "        fig._remove_fig_handler\n",
       "    );\n",
       "};\n",
       "\n",
       "mpl.figure.prototype.handle_close = function (fig, msg) {\n",
       "    var width = fig.canvas.width / fig.ratio;\n",
       "    fig.cell_info[0].output_area.element.off(\n",
       "        'cleared',\n",
       "        fig._remove_fig_handler\n",
       "    );\n",
       "    fig.resizeObserverInstance.unobserve(fig.canvas_div);\n",
       "\n",
       "    // Update the output cell to use the data from the current canvas.\n",
       "    fig.push_to_output();\n",
       "    var dataURL = fig.canvas.toDataURL();\n",
       "    // Re-enable the keyboard manager in IPython - without this line, in FF,\n",
       "    // the notebook keyboard shortcuts fail.\n",
       "    IPython.keyboard_manager.enable();\n",
       "    fig.parent_element.innerHTML =\n",
       "        '<img src=\"' + dataURL + '\" width=\"' + width + '\">';\n",
       "    fig.close_ws(fig, msg);\n",
       "};\n",
       "\n",
       "mpl.figure.prototype.close_ws = function (fig, msg) {\n",
       "    fig.send_message('closing', msg);\n",
       "    // fig.ws.close()\n",
       "};\n",
       "\n",
       "mpl.figure.prototype.push_to_output = function (_remove_interactive) {\n",
       "    // Turn the data on the canvas into data in the output cell.\n",
       "    var width = this.canvas.width / this.ratio;\n",
       "    var dataURL = this.canvas.toDataURL();\n",
       "    this.cell_info[1]['text/html'] =\n",
       "        '<img src=\"' + dataURL + '\" width=\"' + width + '\">';\n",
       "};\n",
       "\n",
       "mpl.figure.prototype.updated_canvas_event = function () {\n",
       "    // Tell IPython that the notebook contents must change.\n",
       "    IPython.notebook.set_dirty(true);\n",
       "    this.send_message('ack', {});\n",
       "    var fig = this;\n",
       "    // Wait a second, then push the new image to the DOM so\n",
       "    // that it is saved nicely (might be nice to debounce this).\n",
       "    setTimeout(function () {\n",
       "        fig.push_to_output();\n",
       "    }, 1000);\n",
       "};\n",
       "\n",
       "mpl.figure.prototype._init_toolbar = function () {\n",
       "    var fig = this;\n",
       "\n",
       "    var toolbar = document.createElement('div');\n",
       "    toolbar.classList = 'btn-toolbar';\n",
       "    this.root.appendChild(toolbar);\n",
       "\n",
       "    function on_click_closure(name) {\n",
       "        return function (_event) {\n",
       "            return fig.toolbar_button_onclick(name);\n",
       "        };\n",
       "    }\n",
       "\n",
       "    function on_mouseover_closure(tooltip) {\n",
       "        return function (event) {\n",
       "            if (!event.currentTarget.disabled) {\n",
       "                return fig.toolbar_button_onmouseover(tooltip);\n",
       "            }\n",
       "        };\n",
       "    }\n",
       "\n",
       "    fig.buttons = {};\n",
       "    var buttonGroup = document.createElement('div');\n",
       "    buttonGroup.classList = 'btn-group';\n",
       "    var button;\n",
       "    for (var toolbar_ind in mpl.toolbar_items) {\n",
       "        var name = mpl.toolbar_items[toolbar_ind][0];\n",
       "        var tooltip = mpl.toolbar_items[toolbar_ind][1];\n",
       "        var image = mpl.toolbar_items[toolbar_ind][2];\n",
       "        var method_name = mpl.toolbar_items[toolbar_ind][3];\n",
       "\n",
       "        if (!name) {\n",
       "            /* Instead of a spacer, we start a new button group. */\n",
       "            if (buttonGroup.hasChildNodes()) {\n",
       "                toolbar.appendChild(buttonGroup);\n",
       "            }\n",
       "            buttonGroup = document.createElement('div');\n",
       "            buttonGroup.classList = 'btn-group';\n",
       "            continue;\n",
       "        }\n",
       "\n",
       "        button = fig.buttons[name] = document.createElement('button');\n",
       "        button.classList = 'btn btn-default';\n",
       "        button.href = '#';\n",
       "        button.title = name;\n",
       "        button.innerHTML = '<i class=\"fa ' + image + ' fa-lg\"></i>';\n",
       "        button.addEventListener('click', on_click_closure(method_name));\n",
       "        button.addEventListener('mouseover', on_mouseover_closure(tooltip));\n",
       "        buttonGroup.appendChild(button);\n",
       "    }\n",
       "\n",
       "    if (buttonGroup.hasChildNodes()) {\n",
       "        toolbar.appendChild(buttonGroup);\n",
       "    }\n",
       "\n",
       "    // Add the status bar.\n",
       "    var status_bar = document.createElement('span');\n",
       "    status_bar.classList = 'mpl-message pull-right';\n",
       "    toolbar.appendChild(status_bar);\n",
       "    this.message = status_bar;\n",
       "\n",
       "    // Add the close button to the window.\n",
       "    var buttongrp = document.createElement('div');\n",
       "    buttongrp.classList = 'btn-group inline pull-right';\n",
       "    button = document.createElement('button');\n",
       "    button.classList = 'btn btn-mini btn-primary';\n",
       "    button.href = '#';\n",
       "    button.title = 'Stop Interaction';\n",
       "    button.innerHTML = '<i class=\"fa fa-power-off icon-remove icon-large\"></i>';\n",
       "    button.addEventListener('click', function (_evt) {\n",
       "        fig.handle_close(fig, {});\n",
       "    });\n",
       "    button.addEventListener(\n",
       "        'mouseover',\n",
       "        on_mouseover_closure('Stop Interaction')\n",
       "    );\n",
       "    buttongrp.appendChild(button);\n",
       "    var titlebar = this.root.querySelector('.ui-dialog-titlebar');\n",
       "    titlebar.insertBefore(buttongrp, titlebar.firstChild);\n",
       "};\n",
       "\n",
       "mpl.figure.prototype._remove_fig_handler = function (event) {\n",
       "    var fig = event.data.fig;\n",
       "    if (event.target !== this) {\n",
       "        // Ignore bubbled events from children.\n",
       "        return;\n",
       "    }\n",
       "    fig.close_ws(fig, {});\n",
       "};\n",
       "\n",
       "mpl.figure.prototype._root_extra_style = function (el) {\n",
       "    el.style.boxSizing = 'content-box'; // override notebook setting of border-box.\n",
       "};\n",
       "\n",
       "mpl.figure.prototype._canvas_extra_style = function (el) {\n",
       "    // this is important to make the div 'focusable\n",
       "    el.setAttribute('tabindex', 0);\n",
       "    // reach out to IPython and tell the keyboard manager to turn it's self\n",
       "    // off when our div gets focus\n",
       "\n",
       "    // location in version 3\n",
       "    if (IPython.notebook.keyboard_manager) {\n",
       "        IPython.notebook.keyboard_manager.register_events(el);\n",
       "    } else {\n",
       "        // location in version 2\n",
       "        IPython.keyboard_manager.register_events(el);\n",
       "    }\n",
       "};\n",
       "\n",
       "mpl.figure.prototype._key_event_extra = function (event, _name) {\n",
       "    // Check for shift+enter\n",
       "    if (event.shiftKey && event.which === 13) {\n",
       "        this.canvas_div.blur();\n",
       "        // select the cell after this one\n",
       "        var index = IPython.notebook.find_cell_index(this.cell_info[0]);\n",
       "        IPython.notebook.select(index + 1);\n",
       "    }\n",
       "};\n",
       "\n",
       "mpl.figure.prototype.handle_save = function (fig, _msg) {\n",
       "    fig.ondownload(fig, null);\n",
       "};\n",
       "\n",
       "mpl.find_output_cell = function (html_output) {\n",
       "    // Return the cell and output element which can be found *uniquely* in the notebook.\n",
       "    // Note - this is a bit hacky, but it is done because the \"notebook_saving.Notebook\"\n",
       "    // IPython event is triggered only after the cells have been serialised, which for\n",
       "    // our purposes (turning an active figure into a static one), is too late.\n",
       "    var cells = IPython.notebook.get_cells();\n",
       "    var ncells = cells.length;\n",
       "    for (var i = 0; i < ncells; i++) {\n",
       "        var cell = cells[i];\n",
       "        if (cell.cell_type === 'code') {\n",
       "            for (var j = 0; j < cell.output_area.outputs.length; j++) {\n",
       "                var data = cell.output_area.outputs[j];\n",
       "                if (data.data) {\n",
       "                    // IPython >= 3 moved mimebundle to data attribute of output\n",
       "                    data = data.data;\n",
       "                }\n",
       "                if (data['text/html'] === html_output) {\n",
       "                    return [cell, data, j];\n",
       "                }\n",
       "            }\n",
       "        }\n",
       "    }\n",
       "};\n",
       "\n",
       "// Register the function which deals with the matplotlib target/channel.\n",
       "// The kernel may be null if the page has been refreshed.\n",
       "if (IPython.notebook.kernel !== null) {\n",
       "    IPython.notebook.kernel.comm_manager.register_target(\n",
       "        'matplotlib',\n",
       "        mpl.mpl_figure_comm\n",
       "    );\n",
       "}\n"
      ],
      "text/plain": [
       "<IPython.core.display.Javascript object>"
      ]
     },
     "metadata": {},
     "output_type": "display_data"
    },
    {
     "data": {
      "text/html": [
       "<img src=\"data:image/png;base64,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\" width=\"863.63634491755\">"
      ],
      "text/plain": [
       "<IPython.core.display.HTML object>"
      ]
     },
     "metadata": {},
     "output_type": "display_data"
    }
   ],
   "source": [
    "%matplotlib notebook\n",
    "fig = plt.figure(figsize=(12, 6))\n",
    "ax = fig.add_subplot(projection='3d')\n",
    "ax.scatter3D(xpca[:,0], xpca[:,1],xpca[:,3], c=cluster.labels_,cmap='viridis')\n",
    "ax.set_xlabel('PC1')\n",
    "ax.set_ylabel('PC2')\n",
    "ax.set_zlabel('PC3')\n",
    "ax.set_xticklabels([])\n",
    "ax.set_yticklabels([])\n",
    "ax.set_zticklabels([])\n",
    "plt.show()"
   ]
  },
  {
   "cell_type": "markdown",
   "metadata": {
    "hidden": true
   },
   "source": [
    "### Metrics"
   ]
  },
  {
   "cell_type": "code",
   "execution_count": 511,
   "metadata": {
    "hidden": true
   },
   "outputs": [],
   "source": [
    "sil_score = silhouette_score(xpca_rd,cluster.labels_)\n",
    "# Rand_Index\n",
    "rand_index = rand_score(y,cluster.labels_)\n",
    "\n",
    "#Guardamos los resultados\n",
    "results_df = results_df.append({'Cluster':str( reduced_dim) +  ' PC + Hierarchy ',\n",
    "                                'Rand_':rand_index,\n",
    "                                'Sil_':sil_score},ignore_index=True)\n"
   ]
  },
  {
   "cell_type": "markdown",
   "metadata": {
    "hidden": true
   },
   "source": [
    "## Outcome"
   ]
  },
  {
   "cell_type": "code",
   "execution_count": 512,
   "metadata": {
    "hidden": true
   },
   "outputs": [
    {
     "data": {
      "text/html": [
       "<div>\n",
       "<style scoped>\n",
       "    .dataframe tbody tr th:only-of-type {\n",
       "        vertical-align: middle;\n",
       "    }\n",
       "\n",
       "    .dataframe tbody tr th {\n",
       "        vertical-align: top;\n",
       "    }\n",
       "\n",
       "    .dataframe thead th {\n",
       "        text-align: right;\n",
       "    }\n",
       "</style>\n",
       "<table border=\"1\" class=\"dataframe\">\n",
       "  <thead>\n",
       "    <tr style=\"text-align: right;\">\n",
       "      <th></th>\n",
       "      <th>Cluster</th>\n",
       "      <th>Rand_</th>\n",
       "      <th>Sil_</th>\n",
       "    </tr>\n",
       "  </thead>\n",
       "  <tbody>\n",
       "    <tr>\n",
       "      <th>2</th>\n",
       "      <td>2 PC + Kmeans</td>\n",
       "      <td>0.843132</td>\n",
       "      <td>0.503895</td>\n",
       "    </tr>\n",
       "    <tr>\n",
       "      <th>4</th>\n",
       "      <td>3 PC + Hierarchy</td>\n",
       "      <td>0.841521</td>\n",
       "      <td>0.463188</td>\n",
       "    </tr>\n",
       "    <tr>\n",
       "      <th>3</th>\n",
       "      <td>3 PC + Kmeans</td>\n",
       "      <td>0.82783</td>\n",
       "      <td>0.464523</td>\n",
       "    </tr>\n",
       "    <tr>\n",
       "      <th>1</th>\n",
       "      <td>Kmeans3 without pca</td>\n",
       "      <td>0.819597</td>\n",
       "      <td>0.462149</td>\n",
       "    </tr>\n",
       "    <tr>\n",
       "      <th>0</th>\n",
       "      <td>Kmeans2 without pca</td>\n",
       "      <td>0.776286</td>\n",
       "      <td>0.580184</td>\n",
       "    </tr>\n",
       "  </tbody>\n",
       "</table>\n",
       "</div>"
      ],
      "text/plain": [
       "               Cluster     Rand_      Sil_\n",
       "2        2 PC + Kmeans  0.843132  0.503895\n",
       "4    3 PC + Hierarchy   0.841521  0.463188\n",
       "3        3 PC + Kmeans   0.82783  0.464523\n",
       "1  Kmeans3 without pca  0.819597  0.462149\n",
       "0  Kmeans2 without pca  0.776286  0.580184"
      ]
     },
     "execution_count": 512,
     "metadata": {},
     "output_type": "execute_result"
    }
   ],
   "source": [
    "results_df.sort_values('Rand_',ascending=False)"
   ]
  },
  {
   "cell_type": "markdown",
   "metadata": {},
   "source": [
    "# Classification Analysis"
   ]
  },
  {
   "attachments": {},
   "cell_type": "markdown",
   "metadata": {},
   "source": [
    "## Classification without PCA"
   ]
  },
  {
   "cell_type": "markdown",
   "metadata": {
    "heading_collapsed": true
   },
   "source": [
    "### Scaler"
   ]
  },
  {
   "cell_type": "code",
   "execution_count": 513,
   "metadata": {
    "hidden": true
   },
   "outputs": [],
   "source": [
    "X_train, X_test, y_train, y_test = train_test_split(x, y, test_size = 0.3, random_state = 0)\n",
    "scaler = StandardScaler()\n",
    "X_train_scal = scaler.fit_transform(X_train)\n",
    "X_test_scal = scaler.transform(X_test)"
   ]
  },
  {
   "cell_type": "code",
   "execution_count": 514,
   "metadata": {
    "hidden": true
   },
   "outputs": [
    {
     "data": {
      "text/html": [
       "<div>\n",
       "<style scoped>\n",
       "    .dataframe tbody tr th:only-of-type {\n",
       "        vertical-align: middle;\n",
       "    }\n",
       "\n",
       "    .dataframe tbody tr th {\n",
       "        vertical-align: top;\n",
       "    }\n",
       "\n",
       "    .dataframe thead th {\n",
       "        text-align: right;\n",
       "    }\n",
       "</style>\n",
       "<table border=\"1\" class=\"dataframe\">\n",
       "  <thead>\n",
       "    <tr style=\"text-align: right;\">\n",
       "      <th></th>\n",
       "      <th>Model</th>\n",
       "      <th>Best_score</th>\n",
       "    </tr>\n",
       "  </thead>\n",
       "  <tbody>\n",
       "  </tbody>\n",
       "</table>\n",
       "</div>"
      ],
      "text/plain": [
       "Empty DataFrame\n",
       "Columns: [Model, Best_score]\n",
       "Index: []"
      ]
     },
     "execution_count": 514,
     "metadata": {},
     "output_type": "execute_result"
    }
   ],
   "source": [
    "#Metrics of Performance\n",
    "performance_df =  pd.DataFrame(columns=['Model','Best_score'])\n",
    "performance_df"
   ]
  },
  {
   "cell_type": "markdown",
   "metadata": {
    "heading_collapsed": true
   },
   "source": [
    "### KNN"
   ]
  },
  {
   "cell_type": "code",
   "execution_count": 515,
   "metadata": {
    "hidden": true
   },
   "outputs": [
    {
     "name": "stdout",
     "output_type": "stream",
     "text": [
      "Fitting 5 folds for each of 49 candidates, totalling 245 fits\n"
     ]
    },
    {
     "data": {
      "text/plain": [
       "GridSearchCV(cv=5, estimator=KNeighborsClassifier(),\n",
       "             param_grid={'n_neighbors': [1, 2, 3, 4, 5, 6, 7, 8, 9, 10, 11, 12,\n",
       "                                         13, 14, 15, 16, 17, 18, 19, 20, 21, 22,\n",
       "                                         23, 24, 25, 26, 27, 28, 29, 30, ...]},\n",
       "             scoring='accuracy', verbose=1)"
      ]
     },
     "execution_count": 515,
     "metadata": {},
     "output_type": "execute_result"
    }
   ],
   "source": [
    "model_knn = KNeighborsClassifier()\n",
    "\n",
    "parameters = { 'n_neighbors' : list(range(1, 50)) }\n",
    "\n",
    "knn = GridSearchCV(model_knn, # modelo\n",
    "                   param_grid = parameters, # Hyperparametros\n",
    "                   refit = True, # retur best Parametrs \n",
    "                   scoring='accuracy',\n",
    "                   cv = 5, # Count folds \n",
    "                   verbose=1) #Information about training \n",
    "\n",
    "knn.fit( X_train_scal, y_train ) "
   ]
  },
  {
   "cell_type": "markdown",
   "metadata": {
    "hidden": true
   },
   "source": [
    "#### Best Score"
   ]
  },
  {
   "cell_type": "code",
   "execution_count": 516,
   "metadata": {
    "hidden": true
   },
   "outputs": [
    {
     "name": "stdout",
     "output_type": "stream",
     "text": [
      "KNN best score : 0.9523809523809523\n"
     ]
    },
    {
     "data": {
      "text/html": [
       "<div>\n",
       "<style scoped>\n",
       "    .dataframe tbody tr th:only-of-type {\n",
       "        vertical-align: middle;\n",
       "    }\n",
       "\n",
       "    .dataframe tbody tr th {\n",
       "        vertical-align: top;\n",
       "    }\n",
       "\n",
       "    .dataframe thead th {\n",
       "        text-align: right;\n",
       "    }\n",
       "</style>\n",
       "<table border=\"1\" class=\"dataframe\">\n",
       "  <thead>\n",
       "    <tr style=\"text-align: right;\">\n",
       "      <th></th>\n",
       "      <th>Model</th>\n",
       "      <th>Best_score</th>\n",
       "    </tr>\n",
       "  </thead>\n",
       "  <tbody>\n",
       "    <tr>\n",
       "      <th>0</th>\n",
       "      <td>KNN</td>\n",
       "      <td>0.952381</td>\n",
       "    </tr>\n",
       "  </tbody>\n",
       "</table>\n",
       "</div>"
      ],
      "text/plain": [
       "  Model Best_score\n",
       "0   KNN   0.952381"
      ]
     },
     "execution_count": 516,
     "metadata": {},
     "output_type": "execute_result"
    }
   ],
   "source": [
    "print(f'KNN best score : {knn.best_score_}')\n",
    "performance_df = performance_df.append({'Model':'KNN','Best_score':knn.best_score_},ignore_index=True)\n",
    "performance_df"
   ]
  },
  {
   "cell_type": "markdown",
   "metadata": {
    "heading_collapsed": true
   },
   "source": [
    "### Logistic Regression"
   ]
  },
  {
   "cell_type": "code",
   "execution_count": 517,
   "metadata": {
    "hidden": true
   },
   "outputs": [
    {
     "name": "stdout",
     "output_type": "stream",
     "text": [
      "CPU times: total: 906 ms\n",
      "Wall time: 915 ms\n"
     ]
    },
    {
     "data": {
      "text/plain": [
       "GridSearchCV(cv=5, estimator=LogisticRegression(random_state=4),\n",
       "             param_grid=[{'penalty': ['l1', 'l2', 'elasticnet', 'none']},\n",
       "                         {'C': [1, 2, 3, 4, 5, 6, 7, 8, 9, 10, 11, 12, 13, 14,\n",
       "                                100, 1000]}],\n",
       "             scoring='accuracy')"
      ]
     },
     "execution_count": 517,
     "metadata": {},
     "output_type": "execute_result"
    }
   ],
   "source": [
    "%%time\n",
    "log_reg = LogisticRegression(random_state=4, solver='lbfgs')\n",
    "\n",
    "parameters = [{'penalty':['l1','l2','elasticnet','none']}, \n",
    "              {'C':[1,2,3,4,5,6,7,8,9, 10,11,12,13,14, 100, 1000]}]\n",
    "\n",
    "log = GridSearchCV(estimator = log_reg,  \n",
    "                           param_grid = parameters,\n",
    "                           scoring = 'accuracy',\n",
    "                           cv = 5,\n",
    "                           verbose=0)\n",
    "\n",
    "log.fit(X_train_scal, y_train)"
   ]
  },
  {
   "cell_type": "markdown",
   "metadata": {
    "hidden": true
   },
   "source": [
    "#### Best Score"
   ]
  },
  {
   "cell_type": "code",
   "execution_count": 518,
   "metadata": {
    "hidden": true
   },
   "outputs": [
    {
     "name": "stdout",
     "output_type": "stream",
     "text": [
      "Logistic Regression best score : 0.9714285714285715\n"
     ]
    },
    {
     "data": {
      "text/html": [
       "<div>\n",
       "<style scoped>\n",
       "    .dataframe tbody tr th:only-of-type {\n",
       "        vertical-align: middle;\n",
       "    }\n",
       "\n",
       "    .dataframe tbody tr th {\n",
       "        vertical-align: top;\n",
       "    }\n",
       "\n",
       "    .dataframe thead th {\n",
       "        text-align: right;\n",
       "    }\n",
       "</style>\n",
       "<table border=\"1\" class=\"dataframe\">\n",
       "  <thead>\n",
       "    <tr style=\"text-align: right;\">\n",
       "      <th></th>\n",
       "      <th>Model</th>\n",
       "      <th>Best_score</th>\n",
       "    </tr>\n",
       "  </thead>\n",
       "  <tbody>\n",
       "    <tr>\n",
       "      <th>0</th>\n",
       "      <td>KNN</td>\n",
       "      <td>0.952381</td>\n",
       "    </tr>\n",
       "    <tr>\n",
       "      <th>1</th>\n",
       "      <td>LR</td>\n",
       "      <td>0.971429</td>\n",
       "    </tr>\n",
       "  </tbody>\n",
       "</table>\n",
       "</div>"
      ],
      "text/plain": [
       "  Model Best_score\n",
       "0   KNN   0.952381\n",
       "1    LR   0.971429"
      ]
     },
     "execution_count": 518,
     "metadata": {},
     "output_type": "execute_result"
    }
   ],
   "source": [
    "print(f'Logistic Regression best score : {log.best_score_}')\n",
    "performance_df = performance_df.append({'Model':'LR','Best_score':log.best_score_},ignore_index=True)\n",
    "performance_df"
   ]
  },
  {
   "cell_type": "markdown",
   "metadata": {
    "heading_collapsed": true
   },
   "source": [
    "### SVM"
   ]
  },
  {
   "cell_type": "code",
   "execution_count": 519,
   "metadata": {
    "hidden": true
   },
   "outputs": [
    {
     "name": "stdout",
     "output_type": "stream",
     "text": [
      "Fitting 5 folds for each of 56 candidates, totalling 280 fits\n"
     ]
    },
    {
     "data": {
      "text/plain": [
       "GridSearchCV(cv=5, estimator=SVC(probability=True),\n",
       "             param_grid={'C': [1, 10, 100, 1000],\n",
       "                         'gamma': [0.0001, 0.001, 0.01, 0.1, 1, 10, 100],\n",
       "                         'kernel': ('linear', 'rbf')},\n",
       "             verbose=1)"
      ]
     },
     "execution_count": 519,
     "metadata": {},
     "output_type": "execute_result"
    }
   ],
   "source": [
    "model_svc = svm.SVC(probability=True)\n",
    "\n",
    "parameters = {'kernel':('linear', 'rbf'),\n",
    "              'C':[1, 10, 100, 1000],\n",
    "              'gamma':[0.0001,0.001, 0.01, 0.1,1, 10,100]}\n",
    "\n",
    "svm_model = GridSearchCV(model_svc, # modelo\n",
    "                   param_grid = parameters, # Hyperparametros\n",
    "                   refit = True, # retur best Parametrs \n",
    "                   cv = 5, # Count folds \n",
    "                   verbose=1) #Information about training \n",
    "\n",
    "svm_model.fit( X_train_scal, y_train )"
   ]
  },
  {
   "cell_type": "markdown",
   "metadata": {
    "hidden": true
   },
   "source": [
    "#### best_score"
   ]
  },
  {
   "cell_type": "code",
   "execution_count": 520,
   "metadata": {
    "hidden": true
   },
   "outputs": [
    {
     "name": "stdout",
     "output_type": "stream",
     "text": [
      "SVM best score : 0.9619047619047618\n"
     ]
    },
    {
     "data": {
      "text/html": [
       "<div>\n",
       "<style scoped>\n",
       "    .dataframe tbody tr th:only-of-type {\n",
       "        vertical-align: middle;\n",
       "    }\n",
       "\n",
       "    .dataframe tbody tr th {\n",
       "        vertical-align: top;\n",
       "    }\n",
       "\n",
       "    .dataframe thead th {\n",
       "        text-align: right;\n",
       "    }\n",
       "</style>\n",
       "<table border=\"1\" class=\"dataframe\">\n",
       "  <thead>\n",
       "    <tr style=\"text-align: right;\">\n",
       "      <th></th>\n",
       "      <th>Model</th>\n",
       "      <th>Best_score</th>\n",
       "    </tr>\n",
       "  </thead>\n",
       "  <tbody>\n",
       "    <tr>\n",
       "      <th>0</th>\n",
       "      <td>KNN</td>\n",
       "      <td>0.952381</td>\n",
       "    </tr>\n",
       "    <tr>\n",
       "      <th>1</th>\n",
       "      <td>LR</td>\n",
       "      <td>0.971429</td>\n",
       "    </tr>\n",
       "    <tr>\n",
       "      <th>2</th>\n",
       "      <td>SVM</td>\n",
       "      <td>0.961905</td>\n",
       "    </tr>\n",
       "  </tbody>\n",
       "</table>\n",
       "</div>"
      ],
      "text/plain": [
       "  Model Best_score\n",
       "0   KNN   0.952381\n",
       "1    LR   0.971429\n",
       "2   SVM   0.961905"
      ]
     },
     "execution_count": 520,
     "metadata": {},
     "output_type": "execute_result"
    }
   ],
   "source": [
    "print(f'SVM best score : {svm_model.best_score_}')\n",
    "performance_df = performance_df.append({'Model':'SVM','Best_score':svm_model.best_score_},ignore_index=True)\n",
    "performance_df"
   ]
  },
  {
   "cell_type": "markdown",
   "metadata": {
    "heading_collapsed": true
   },
   "source": [
    "### Decision Trees Model"
   ]
  },
  {
   "cell_type": "code",
   "execution_count": 521,
   "metadata": {
    "hidden": true
   },
   "outputs": [
    {
     "data": {
      "text/plain": [
       "GridSearchCV(cv=10, estimator=DecisionTreeClassifier(),\n",
       "             param_grid={'criterion': ['gini', 'entropy'],\n",
       "                         'max_depth': [4, 5, 6, 7, 8, 9, 10, 11, 12, 15, 20, 30,\n",
       "                                       40, 50, 70, 90, 120, 150]},\n",
       "             scoring='accuracy')"
      ]
     },
     "execution_count": 521,
     "metadata": {},
     "output_type": "execute_result"
    }
   ],
   "source": [
    "# #Define model\n",
    "tree_clf = DecisionTreeClassifier()\n",
    "\n",
    "tree_para = {'criterion':['gini','entropy'],\n",
    "             'max_depth':[4,5,6,7,8,9,10,11,12,15,20,30,40,50,70,90,120,150]}\n",
    "\n",
    "#Define GridserchCV\n",
    "tree = GridSearchCV(tree_clf,                    # model\n",
    "                   param_grid = tree_para,   # hyperparameters\n",
    "                   scoring='accuracy',        # metric for scoring\n",
    "                   cv=10,\n",
    "                   refit = True)                     # number of folds\n",
    "\n",
    "# Training Model\n",
    "tree.fit( X_train_scal , y_train )"
   ]
  },
  {
   "cell_type": "markdown",
   "metadata": {
    "hidden": true
   },
   "source": [
    "#### best_score"
   ]
  },
  {
   "cell_type": "code",
   "execution_count": 522,
   "metadata": {
    "hidden": true
   },
   "outputs": [
    {
     "name": "stdout",
     "output_type": "stream",
     "text": [
      "Decision Trees best score : 0.9609090909090909\n"
     ]
    },
    {
     "data": {
      "text/html": [
       "<div>\n",
       "<style scoped>\n",
       "    .dataframe tbody tr th:only-of-type {\n",
       "        vertical-align: middle;\n",
       "    }\n",
       "\n",
       "    .dataframe tbody tr th {\n",
       "        vertical-align: top;\n",
       "    }\n",
       "\n",
       "    .dataframe thead th {\n",
       "        text-align: right;\n",
       "    }\n",
       "</style>\n",
       "<table border=\"1\" class=\"dataframe\">\n",
       "  <thead>\n",
       "    <tr style=\"text-align: right;\">\n",
       "      <th></th>\n",
       "      <th>Model</th>\n",
       "      <th>Best_score</th>\n",
       "    </tr>\n",
       "  </thead>\n",
       "  <tbody>\n",
       "    <tr>\n",
       "      <th>0</th>\n",
       "      <td>KNN</td>\n",
       "      <td>0.952381</td>\n",
       "    </tr>\n",
       "    <tr>\n",
       "      <th>1</th>\n",
       "      <td>LR</td>\n",
       "      <td>0.971429</td>\n",
       "    </tr>\n",
       "    <tr>\n",
       "      <th>2</th>\n",
       "      <td>SVM</td>\n",
       "      <td>0.961905</td>\n",
       "    </tr>\n",
       "    <tr>\n",
       "      <th>3</th>\n",
       "      <td>DT</td>\n",
       "      <td>0.960909</td>\n",
       "    </tr>\n",
       "  </tbody>\n",
       "</table>\n",
       "</div>"
      ],
      "text/plain": [
       "  Model Best_score\n",
       "0   KNN   0.952381\n",
       "1    LR   0.971429\n",
       "2   SVM   0.961905\n",
       "3    DT   0.960909"
      ]
     },
     "execution_count": 522,
     "metadata": {},
     "output_type": "execute_result"
    }
   ],
   "source": [
    "print(f'Decision Trees best score : {tree.best_score_}')\n",
    "performance_df = performance_df.append({'Model':'DT','Best_score':tree.best_score_},ignore_index=True)\n",
    "performance_df"
   ]
  },
  {
   "cell_type": "markdown",
   "metadata": {},
   "source": [
    "## Classification with PCA"
   ]
  },
  {
   "cell_type": "markdown",
   "metadata": {
    "heading_collapsed": true
   },
   "source": [
    "### Principal Component Analysis"
   ]
  },
  {
   "cell_type": "code",
   "execution_count": 523,
   "metadata": {
    "hidden": true
   },
   "outputs": [],
   "source": [
    "pca = PCA().fit(X_train_scal)"
   ]
  },
  {
   "cell_type": "code",
   "execution_count": 524,
   "metadata": {
    "hidden": true
   },
   "outputs": [
    {
     "data": {
      "text/plain": [
       "<function matplotlib.pyplot.show(close=None, block=None)>"
      ]
     },
     "execution_count": 524,
     "metadata": {},
     "output_type": "execute_result"
    },
    {
     "data": {
      "image/png": "[encoded data removed]",
      "text/plain": [
       "<Figure size 432x288 with 1 Axes>"
      ]
     },
     "metadata": {
      "needs_background": "light"
     },
     "output_type": "display_data"
    }
   ],
   "source": [
    "%matplotlib inline\n",
    "plt.plot( np.cumsum(pca.explained_variance_ratio_) )\n",
    "plt.xlabel('Number of components')\n",
    "plt.ylabel('Cumulative explained variance')\n",
    "plt.show"
   ]
  },
  {
   "cell_type": "code",
   "execution_count": 525,
   "metadata": {
    "hidden": true
   },
   "outputs": [
    {
     "data": {
      "text/plain": [
       "2"
      ]
     },
     "execution_count": 525,
     "metadata": {},
     "output_type": "execute_result"
    }
   ],
   "source": [
    "pca=PCA(0.95) \n",
    "X_train_scal_pca = pca.fit_transform(X_train_scal)\n",
    "X_test_scal_pca = pca.transform(X_test_scal)\n",
    "pca.n_components_"
   ]
  },
  {
   "cell_type": "code",
   "execution_count": 526,
   "metadata": {
    "hidden": true
   },
   "outputs": [
    {
     "data": {
      "image/png": "[encoded data removed]",
      "text/plain": [
       "<Figure size 648x432 with 1 Axes>"
      ]
     },
     "metadata": {
      "needs_background": "light"
     },
     "output_type": "display_data"
    }
   ],
   "source": [
    "plt.figure(figsize=(9,6))\n",
    "plt.scatter(X_train_scal_pca[:,0],X_train_scal_pca[:,1])    \n",
    "plt.xlabel('PC 1')\n",
    "plt.ylabel('PC 2')\n",
    "plt.title('Figure PC1 y PC2')\n",
    "plt.show()"
   ]
  },
  {
   "cell_type": "markdown",
   "metadata": {
    "heading_collapsed": true
   },
   "source": [
    "### KNN with PCA"
   ]
  },
  {
   "cell_type": "code",
   "execution_count": 527,
   "metadata": {
    "hidden": true
   },
   "outputs": [
    {
     "name": "stdout",
     "output_type": "stream",
     "text": [
      "Fitting 5 folds for each of 49 candidates, totalling 245 fits\n"
     ]
    },
    {
     "data": {
      "text/plain": [
       "GridSearchCV(cv=5, estimator=KNeighborsClassifier(),\n",
       "             param_grid={'n_neighbors': [1, 2, 3, 4, 5, 6, 7, 8, 9, 10, 11, 12,\n",
       "                                         13, 14, 15, 16, 17, 18, 19, 20, 21, 22,\n",
       "                                         23, 24, 25, 26, 27, 28, 29, 30, ...]},\n",
       "             scoring='accuracy', verbose=1)"
      ]
     },
     "execution_count": 527,
     "metadata": {},
     "output_type": "execute_result"
    }
   ],
   "source": [
    "model_knn = KNeighborsClassifier()\n",
    "\n",
    "parameters = { 'n_neighbors' : list(range(1, 50)) }\n",
    "\n",
    "knn_pca = GridSearchCV(model_knn, # modelo\n",
    "                   param_grid = parameters, # Hyperparametros\n",
    "                   refit = True, # retur best Parametrs \n",
    "                   scoring='accuracy',\n",
    "                   cv = 5, # Count folds \n",
    "                   verbose=1) #Information about training \n",
    "\n",
    "knn_pca.fit( X_train_scal_pca, y_train ) "
   ]
  },
  {
   "cell_type": "markdown",
   "metadata": {
    "hidden": true
   },
   "source": [
    "#### Best Score"
   ]
  },
  {
   "cell_type": "code",
   "execution_count": 528,
   "metadata": {
    "hidden": true
   },
   "outputs": [
    {
     "name": "stdout",
     "output_type": "stream",
     "text": [
      "KNN best score : 0.9428571428571428\n"
     ]
    },
    {
     "data": {
      "text/html": [
       "<div>\n",
       "<style scoped>\n",
       "    .dataframe tbody tr th:only-of-type {\n",
       "        vertical-align: middle;\n",
       "    }\n",
       "\n",
       "    .dataframe tbody tr th {\n",
       "        vertical-align: top;\n",
       "    }\n",
       "\n",
       "    .dataframe thead th {\n",
       "        text-align: right;\n",
       "    }\n",
       "</style>\n",
       "<table border=\"1\" class=\"dataframe\">\n",
       "  <thead>\n",
       "    <tr style=\"text-align: right;\">\n",
       "      <th></th>\n",
       "      <th>Model</th>\n",
       "      <th>Best_score</th>\n",
       "    </tr>\n",
       "  </thead>\n",
       "  <tbody>\n",
       "    <tr>\n",
       "      <th>1</th>\n",
       "      <td>LR</td>\n",
       "      <td>0.971429</td>\n",
       "    </tr>\n",
       "    <tr>\n",
       "      <th>2</th>\n",
       "      <td>SVM</td>\n",
       "      <td>0.961905</td>\n",
       "    </tr>\n",
       "    <tr>\n",
       "      <th>3</th>\n",
       "      <td>DT</td>\n",
       "      <td>0.960909</td>\n",
       "    </tr>\n",
       "    <tr>\n",
       "      <th>0</th>\n",
       "      <td>KNN</td>\n",
       "      <td>0.952381</td>\n",
       "    </tr>\n",
       "    <tr>\n",
       "      <th>4</th>\n",
       "      <td>KNN_PCA</td>\n",
       "      <td>0.942857</td>\n",
       "    </tr>\n",
       "  </tbody>\n",
       "</table>\n",
       "</div>"
      ],
      "text/plain": [
       "     Model Best_score\n",
       "1       LR   0.971429\n",
       "2      SVM   0.961905\n",
       "3       DT   0.960909\n",
       "0      KNN   0.952381\n",
       "4  KNN_PCA   0.942857"
      ]
     },
     "execution_count": 528,
     "metadata": {},
     "output_type": "execute_result"
    }
   ],
   "source": [
    "print(f'KNN best score : {knn_pca.best_score_}')\n",
    "performance_df = performance_df.append({'Model':'KNN_PCA','Best_score':knn_pca.best_score_},ignore_index=True)\n",
    "performance_df.sort_values('Best_score',ascending=False)"
   ]
  },
  {
   "cell_type": "markdown",
   "metadata": {
    "heading_collapsed": true
   },
   "source": [
    "### Logistic Regression with PCA\n"
   ]
  },
  {
   "cell_type": "code",
   "execution_count": 529,
   "metadata": {
    "hidden": true
   },
   "outputs": [
    {
     "name": "stdout",
     "output_type": "stream",
     "text": [
      "CPU times: total: 750 ms\n",
      "Wall time: 761 ms\n"
     ]
    },
    {
     "data": {
      "text/plain": [
       "GridSearchCV(cv=5, estimator=LogisticRegression(random_state=4),\n",
       "             param_grid=[{'penalty': ['l1', 'l2', 'elasticnet', 'none']},\n",
       "                         {'C': [1, 2, 3, 4, 5, 6, 7, 8, 9, 10, 11, 12, 13, 14,\n",
       "                                100, 1000]}],\n",
       "             scoring='accuracy')"
      ]
     },
     "execution_count": 529,
     "metadata": {},
     "output_type": "execute_result"
    }
   ],
   "source": [
    "%%time\n",
    "log_reg = LogisticRegression(random_state=4, solver='lbfgs')\n",
    "\n",
    "parameters = [{'penalty':['l1','l2','elasticnet','none']}, \n",
    "              {'C':[1,2,3,4,5,6,7,8,9, 10,11,12,13,14, 100, 1000]}]\n",
    "\n",
    "log_pca = GridSearchCV(estimator = log_reg,  \n",
    "                           param_grid = parameters,\n",
    "                           scoring = 'accuracy',\n",
    "                           cv = 5,\n",
    "                           verbose=0)\n",
    "\n",
    "log_pca.fit(X_train_scal_pca, y_train)\n"
   ]
  },
  {
   "cell_type": "markdown",
   "metadata": {
    "hidden": true
   },
   "source": [
    "\n",
    "#### Best Score\n",
    "\n"
   ]
  },
  {
   "cell_type": "code",
   "execution_count": 530,
   "metadata": {
    "hidden": true
   },
   "outputs": [
    {
     "name": "stdout",
     "output_type": "stream",
     "text": [
      "Logistic Regression best score : 0.9714285714285715\n"
     ]
    },
    {
     "data": {
      "text/html": [
       "<div>\n",
       "<style scoped>\n",
       "    .dataframe tbody tr th:only-of-type {\n",
       "        vertical-align: middle;\n",
       "    }\n",
       "\n",
       "    .dataframe tbody tr th {\n",
       "        vertical-align: top;\n",
       "    }\n",
       "\n",
       "    .dataframe thead th {\n",
       "        text-align: right;\n",
       "    }\n",
       "</style>\n",
       "<table border=\"1\" class=\"dataframe\">\n",
       "  <thead>\n",
       "    <tr style=\"text-align: right;\">\n",
       "      <th></th>\n",
       "      <th>Model</th>\n",
       "      <th>Best_score</th>\n",
       "    </tr>\n",
       "  </thead>\n",
       "  <tbody>\n",
       "    <tr>\n",
       "      <th>1</th>\n",
       "      <td>LR</td>\n",
       "      <td>0.971429</td>\n",
       "    </tr>\n",
       "    <tr>\n",
       "      <th>2</th>\n",
       "      <td>SVM</td>\n",
       "      <td>0.961905</td>\n",
       "    </tr>\n",
       "    <tr>\n",
       "      <th>3</th>\n",
       "      <td>DT</td>\n",
       "      <td>0.960909</td>\n",
       "    </tr>\n",
       "    <tr>\n",
       "      <th>0</th>\n",
       "      <td>KNN</td>\n",
       "      <td>0.952381</td>\n",
       "    </tr>\n",
       "    <tr>\n",
       "      <th>4</th>\n",
       "      <td>KNN_PCA</td>\n",
       "      <td>0.942857</td>\n",
       "    </tr>\n",
       "    <tr>\n",
       "      <th>5</th>\n",
       "      <td>LR_PCA</td>\n",
       "      <td>0.904762</td>\n",
       "    </tr>\n",
       "  </tbody>\n",
       "</table>\n",
       "</div>"
      ],
      "text/plain": [
       "     Model Best_score\n",
       "1       LR   0.971429\n",
       "2      SVM   0.961905\n",
       "3       DT   0.960909\n",
       "0      KNN   0.952381\n",
       "4  KNN_PCA   0.942857\n",
       "5   LR_PCA   0.904762"
      ]
     },
     "execution_count": 530,
     "metadata": {},
     "output_type": "execute_result"
    }
   ],
   "source": [
    "print(f'Logistic Regression best score : {log.best_score_}')\n",
    "performance_df = performance_df.append({'Model':'LR_PCA','Best_score':log_pca.best_score_},ignore_index=True)\n",
    "performance_df.sort_values('Best_score',ascending=False)"
   ]
  },
  {
   "cell_type": "markdown",
   "metadata": {
    "heading_collapsed": true
   },
   "source": [
    "### SVM with PCA\n"
   ]
  },
  {
   "cell_type": "code",
   "execution_count": 531,
   "metadata": {
    "hidden": true
   },
   "outputs": [],
   "source": [
    "model_svc = svm.SVC()"
   ]
  },
  {
   "cell_type": "code",
   "execution_count": 532,
   "metadata": {
    "hidden": true
   },
   "outputs": [
    {
     "name": "stdout",
     "output_type": "stream",
     "text": [
      "Fitting 5 folds for each of 56 candidates, totalling 280 fits\n"
     ]
    },
    {
     "data": {
      "text/plain": [
       "GridSearchCV(cv=5, estimator=SVC(),\n",
       "             param_grid={'C': [1, 10, 100, 1000],\n",
       "                         'gamma': [0.0001, 0.001, 0.01, 0.1, 1, 10, 100],\n",
       "                         'kernel': ('linear', 'rbf')},\n",
       "             verbose=1)"
      ]
     },
     "execution_count": 532,
     "metadata": {},
     "output_type": "execute_result"
    }
   ],
   "source": [
    "model_svc = svm.SVC()\n",
    "\n",
    "parameters = {'kernel':('linear', 'rbf'),\n",
    "              'C':[1, 10, 100, 1000],\n",
    "              'gamma':[0.0001,0.001, 0.01, 0.1,1, 10,100]}\n",
    "\n",
    "svm_pca = GridSearchCV(model_svc, # modelo\n",
    "                   param_grid = parameters, # Hyperparametros\n",
    "                   refit = True, # retur best Parametrs \n",
    "                   cv = 5, # Count folds \n",
    "                   verbose=1) #Information about training \n",
    "\n",
    "svm_pca.fit( X_train_scal_pca, y_train )\n",
    "\n"
   ]
  },
  {
   "cell_type": "markdown",
   "metadata": {
    "hidden": true
   },
   "source": [
    "#### best_score\n"
   ]
  },
  {
   "cell_type": "code",
   "execution_count": 533,
   "metadata": {
    "hidden": true
   },
   "outputs": [
    {
     "name": "stdout",
     "output_type": "stream",
     "text": [
      "SVM best score : 0.9238095238095237\n"
     ]
    },
    {
     "data": {
      "text/html": [
       "<div>\n",
       "<style scoped>\n",
       "    .dataframe tbody tr th:only-of-type {\n",
       "        vertical-align: middle;\n",
       "    }\n",
       "\n",
       "    .dataframe tbody tr th {\n",
       "        vertical-align: top;\n",
       "    }\n",
       "\n",
       "    .dataframe thead th {\n",
       "        text-align: right;\n",
       "    }\n",
       "</style>\n",
       "<table border=\"1\" class=\"dataframe\">\n",
       "  <thead>\n",
       "    <tr style=\"text-align: right;\">\n",
       "      <th></th>\n",
       "      <th>Model</th>\n",
       "      <th>Best_score</th>\n",
       "    </tr>\n",
       "  </thead>\n",
       "  <tbody>\n",
       "    <tr>\n",
       "      <th>1</th>\n",
       "      <td>LR</td>\n",
       "      <td>0.971429</td>\n",
       "    </tr>\n",
       "    <tr>\n",
       "      <th>2</th>\n",
       "      <td>SVM</td>\n",
       "      <td>0.961905</td>\n",
       "    </tr>\n",
       "    <tr>\n",
       "      <th>3</th>\n",
       "      <td>DT</td>\n",
       "      <td>0.960909</td>\n",
       "    </tr>\n",
       "    <tr>\n",
       "      <th>0</th>\n",
       "      <td>KNN</td>\n",
       "      <td>0.952381</td>\n",
       "    </tr>\n",
       "    <tr>\n",
       "      <th>4</th>\n",
       "      <td>KNN_PCA</td>\n",
       "      <td>0.942857</td>\n",
       "    </tr>\n",
       "    <tr>\n",
       "      <th>6</th>\n",
       "      <td>SVM_PCA</td>\n",
       "      <td>0.92381</td>\n",
       "    </tr>\n",
       "    <tr>\n",
       "      <th>5</th>\n",
       "      <td>LR_PCA</td>\n",
       "      <td>0.904762</td>\n",
       "    </tr>\n",
       "  </tbody>\n",
       "</table>\n",
       "</div>"
      ],
      "text/plain": [
       "     Model Best_score\n",
       "1       LR   0.971429\n",
       "2      SVM   0.961905\n",
       "3       DT   0.960909\n",
       "0      KNN   0.952381\n",
       "4  KNN_PCA   0.942857\n",
       "6  SVM_PCA    0.92381\n",
       "5   LR_PCA   0.904762"
      ]
     },
     "execution_count": 533,
     "metadata": {},
     "output_type": "execute_result"
    }
   ],
   "source": [
    "print(f'SVM best score : {svm_pca.best_score_}')\n",
    "performance_df = performance_df.append({'Model':'SVM_PCA','Best_score':svm_pca.best_score_},ignore_index=True)\n",
    "performance_df.sort_values('Best_score',ascending=False)\n"
   ]
  },
  {
   "cell_type": "markdown",
   "metadata": {
    "heading_collapsed": true
   },
   "source": [
    "### Decision Trees Model with PCA"
   ]
  },
  {
   "cell_type": "code",
   "execution_count": 534,
   "metadata": {
    "hidden": true
   },
   "outputs": [
    {
     "data": {
      "text/plain": [
       "GridSearchCV(cv=10, estimator=DecisionTreeClassifier(),\n",
       "             param_grid={'criterion': ['gini', 'entropy'],\n",
       "                         'max_depth': [4, 5, 6, 7, 8, 9, 10, 11, 12, 15, 20, 30,\n",
       "                                       40, 50, 70, 90, 120, 150]},\n",
       "             scoring='accuracy')"
      ]
     },
     "execution_count": 534,
     "metadata": {},
     "output_type": "execute_result"
    }
   ],
   "source": [
    "# #Define model\n",
    "tree_clf = DecisionTreeClassifier()\n",
    "\n",
    "tree_para = {'criterion':['gini','entropy'],\n",
    "             'max_depth':[4,5,6,7,8,9,10,11,12,15,20,30,40,50,70,90,120,150]}\n",
    "\n",
    "#Define GridserchCV\n",
    "tree_pca = GridSearchCV(tree_clf,                    # model\n",
    "                   param_grid = tree_para,   # hyperparameters\n",
    "                   scoring='accuracy',        # metric for scoring\n",
    "                   cv=10,\n",
    "                   refit = True)                     # number of folds\n",
    "\n",
    "# Training Model\n",
    "tree_pca.fit( X_train_scal_pca , y_train )"
   ]
  },
  {
   "cell_type": "markdown",
   "metadata": {
    "hidden": true
   },
   "source": [
    "#### best_score"
   ]
  },
  {
   "cell_type": "code",
   "execution_count": 535,
   "metadata": {
    "hidden": true
   },
   "outputs": [
    {
     "name": "stdout",
     "output_type": "stream",
     "text": [
      "Decision Trees best score : 0.9227272727272726\n"
     ]
    },
    {
     "data": {
      "text/html": [
       "<div>\n",
       "<style scoped>\n",
       "    .dataframe tbody tr th:only-of-type {\n",
       "        vertical-align: middle;\n",
       "    }\n",
       "\n",
       "    .dataframe tbody tr th {\n",
       "        vertical-align: top;\n",
       "    }\n",
       "\n",
       "    .dataframe thead th {\n",
       "        text-align: right;\n",
       "    }\n",
       "</style>\n",
       "<table border=\"1\" class=\"dataframe\">\n",
       "  <thead>\n",
       "    <tr style=\"text-align: right;\">\n",
       "      <th></th>\n",
       "      <th>Model</th>\n",
       "      <th>Best_score</th>\n",
       "    </tr>\n",
       "  </thead>\n",
       "  <tbody>\n",
       "    <tr>\n",
       "      <th>1</th>\n",
       "      <td>LR</td>\n",
       "      <td>0.971429</td>\n",
       "    </tr>\n",
       "    <tr>\n",
       "      <th>2</th>\n",
       "      <td>SVM</td>\n",
       "      <td>0.961905</td>\n",
       "    </tr>\n",
       "    <tr>\n",
       "      <th>3</th>\n",
       "      <td>DT</td>\n",
       "      <td>0.960909</td>\n",
       "    </tr>\n",
       "    <tr>\n",
       "      <th>0</th>\n",
       "      <td>KNN</td>\n",
       "      <td>0.952381</td>\n",
       "    </tr>\n",
       "    <tr>\n",
       "      <th>4</th>\n",
       "      <td>KNN_PCA</td>\n",
       "      <td>0.942857</td>\n",
       "    </tr>\n",
       "    <tr>\n",
       "      <th>6</th>\n",
       "      <td>SVM_PCA</td>\n",
       "      <td>0.92381</td>\n",
       "    </tr>\n",
       "    <tr>\n",
       "      <th>7</th>\n",
       "      <td>DT_PCA</td>\n",
       "      <td>0.922727</td>\n",
       "    </tr>\n",
       "    <tr>\n",
       "      <th>5</th>\n",
       "      <td>LR_PCA</td>\n",
       "      <td>0.904762</td>\n",
       "    </tr>\n",
       "  </tbody>\n",
       "</table>\n",
       "</div>"
      ],
      "text/plain": [
       "     Model Best_score\n",
       "1       LR   0.971429\n",
       "2      SVM   0.961905\n",
       "3       DT   0.960909\n",
       "0      KNN   0.952381\n",
       "4  KNN_PCA   0.942857\n",
       "6  SVM_PCA    0.92381\n",
       "7   DT_PCA   0.922727\n",
       "5   LR_PCA   0.904762"
      ]
     },
     "execution_count": 535,
     "metadata": {},
     "output_type": "execute_result"
    }
   ],
   "source": [
    "print(f'Decision Trees best score : {tree_pca.best_score_}')\n",
    "performance_df = performance_df.append({'Model':'DT_PCA','Best_score':tree_pca.best_score_},ignore_index=True)\n",
    "performance_df.sort_values('Best_score',ascending=False)"
   ]
  },
  {
   "cell_type": "code",
   "execution_count": 536,
   "metadata": {
    "hidden": true
   },
   "outputs": [
    {
     "data": {
      "text/html": [
       "<div>\n",
       "<style scoped>\n",
       "    .dataframe tbody tr th:only-of-type {\n",
       "        vertical-align: middle;\n",
       "    }\n",
       "\n",
       "    .dataframe tbody tr th {\n",
       "        vertical-align: top;\n",
       "    }\n",
       "\n",
       "    .dataframe thead th {\n",
       "        text-align: right;\n",
       "    }\n",
       "</style>\n",
       "<table border=\"1\" class=\"dataframe\">\n",
       "  <thead>\n",
       "    <tr style=\"text-align: right;\">\n",
       "      <th></th>\n",
       "      <th>Model</th>\n",
       "      <th>Best_score</th>\n",
       "    </tr>\n",
       "  </thead>\n",
       "  <tbody>\n",
       "    <tr>\n",
       "      <th>1</th>\n",
       "      <td>LR</td>\n",
       "      <td>0.971429</td>\n",
       "    </tr>\n",
       "    <tr>\n",
       "      <th>2</th>\n",
       "      <td>SVM</td>\n",
       "      <td>0.961905</td>\n",
       "    </tr>\n",
       "    <tr>\n",
       "      <th>3</th>\n",
       "      <td>DT</td>\n",
       "      <td>0.960909</td>\n",
       "    </tr>\n",
       "    <tr>\n",
       "      <th>0</th>\n",
       "      <td>KNN</td>\n",
       "      <td>0.952381</td>\n",
       "    </tr>\n",
       "    <tr>\n",
       "      <th>4</th>\n",
       "      <td>KNN_PCA</td>\n",
       "      <td>0.942857</td>\n",
       "    </tr>\n",
       "    <tr>\n",
       "      <th>6</th>\n",
       "      <td>SVM_PCA</td>\n",
       "      <td>0.92381</td>\n",
       "    </tr>\n",
       "    <tr>\n",
       "      <th>7</th>\n",
       "      <td>DT_PCA</td>\n",
       "      <td>0.922727</td>\n",
       "    </tr>\n",
       "    <tr>\n",
       "      <th>5</th>\n",
       "      <td>LR_PCA</td>\n",
       "      <td>0.904762</td>\n",
       "    </tr>\n",
       "  </tbody>\n",
       "</table>\n",
       "</div>"
      ],
      "text/plain": [
       "     Model Best_score\n",
       "1       LR   0.971429\n",
       "2      SVM   0.961905\n",
       "3       DT   0.960909\n",
       "0      KNN   0.952381\n",
       "4  KNN_PCA   0.942857\n",
       "6  SVM_PCA    0.92381\n",
       "7   DT_PCA   0.922727\n",
       "5   LR_PCA   0.904762"
      ]
     },
     "execution_count": 536,
     "metadata": {},
     "output_type": "execute_result"
    }
   ],
   "source": [
    "performance_df.sort_values('Best_score',ascending=False)"
   ]
  }
 ],
 "metadata": {
  "kernelspec": {
   "display_name": "Python 3 (ipykernel)",
   "language": "python",
   "name": "python3"
  },
  "language_info": {
   "codemirror_mode": {
    "name": "ipython",
    "version": 3
   },
   "file_extension": ".py",
   "mimetype": "text/x-python",
   "name": "python",
   "nbconvert_exporter": "python",
   "pygments_lexer": "ipython3",
   "version": "3.9.12"
  },
  "toc": {
   "base_numbering": 1,
   "nav_menu": {},
   "number_sections": true,
   "sideBar": true,
   "skip_h1_title": false,
   "title_cell": "Table of Contents",
   "title_sidebar": "Contents",
   "toc_cell": false,
   "toc_position": {
    "height": "calc(100% - 180px)",
    "left": "10px",
    "top": "150px",
    "width": "263.565px"
   },
   "toc_section_display": true,
   "toc_window_display": true
  }
 },
 "nbformat": 4,
 "nbformat_minor": 2
}

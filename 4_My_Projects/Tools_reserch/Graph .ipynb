{
 "cells": [
  {
   "cell_type": "markdown",
   "id": "cbfb27bc",
   "metadata": {},
   "source": [
    "# Import"
   ]
  },
  {
   "cell_type": "markdown",
   "id": "44110aef",
   "metadata": {
    "heading_collapsed": true
   },
   "source": [
    "## Library"
   ]
  },
  {
   "cell_type": "code",
   "execution_count": 24,
   "id": "26ef0861",
   "metadata": {
    "hidden": true
   },
   "outputs": [],
   "source": [
    "from pyvis.network  import Network\n",
    "import numpy as np\n",
    "import pandas as pd\n",
    "import warnings\n",
    "import networkx as nx\n",
    "warnings.filterwarnings('ignore')"
   ]
  },
  {
   "cell_type": "markdown",
   "id": "540cf30e",
   "metadata": {},
   "source": [
    "##  Create matrix"
   ]
  },
  {
   "cell_type": "markdown",
   "id": "e88576a2",
   "metadata": {},
   "source": [
    "# Graph"
   ]
  },
  {
   "cell_type": "code",
   "execution_count": 31,
   "id": "54b37d3a",
   "metadata": {},
   "outputs": [
    {
     "data": {
      "text/plain": [
       "array([[0, 1, 1],\n",
       "       [0, 0, 1],\n",
       "       [0, 0, 0],\n",
       "       [1, 0, 1],\n",
       "       [1, 1, 1],\n",
       "       [0, 1, 1],\n",
       "       [1, 0, 1],\n",
       "       [1, 0, 0],\n",
       "       [0, 1, 0],\n",
       "       [1, 1, 1]])"
      ]
     },
     "execution_count": 31,
     "metadata": {},
     "output_type": "execute_result"
    }
   ],
   "source": [
    "x =  np.random.randint(0, 2, size = (10,3))\n",
    "x"
   ]
  },
  {
   "cell_type": "code",
   "execution_count": 32,
   "id": "b8267a01",
   "metadata": {},
   "outputs": [
    {
     "data": {
      "text/html": [
       "<div>\n",
       "<style scoped>\n",
       "    .dataframe tbody tr th:only-of-type {\n",
       "        vertical-align: middle;\n",
       "    }\n",
       "\n",
       "    .dataframe tbody tr th {\n",
       "        vertical-align: top;\n",
       "    }\n",
       "\n",
       "    .dataframe thead th {\n",
       "        text-align: right;\n",
       "    }\n",
       "</style>\n",
       "<table border=\"1\" class=\"dataframe\">\n",
       "  <thead>\n",
       "    <tr style=\"text-align: right;\">\n",
       "      <th></th>\n",
       "      <th>0</th>\n",
       "      <th>1</th>\n",
       "      <th>2</th>\n",
       "    </tr>\n",
       "  </thead>\n",
       "  <tbody>\n",
       "    <tr>\n",
       "      <th>0</th>\n",
       "      <td>0</td>\n",
       "      <td>1</td>\n",
       "      <td>1</td>\n",
       "    </tr>\n",
       "    <tr>\n",
       "      <th>1</th>\n",
       "      <td>0</td>\n",
       "      <td>0</td>\n",
       "      <td>1</td>\n",
       "    </tr>\n",
       "    <tr>\n",
       "      <th>2</th>\n",
       "      <td>0</td>\n",
       "      <td>0</td>\n",
       "      <td>0</td>\n",
       "    </tr>\n",
       "    <tr>\n",
       "      <th>3</th>\n",
       "      <td>1</td>\n",
       "      <td>0</td>\n",
       "      <td>1</td>\n",
       "    </tr>\n",
       "    <tr>\n",
       "      <th>4</th>\n",
       "      <td>1</td>\n",
       "      <td>1</td>\n",
       "      <td>1</td>\n",
       "    </tr>\n",
       "    <tr>\n",
       "      <th>5</th>\n",
       "      <td>0</td>\n",
       "      <td>1</td>\n",
       "      <td>1</td>\n",
       "    </tr>\n",
       "    <tr>\n",
       "      <th>6</th>\n",
       "      <td>1</td>\n",
       "      <td>0</td>\n",
       "      <td>1</td>\n",
       "    </tr>\n",
       "    <tr>\n",
       "      <th>7</th>\n",
       "      <td>1</td>\n",
       "      <td>0</td>\n",
       "      <td>0</td>\n",
       "    </tr>\n",
       "    <tr>\n",
       "      <th>8</th>\n",
       "      <td>0</td>\n",
       "      <td>1</td>\n",
       "      <td>0</td>\n",
       "    </tr>\n",
       "    <tr>\n",
       "      <th>9</th>\n",
       "      <td>1</td>\n",
       "      <td>1</td>\n",
       "      <td>1</td>\n",
       "    </tr>\n",
       "  </tbody>\n",
       "</table>\n",
       "</div>"
      ],
      "text/plain": [
       "   0  1  2\n",
       "0  0  1  1\n",
       "1  0  0  1\n",
       "2  0  0  0\n",
       "3  1  0  1\n",
       "4  1  1  1\n",
       "5  0  1  1\n",
       "6  1  0  1\n",
       "7  1  0  0\n",
       "8  0  1  0\n",
       "9  1  1  1"
      ]
     },
     "execution_count": 32,
     "metadata": {},
     "output_type": "execute_result"
    }
   ],
   "source": [
    "pd.DataFrame(x)"
   ]
  },
  {
   "cell_type": "markdown",
   "id": "72e35a71",
   "metadata": {},
   "source": [
    "## Count fracuency of pair"
   ]
  },
  {
   "cell_type": "code",
   "execution_count": 28,
   "id": "b8596f05",
   "metadata": {},
   "outputs": [],
   "source": [
    "\n",
    "a=b=c=0\n",
    "for j in range(x.shape[0]):    \n",
    "    if x[j][0]*x[j][1] != 0:\n",
    "        a+=1\n",
    "\n",
    "    if x[j][0]*x[j][2] != 0:\n",
    "        b+=1\n",
    "\n",
    "    if x[j][1]*x[j][2] != 0:\n",
    "        c+=10"
   ]
  },
  {
   "cell_type": "markdown",
   "id": "99f3eedb",
   "metadata": {},
   "source": [
    "## Create graph"
   ]
  },
  {
   "cell_type": "code",
   "execution_count": 34,
   "id": "05879ec9",
   "metadata": {},
   "outputs": [
    {
     "name": "stdout",
     "output_type": "stream",
     "text": [
      " Python/SQL    : 2\n",
      " Python/Tableu : 2\n",
      " SQL/Tableu    : 50\n"
     ]
    }
   ],
   "source": [
    "# Object graph \n",
    "G = Network()\n",
    "\n",
    "G.add_node(0, label=\"Python\")\n",
    "G.add_node(1, label=\"1_SQL\")\n",
    "G.add_node(2, label=\"2_Tableu\")\n",
    "\n",
    "G.add_edge(0,1,value=a)\n",
    "G.add_edge(0,2,value=b)\n",
    "G.add_edge(1,2,value=c)\n",
    "    \n",
    "G.show(\"nx.html\")\n",
    "\n",
    "print(f' Python/SQL    : {a}')\n",
    "print(f' Python/Tableu : {b}')\n",
    "print(f' SQL/Tableu    : {c}')"
   ]
  },
  {
   "cell_type": "markdown",
   "id": "3b18c807",
   "metadata": {},
   "source": [
    "# Plotly"
   ]
  },
  {
   "cell_type": "code",
   "execution_count": 16,
   "id": "ea7125f3",
   "metadata": {},
   "outputs": [],
   "source": [
    "# # Author: Rodrigo Dorantes-Gilardi (rodgdor@gmail.com)\n",
    "# import matplotlib as mpl\n",
    "# import matplotlib.pyplot as plt\n",
    "# import networkx as nx"
   ]
  },
  {
   "cell_type": "code",
   "execution_count": 17,
   "id": "d188f9c4",
   "metadata": {},
   "outputs": [],
   "source": [
    "G = nx.generators.directed.random_k_out_graph(10, 3, 0.5)\n",
    "# pos = nx.layout.spring_layout(G)\n",
    "\n",
    "# node_sizes = [3 + 10 * i for i in range(len(G))]\n",
    "# M = G.number_of_edges()\n",
    "# edge_colors = range(2, M + 2)\n",
    "# edge_alphas = [(5 + i) / (M + 4) for i in range(M)]\n",
    "\n",
    "# nodes = nx.draw_networkx_nodes(G, pos, node_size=node_sizes, node_color='blue')\n",
    "# edges = nx.draw_networkx_edges(G, pos, node_size=node_sizes, arrowstyle='->',\n",
    "#                                arrowsize=10, edge_color=edge_colors,\n",
    "#                                edge_cmap=plt.cm.Blues, width=2)\n",
    "# # set alpha value for each edge\n",
    "# for i in range(M):\n",
    "#     edges[i].set_alpha(edge_alphas[i])\n",
    "\n",
    "# pc = mpl.collections.PatchCollection(edges, cmap=plt.cm.Blues)\n",
    "# pc.set_array(edge_colors)\n",
    "# plt.colorbar(pc)\n",
    "\n",
    "# ax = plt.gca()\n",
    "# ax.set_axis_off()\n",
    "# plt.show()"
   ]
  },
  {
   "cell_type": "code",
   "execution_count": 35,
   "id": "481c7059",
   "metadata": {},
   "outputs": [],
   "source": [
    "# type(G)"
   ]
  }
 ],
 "metadata": {
  "kernelspec": {
   "display_name": "Python 3",
   "language": "python",
   "name": "python3"
  },
  "language_info": {
   "codemirror_mode": {
    "name": "ipython",
    "version": 3
   },
   "file_extension": ".py",
   "mimetype": "text/x-python",
   "name": "python",
   "nbconvert_exporter": "python",
   "pygments_lexer": "ipython3",
   "version": "3.8.8"
  },
  "toc": {
   "base_numbering": 1,
   "nav_menu": {},
   "number_sections": true,
   "sideBar": true,
   "skip_h1_title": false,
   "title_cell": "Table of Contents",
   "title_sidebar": "Contents",
   "toc_cell": false,
   "toc_position": {},
   "toc_section_display": true,
   "toc_window_display": false
  }
 },
 "nbformat": 4,
 "nbformat_minor": 5
}

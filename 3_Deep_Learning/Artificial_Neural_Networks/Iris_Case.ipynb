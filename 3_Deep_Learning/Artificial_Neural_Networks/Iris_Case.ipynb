{
 "cells": [
  {
   "cell_type": "markdown",
   "id": "2d240c9c",
   "metadata": {},
   "source": [
    "# Import "
   ]
  },
  {
   "cell_type": "markdown",
   "id": "238057ba",
   "metadata": {
    "heading_collapsed": true
   },
   "source": [
    "## Library"
   ]
  },
  {
   "cell_type": "code",
   "execution_count": 2,
   "id": "1a885552",
   "metadata": {
    "hidden": true
   },
   "outputs": [
    {
     "name": "stdout",
     "output_type": "stream",
     "text": [
      "2.9.1\n"
     ]
    }
   ],
   "source": [
    "import numpy as np\n",
    "from keras import layers, models\n",
    "from keras.utils import to_categorical\n",
    "from keras.datasets import mnist\n",
    "import tensorflow as tf #Libreria de Redes Neronales\n",
    "from  tensorflow.keras.layers import Dense, Flatten\n",
    "from tensorflow.keras.optimizers import SGD\n",
    "from tensorflow.keras.losses import SparseCategoricalCrossentropy\n",
    "print(tf.__version__)\n",
    "import numpy as np\n",
    "import pandas as pd\n",
    "import matplotlib.pyplot as plt\n",
    "import seaborn as sns\n",
    "from sklearn import preprocessing\n",
    "from sklearn.model_selection import train_test_split\n",
    "from sklearn.metrics import confusion_matrix\n",
    "from sklearn.datasets import load_iris\n",
    "pd.set_option('display.float_format', lambda x: '%.1d' % x) "
   ]
  },
  {
   "cell_type": "markdown",
   "id": "dd6b731c",
   "metadata": {
    "heading_collapsed": true
   },
   "source": [
    "## DataSet"
   ]
  },
  {
   "cell_type": "code",
   "execution_count": 3,
   "id": "f380fa16",
   "metadata": {
    "hidden": true
   },
   "outputs": [],
   "source": [
    "iris = load_iris()\n",
    "X = iris.data\n",
    "Y = iris.target"
   ]
  },
  {
   "cell_type": "markdown",
   "id": "1c8328f6",
   "metadata": {},
   "source": [
    "# Preprocessing"
   ]
  },
  {
   "cell_type": "markdown",
   "id": "ee4cb111",
   "metadata": {
    "heading_collapsed": true
   },
   "source": [
    "## Split "
   ]
  },
  {
   "cell_type": "code",
   "execution_count": 14,
   "id": "679ad16a",
   "metadata": {
    "hidden": true
   },
   "outputs": [],
   "source": [
    "# Separamos train y test set\n",
    "X_train, X_test, y_train, y_test = train_test_split(X, Y, test_size=0.2, random_state=0)"
   ]
  },
  {
   "cell_type": "markdown",
   "id": "74f2eeee",
   "metadata": {
    "heading_collapsed": true
   },
   "source": [
    "## Scaler"
   ]
  },
  {
   "cell_type": "code",
   "execution_count": 15,
   "id": "eab9930e",
   "metadata": {
    "hidden": true
   },
   "outputs": [],
   "source": [
    "# Noralizamos\n",
    "scaler = preprocessing.StandardScaler()\n",
    "scaler.fit(X_train)\n",
    "X_train_scal = scaler.transform(X_train)\n",
    "X_test_scal = scaler.transform(X_test)"
   ]
  },
  {
   "cell_type": "markdown",
   "id": "b8fa243f",
   "metadata": {},
   "source": [
    "# Artificial Neural Network"
   ]
  },
  {
   "cell_type": "markdown",
   "id": "7bc483e0",
   "metadata": {
    "heading_collapsed": true
   },
   "source": [
    "## Definition of  Architecture"
   ]
  },
  {
   "cell_type": "code",
   "execution_count": 18,
   "id": "0550c31b",
   "metadata": {
    "hidden": true
   },
   "outputs": [],
   "source": [
    "# To remove models that have been saved in memory\n",
    "tf.keras.backend.clear_session() \n",
    "\n",
    "model = tf.keras.models.Sequential([\n",
    "    #First layer of the network\n",
    "        #Dense ( layer fully-connected)\n",
    "        #Dense( number_output, number_output , activation_function )\n",
    "    tf.keras.layers.Dense(4,input_dim=4, activation='sigmoid'),\n",
    "    # Hidden Layers\n",
    "    tf.keras.layers.Dense(4, activation='sigmoid'), \n",
    "    tf.keras.layers.Dense(4, activation='sigmoid'),\n",
    "    # Output of the network\n",
    "    tf.keras.layers.Dense(3, activation='softmax')\n",
    "])"
   ]
  },
  {
   "cell_type": "markdown",
   "id": "ba1965b4",
   "metadata": {
    "hidden": true
   },
   "source": [
    "### Information"
   ]
  },
  {
   "cell_type": "code",
   "execution_count": 19,
   "id": "7cf206ec",
   "metadata": {
    "hidden": true
   },
   "outputs": [
    {
     "name": "stdout",
     "output_type": "stream",
     "text": [
      "Model: \"sequential\"\n",
      "_________________________________________________________________\n",
      " Layer (type)                Output Shape              Param #   \n",
      "=================================================================\n",
      " dense (Dense)               (None, 4)                 20        \n",
      "                                                                 \n",
      " dense_1 (Dense)             (None, 4)                 20        \n",
      "                                                                 \n",
      " dense_2 (Dense)             (None, 4)                 20        \n",
      "                                                                 \n",
      " dense_3 (Dense)             (None, 3)                 15        \n",
      "                                                                 \n",
      "=================================================================\n",
      "Total params: 75\n",
      "Trainable params: 75\n",
      "Non-trainable params: 0\n",
      "_________________________________________________________________\n"
     ]
    }
   ],
   "source": [
    "model.summary()"
   ]
  },
  {
   "cell_type": "markdown",
   "id": "1ed3ba23",
   "metadata": {},
   "source": [
    "## Defination of Optimizer & Penalty Function"
   ]
  },
  {
   "cell_type": "code",
   "execution_count": 20,
   "id": "8030d974",
   "metadata": {},
   "outputs": [],
   "source": [
    "# Optimizador\n",
    "lr = 0.001\n",
    "opt = SGD(learning_rate=lr)\n",
    "# Funcion de penalizacion\n",
    "# Usar ésta loss cuando tenemos un problema multi-class.\n",
    "loss_func = SparseCategoricalCrossentropy()"
   ]
  }
 ],
 "metadata": {
  "kernelspec": {
   "display_name": "Python 3 (ipykernel)",
   "language": "python",
   "name": "python3"
  },
  "language_info": {
   "codemirror_mode": {
    "name": "ipython",
    "version": 3
   },
   "file_extension": ".py",
   "mimetype": "text/x-python",
   "name": "python",
   "nbconvert_exporter": "python",
   "pygments_lexer": "ipython3",
   "version": "3.9.12"
  },
  "toc": {
   "base_numbering": 1,
   "nav_menu": {},
   "number_sections": true,
   "sideBar": true,
   "skip_h1_title": false,
   "title_cell": "Table of Contents",
   "title_sidebar": "Contents",
   "toc_cell": false,
   "toc_position": {},
   "toc_section_display": true,
   "toc_window_display": false
  }
 },
 "nbformat": 4,
 "nbformat_minor": 5
}

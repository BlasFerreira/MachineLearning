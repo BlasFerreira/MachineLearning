{
 "cells": [
  {
   "cell_type": "markdown",
   "id": "2d240c9c",
   "metadata": {},
   "source": [
    "# Import "
   ]
  },
  {
   "cell_type": "markdown",
   "id": "238057ba",
   "metadata": {},
   "source": [
    "## Library"
   ]
  },
  {
   "cell_type": "code",
   "execution_count": 1,
   "id": "1a885552",
   "metadata": {},
   "outputs": [
    {
     "name": "stdout",
     "output_type": "stream",
     "text": [
      "2.9.1\n"
     ]
    }
   ],
   "source": [
    "import numpy as np\n",
    "from keras import layers, models\n",
    "from keras.utils import to_categorical\n",
    "from keras.datasets import mnist\n",
    "import tensorflow as tf #Libreria de Redes Neronales\n",
    "from  tensorflow.keras.layers import Dense, Flatten\n",
    "from tensorflow.keras.optimizers import SGD\n",
    "# from tensorflow.keras.losses import SparseCategoricalCrossentropyS\n",
    "print(tf.__version__)\n",
    "import numpy as np\n",
    "import pandas as pd\n",
    "import matplotlib.pyplot as plt\n",
    "import seaborn as sns\n",
    "from sklearn import preprocessing\n",
    "from sklearn.model_selection import train_test_split\n",
    "from sklearn.metrics import confusion_matrix\n",
    "from sklearn.datasets import load_iris\n",
    "pd.set_option('display.float_format', lambda x: '%.1d' % x) # Para acotar los decimales en pandas"
   ]
  },
  {
   "cell_type": "markdown",
   "id": "dd6b731c",
   "metadata": {},
   "source": [
    "## DataSet"
   ]
  },
  {
   "cell_type": "code",
   "execution_count": 2,
   "id": "f380fa16",
   "metadata": {},
   "outputs": [],
   "source": [
    "iris = load_iris()\n",
    "X = iris.data\n",
    "Y = iris.target"
   ]
  },
  {
   "cell_type": "markdown",
   "id": "ee4cb111",
   "metadata": {},
   "source": [
    "## Split "
   ]
  },
  {
   "cell_type": "code",
   "execution_count": 3,
   "id": "679ad16a",
   "metadata": {},
   "outputs": [],
   "source": [
    "# Separamos train y test set\n",
    "x_train, x_test, y_train, y_test = train_test_split(X, Y, test_size=0.2, random_state=0)"
   ]
  },
  {
   "cell_type": "code",
   "execution_count": 4,
   "id": "eab9930e",
   "metadata": {},
   "outputs": [],
   "source": [
    "# Noralizamos\n",
    "scaler = preprocessing.StandardScaler()\n",
    "scaler.fit(x_train)\n",
    "x_train_norm = scaler.transform(x_train)\n",
    "x_test_norm = scaler.transform(x_test)"
   ]
  },
  {
   "cell_type": "markdown",
   "id": "b8fa243f",
   "metadata": {},
   "source": [
    "# Define Model Artificial Neural Network"
   ]
  },
  {
   "cell_type": "code",
   "execution_count": 5,
   "id": "0550c31b",
   "metadata": {},
   "outputs": [],
   "source": [
    "# Para eliminar los modelos que hayan quedado guardados en memoria\n",
    "tf.keras.backend.clear_session() \n",
    "\n",
    "model = tf.keras.models.Sequential([\n",
    "    # Primera capa de la red\n",
    "        #Dense (Capa fully connected)\n",
    "        #Dense( n_output,input_dim=n_input, activation= funtion )\n",
    "    tf.keras.layers.Dense(4,input_dim=4, activation='sigmoid'),\n",
    "    # Hidden Layers\n",
    "    tf.keras.layers.Dense(4, activation='sigmoid'), \n",
    "    tf.keras.layers.Dense(4, activation='sigmoid'),\n",
    "    # Salida de la red\n",
    "    tf.keras.layers.Dense(3, activation='softmax')\n",
    "])"
   ]
  }
 ],
 "metadata": {
  "kernelspec": {
   "display_name": "Python 3 (ipykernel)",
   "language": "python",
   "name": "python3"
  },
  "language_info": {
   "codemirror_mode": {
    "name": "ipython",
    "version": 3
   },
   "file_extension": ".py",
   "mimetype": "text/x-python",
   "name": "python",
   "nbconvert_exporter": "python",
   "pygments_lexer": "ipython3",
   "version": "3.9.12"
  },
  "toc": {
   "base_numbering": 1,
   "nav_menu": {},
   "number_sections": true,
   "sideBar": true,
   "skip_h1_title": false,
   "title_cell": "Table of Contents",
   "title_sidebar": "Contents",
   "toc_cell": false,
   "toc_position": {},
   "toc_section_display": true,
   "toc_window_display": false
  }
 },
 "nbformat": 4,
 "nbformat_minor": 5
}

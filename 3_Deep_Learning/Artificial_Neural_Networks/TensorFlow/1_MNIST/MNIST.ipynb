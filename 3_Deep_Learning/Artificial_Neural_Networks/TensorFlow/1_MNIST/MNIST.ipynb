{
 "cells": [
  {
   "cell_type": "markdown",
   "id": "24c42ee9",
   "metadata": {},
   "source": [
    "# Import"
   ]
  },
  {
   "cell_type": "markdown",
   "id": "471688b1",
   "metadata": {
    "heading_collapsed": true
   },
   "source": [
    "## Library"
   ]
  },
  {
   "cell_type": "code",
   "execution_count": 88,
   "id": "7ccd1d7d",
   "metadata": {
    "hidden": true
   },
   "outputs": [
    {
     "name": "stdout",
     "output_type": "stream",
     "text": [
      "TensorFlow version: 2.9.1\n"
     ]
    }
   ],
   "source": [
    "import tensorflow as tf\n",
    "import numpy as np\n",
    "print(\"TensorFlow version:\", tf.__version__)\n",
    "\n",
    "import numpy as np\n",
    "import pandas as pd\n",
    "import matplotlib.pyplot as plt\n",
    "import seaborn as sns\n",
    "# Logistic Regression Clasificator\n",
    "from sklearn.linear_model import LogisticRegression\n",
    "# import warnings\n",
    "# warnings.filterwarnings('ignore')\n",
    "\n",
    "from PIL import Image\n",
    "import numpy as np\n",
    "\n",
    "from keras.layers import Dropout\n",
    "from tensorflow.keras import regularizers\n"
   ]
  },
  {
   "cell_type": "markdown",
   "id": "10eb2e04",
   "metadata": {
    "heading_collapsed": true
   },
   "source": [
    "## Dataset"
   ]
  },
  {
   "cell_type": "code",
   "execution_count": 89,
   "id": "02c1aae9",
   "metadata": {
    "hidden": true
   },
   "outputs": [],
   "source": [
    "# Load and prepare the MNIST dataset\n",
    "mnist = tf.keras.datasets.mnist"
   ]
  },
  {
   "cell_type": "markdown",
   "id": "79502ed0",
   "metadata": {
    "hidden": true
   },
   "source": [
    "### Split"
   ]
  },
  {
   "cell_type": "code",
   "execution_count": 90,
   "id": "efdc2678",
   "metadata": {
    "hidden": true
   },
   "outputs": [],
   "source": [
    "# Split dataset in data of Train and Data od Test\n",
    "(x_train, y_train), (x_test, y_test) = mnist.load_data()"
   ]
  },
  {
   "cell_type": "code",
   "execution_count": 91,
   "id": "a52c1bbe",
   "metadata": {
    "hidden": true
   },
   "outputs": [
    {
     "data": {
      "text/plain": [
       "5"
      ]
     },
     "execution_count": 91,
     "metadata": {},
     "output_type": "execute_result"
    }
   ],
   "source": [
    "y_train[0]"
   ]
  },
  {
   "cell_type": "code",
   "execution_count": 92,
   "id": "c2c3fa97",
   "metadata": {
    "hidden": true
   },
   "outputs": [],
   "source": [
    "# np.reshape(x_train[:1], ( 28, 28) )"
   ]
  },
  {
   "cell_type": "markdown",
   "id": "24928c66",
   "metadata": {
    "hidden": true
   },
   "source": [
    "### Information of Data"
   ]
  },
  {
   "cell_type": "code",
   "execution_count": 93,
   "id": "7d44dc28",
   "metadata": {
    "hidden": true
   },
   "outputs": [
    {
     "name": "stdout",
     "output_type": "stream",
     "text": [
      "x_train.shape : (60000, 28, 28)\n",
      "y_train.shape : (60000,)\n",
      "\n",
      "x_test.shape : (10000, 28, 28)\n",
      "y_test.shape : (10000,)\n"
     ]
    }
   ],
   "source": [
    "print(f'x_train.shape : {x_train.shape}')\n",
    "print(f'y_train.shape : {y_train.shape}\\n')\n",
    "print(f'x_test.shape : {x_test.shape}')\n",
    "print(f'y_test.shape : {y_test.shape}')"
   ]
  },
  {
   "cell_type": "markdown",
   "id": "caa076f2",
   "metadata": {
    "hidden": true
   },
   "source": [
    "The pixel values of the images range from __0__ through __255__. Scale these values to a range of __0__ to **1** by dividing the values by __255.0__. This also converts the sample data from integers to floating-point numbers:"
   ]
  },
  {
   "cell_type": "code",
   "execution_count": 94,
   "id": "dc86b088",
   "metadata": {
    "hidden": true
   },
   "outputs": [],
   "source": [
    "x_train, x_test = x_train / 255.0, x_test / 255.0"
   ]
  },
  {
   "cell_type": "code",
   "execution_count": 95,
   "id": "fcd28fdc",
   "metadata": {
    "hidden": true
   },
   "outputs": [
    {
     "data": {
      "text/plain": [
       "(28, 28)"
      ]
     },
     "execution_count": 95,
     "metadata": {},
     "output_type": "execute_result"
    }
   ],
   "source": [
    "x_train[0].shape"
   ]
  },
  {
   "cell_type": "code",
   "execution_count": 96,
   "id": "96ec5052",
   "metadata": {
    "hidden": true
   },
   "outputs": [
    {
     "data": {
      "text/plain": [
       "numpy.ndarray"
      ]
     },
     "execution_count": 96,
     "metadata": {},
     "output_type": "execute_result"
    }
   ],
   "source": [
    "type(x_train)"
   ]
  },
  {
   "cell_type": "markdown",
   "id": "11c6dada",
   "metadata": {
    "hidden": true
   },
   "source": [
    "![](MNIST.png)"
   ]
  },
  {
   "cell_type": "markdown",
   "id": "cf3787e1",
   "metadata": {},
   "source": [
    "# Build a machine learning model"
   ]
  },
  {
   "cell_type": "markdown",
   "id": "aa041322",
   "metadata": {},
   "source": [
    "## Build a tf.keras.Sequential model:"
   ]
  },
  {
   "cell_type": "markdown",
   "id": "0d0c8f85",
   "metadata": {},
   "source": [
    "![](1_N8UXaiUKWurFLdmEhEHiWg.jpg)"
   ]
  },
  {
   "cell_type": "code",
   "execution_count": 97,
   "id": "df2d8af6",
   "metadata": {},
   "outputs": [],
   "source": [
    "model = tf.keras.models.Sequential([\n",
    "\n",
    "# Input Layer\n",
    "  tf.keras.layers.Flatten(input_shape=(28, 28)),\n",
    "  # Hidden Layer\n",
    "  tf.keras.layers.Dense(512, activation='relu',kernel_initializer=tf.keras.initializers.RandomNormal(mean=0.0, stddev=0.088, seed=None)),\n",
    "  tf.keras.layers.BatchNormalization(),#regularización y reducir el sobreajuste del modelo\n",
    "  tf.keras.layers.Dropout(0.1),#regularización y reducir el sobreajuste del modelo\n",
    "\n",
    "  tf.keras.layers.Dense(256, activation='relu',kernel_initializer=tf.keras.initializers.RandomNormal(mean=0.0, stddev=0.088, seed=None)),\n",
    "  tf.keras.layers.BatchNormalization(),#regularización y reducir el sobreajuste del modelo\n",
    "  tf.keras.layers.Dropout(0.1),#regularización y reducir el sobreajuste del modelo\n",
    "\n",
    "  tf.keras.layers.Dense(128, activation='relu',kernel_initializer=tf.keras.initializers.RandomNormal(mean=0.0, stddev=0.088, seed=None)),\n",
    "  tf.keras.layers.BatchNormalization(),#regularización y reducir el sobreajuste del modelo\n",
    "  tf.keras.layers.Dropout(0.2),#regularización y reducir el sobreajuste del modelo\n",
    "\n",
    " # Outoput Layer\n",
    "  tf.keras.layers.Dense(10,activation='softmax'), #Esta capa tiene 10 neuronas, clasificación de 10 categorías\n",
    "])\n",
    "\n"
   ]
  },
  {
   "cell_type": "code",
   "execution_count": 111,
   "id": "64bfee07",
   "metadata": {},
   "outputs": [
    {
     "name": "stdout",
     "output_type": "stream",
     "text": [
      "Model: \"sequential_6\"\n",
      "_________________________________________________________________\n",
      " Layer (type)                Output Shape              Param #   \n",
      "=================================================================\n",
      " flatten_6 (Flatten)         (None, 784)               0         \n",
      "                                                                 \n",
      " dense_22 (Dense)            (None, 512)               401920    \n",
      "                                                                 \n",
      " batch_normalization_15 (Bat  (None, 512)              2048      \n",
      " chNormalization)                                                \n",
      "                                                                 \n",
      " dropout_16 (Dropout)        (None, 512)               0         \n",
      "                                                                 \n",
      " dense_23 (Dense)            (None, 256)               131328    \n",
      "                                                                 \n",
      " batch_normalization_16 (Bat  (None, 256)              1024      \n",
      " chNormalization)                                                \n",
      "                                                                 \n",
      " dropout_17 (Dropout)        (None, 256)               0         \n",
      "                                                                 \n",
      " dense_24 (Dense)            (None, 128)               32896     \n",
      "                                                                 \n",
      " batch_normalization_17 (Bat  (None, 128)              512       \n",
      " chNormalization)                                                \n",
      "                                                                 \n",
      " dropout_18 (Dropout)        (None, 128)               0         \n",
      "                                                                 \n",
      " dense_25 (Dense)            (None, 10)                1290      \n",
      "                                                                 \n",
      "=================================================================\n",
      "Total params: 571,018\n",
      "Trainable params: 569,226\n",
      "Non-trainable params: 1,792\n",
      "_________________________________________________________________\n"
     ]
    }
   ],
   "source": [
    "model.summary()"
   ]
  },
  {
   "cell_type": "markdown",
   "id": "a359bf74",
   "metadata": {
    "heading_collapsed": true
   },
   "source": [
    "### Detalles "
   ]
  },
  {
   "cell_type": "markdown",
   "id": "6e679d78",
   "metadata": {
    "hidden": true
   },
   "source": [
    "- __tf.keras.layers.Flatten__ (La capa de aplanamiento ) es una capa de procesamiento que convierte una matriz de __entrada multidimensional__ en un vector __unidimensional__. Esta capa se utiliza comúnmente como la primera capa en una red neuronal para transformar los datos de entrada. La capa de aplanamiento toma una matriz de entrada de __28x28__ (que representa una imagen de __28x28__ píxeles) y la convierte en un vector de __784__ elementos. Esto permite que la red neuronal procese la imagen como una __secuencia unidimensional__ de valores de píxeles en lugar de como una matriz bidimensional.<br><br>\n",
    "\n",
    "- __tf.keras.layers.Dense__ es una capa de redes neuronales __densamente conectada__ en TensorFlow, que implementa la operación de multiplicación de matriz y adición de sesgo en la entrada, seguida de una función de activación. Cada unidad o nodo en la capa está conectado a cada unidad en la capa anterior, y las entradas se multiplican por un conjunto de pesos y se suman a un sesgo antes de aplicar la función de activación. En otras palabras, la capa densa es una capa de neuronas completamente conectada, donde cada neurona en la capa anterior está conectada a todas las neuronas en la capa actual. La capa __Dense__ en la red neuronal se llama así porque __cada neurona de la capa está conectada a todas las neuronas de la capa anterior y de la capa siguiente__. Esto se conoce como __\"conexión densa\"__ o __\"totalmente conectada\"__. Los valores de entrada se multiplican por los pesos, se suman los resultados y se aplica una función de activación para producir los valores de salida de la capa.En resumen, la capa Dense es una capa de red neuronal en la que cada neurona está conectada a todas las neuronas de la capa anterior y de la capa siguiente, lo que permite aprender patrones complejos en los datos<br><br>\n",
    "\n",
    "- __tf.keras.layers.Dropout__ es una capa en TensorFlow que se utiliza para regularizar modelos de aprendizaje profundo y evitar el sobreajuste. Durante el entrenamiento, Dropout apaga de forma aleatoria un número predefinido de unidades de la capa anterior. Esto evita que las unidades se \"especialicen\" demasiado en un subconjunto particular de los datos de entrenamiento, lo que puede resultar en un modelo que no generaliza bien a datos nuevos. El porcentaje de unidades que se apaga se puede ajustar mediante un parámetro llamado \"rate\".<br>\n"
   ]
  },
  {
   "cell_type": "markdown",
   "id": "da495618",
   "metadata": {
    "hidden": true
   },
   "source": [
    "Sequential is useful for stacking layers where each layer has one input tensor and one output tensor. Layers are functions with a known mathematical structure that can be reused and have trainable variables. Most TensorFlow models are composed of layers. This model uses the Flatten, Dense, and Dropout layers."
   ]
  },
  {
   "cell_type": "markdown",
   "id": "59607f14",
   "metadata": {
    "heading_collapsed": true
   },
   "source": [
    "### predictions example"
   ]
  },
  {
   "cell_type": "markdown",
   "id": "0c64f36f",
   "metadata": {
    "hidden": true
   },
   "source": [
    "For each example, the model returns a vector of __logits or log-odds scores__, one for each class"
   ]
  },
  {
   "cell_type": "code",
   "execution_count": 98,
   "id": "4893e491",
   "metadata": {
    "hidden": true
   },
   "outputs": [
    {
     "name": "stdout",
     "output_type": "stream",
     "text": [
      "0 : 0.19178728759288788\n",
      "1 : 0.05582011491060257\n",
      "2 : 0.11426399648189545\n",
      "3 : 0.02248610183596611\n",
      "4 : 0.013057518750429153\n",
      "5 : 0.04497634246945381\n",
      "6 : 0.06371860951185226\n",
      "7 : 0.06870784610509872\n",
      "8 : 0.030975129455327988\n",
      "9 : 0.39420703053474426\n"
     ]
    }
   ],
   "source": [
    "predictions = model(x_train[:1]).numpy()\n",
    "\n",
    "for i, value in enumerate(predictions[0]):\n",
    "    print(f'{i} : {value}')"
   ]
  },
  {
   "cell_type": "markdown",
   "id": "8ad0787d",
   "metadata": {
    "heading_collapsed": true
   },
   "source": [
    "### converts these logits to probabilities"
   ]
  },
  {
   "cell_type": "markdown",
   "id": "b8091bf4",
   "metadata": {
    "hidden": true
   },
   "source": [
    "The __tf.nn.softmax__ function converts these logits to probabilities for each class:"
   ]
  },
  {
   "cell_type": "code",
   "execution_count": 99,
   "id": "c19e7cc7",
   "metadata": {
    "hidden": true
   },
   "outputs": [
    {
     "data": {
      "text/plain": [
       "array([[0.10890731, 0.09506207, 0.10078342, 0.0919455 , 0.09108265,\n",
       "        0.09403681, 0.09581588, 0.09629513, 0.09272934, 0.13334195]],\n",
       "      dtype=float32)"
      ]
     },
     "execution_count": 99,
     "metadata": {},
     "output_type": "execute_result"
    }
   ],
   "source": [
    "tf.nn.softmax(predictions).numpy()"
   ]
  },
  {
   "cell_type": "markdown",
   "id": "a693218b",
   "metadata": {},
   "source": [
    "## Define a loss function (Hyperparameter)"
   ]
  },
  {
   "cell_type": "markdown",
   "id": "ab6c7c55",
   "metadata": {},
   "source": [
    "Define a loss function for training using __losses.SparseCategoricalCrossentropy__:"
   ]
  },
  {
   "cell_type": "code",
   "execution_count": 100,
   "id": "610bd8e7",
   "metadata": {},
   "outputs": [],
   "source": [
    "loss_fn = tf.keras.losses.SparseCategoricalCrossentropy(from_logits=True)"
   ]
  },
  {
   "cell_type": "markdown",
   "id": "9632ee7c",
   "metadata": {},
   "source": [
    "The __loss function__ takes a __vector of ground truth values__ and a __vector of logits__ and __returns a scalar loss for each example__. This __loss__ is equal to the __negative log probability of the true class__: The __loss__ is __0__ if the model is sure of the __correct__ class.\n",
    "\n",
    "This untrained model gives probabilities close to random (1/10 for each class), so the initial loss should be close to -tf.math.log(1/10) ~= 2.3."
   ]
  },
  {
   "cell_type": "code",
   "execution_count": 101,
   "id": "d44a933c",
   "metadata": {},
   "outputs": [
    {
     "data": {
      "text/plain": [
       "2.3640692"
      ]
     },
     "execution_count": 101,
     "metadata": {},
     "output_type": "execute_result"
    }
   ],
   "source": [
    "loss_fn(y_train[:1], predictions).numpy()"
   ]
  },
  {
   "cell_type": "markdown",
   "id": "3fdc54a8",
   "metadata": {},
   "source": [
    "## Set the optimizer (Hyperparameter)"
   ]
  },
  {
   "cell_type": "code",
   "execution_count": 102,
   "id": "127a683d",
   "metadata": {},
   "outputs": [],
   "source": [
    "model.compile(optimizer = 'adam',\n",
    "              loss = loss_fn,\n",
    "              metrics = ['accuracy'])"
   ]
  },
  {
   "cell_type": "markdown",
   "id": "e76eda96",
   "metadata": {
    "heading_collapsed": true
   },
   "source": [
    "### Detail"
   ]
  },
  {
   "cell_type": "markdown",
   "id": "9735ef51",
   "metadata": {
    "hidden": true
   },
   "source": [
    "Adam (Adaptive Moment Estimation) es un __algoritmo de optimización__ de __gradiente descendente estocástico__ utilizado comúnmente para entrenar redes neuronales en el aprendizaje profundo.\n",
    "\n",
    "Adam es un __método de optimización adaptativo__ que combina el enfoque de __Momentum__ y __RMSprop__. Al igual que RMSprop, Adam mantiene un promedio móvil de los cuadrados de los gradientes y, al igual que el enfoque de Momentum, mantiene un __promedio móvil de los gradientes__.\n",
    "\n",
    "El algoritmo adapta la tasa de aprendizaje de cada parámetro en función de la magnitud del gradiente y la magnitud de la media móvil de segundo orden de los gradientes. Adam también incluye un término de corrección de sesgo para compensar la inicialización sesgada de los promedios móviles en las primeras iteraciones.\n",
    "\n",
    "En resumen, Adam es un algoritmo de optimización de gradiente descendente estocástico que adapta la tasa de aprendizaje para cada parámetro en función de la magnitud del gradiente y la media móvil de segundo orden de los gradientes. Es muy popular en el aprendizaje profundo debido a su eficacia y eficiencia en la práctica."
   ]
  },
  {
   "cell_type": "markdown",
   "id": "0557d8ca",
   "metadata": {
    "hidden": true
   },
   "source": [
    "durante el el entrenamiento el leaning rate en adam varia?\n",
    "\n",
    "\n",
    "Sí, durante el entrenamiento, el optimizador __Adam__ puede __ajustar automáticamente la tasa de aprendizaje__. Adam utiliza un algoritmo adaptativo para calcular y actualizar la tasa de aprendizaje de forma dinámica en función de las estadísticas de los gradientes calculados durante el entrenamiento.\n",
    "\n",
    "__El algoritmo de Adam incluye dos componentes principales__: el __promedio móvil de primer orden (momentum)__ y __el promedio móvil de segundo orden (adaptive learning rate)__. Estos componentes permiten que Adam ajuste la tasa de aprendizaje para cada parámetro del modelo de forma individual, basándose en la magnitud de los gradientes y las características del historial de actualizaciones anteriores.\n",
    "\n",
    "A medida que el modelo se entrena y se actualizan los pesos, Adam adapta la tasa de aprendizaje de forma automática según la información acumulada de los gradientes previos. Esto puede ayudar a mejorar la eficiencia del entrenamiento y la capacidad del modelo para converger hacia una solución óptima.\n",
    "\n",
    "Es importante destacar que el algoritmo de Adam tiene valores predeterminados para otros hiperparámetros, como el momentum y el decaimiento de los promedios móviles. Estos hiperparámetros también pueden influir en la forma en que Adam ajusta la tasa de aprendizaje durante el entrenamiento.\n",
    "\n",
    "Si deseas tener un control más preciso sobre la tasa de aprendizaje y su variación durante el entrenamiento, puedes utilizar optimizadores personalizados o técnicas de programación de aprendizaje con tasas de aprendizaje variables. Sin embargo, en la mayoría de los casos, Adam es una opción sólida y eficiente que ajusta automáticamente la tasa de aprendizaje de manera efectiva para la mayoría de los problemas de aprendizaje profundo."
   ]
  },
  {
   "cell_type": "markdown",
   "id": "ef6d1fc7",
   "metadata": {},
   "source": [
    "# Train and evaluate your model"
   ]
  },
  {
   "cell_type": "markdown",
   "id": "1f4ba162",
   "metadata": {},
   "source": [
    "## History"
   ]
  },
  {
   "cell_type": "markdown",
   "id": "f45bbc35",
   "metadata": {},
   "source": [
    "Use the __Model.fit__ Method to adjust your model parameters and minimize the loss:"
   ]
  },
  {
   "cell_type": "code",
   "execution_count": 103,
   "id": "58bc63cb",
   "metadata": {},
   "outputs": [
    {
     "name": "stdout",
     "output_type": "stream",
     "text": [
      "Epoch 1/10\n",
      "1875/1875 [==============================] - 17s 8ms/step - loss: 0.2692 - accuracy: 0.9178 - val_loss: 0.1147 - val_accuracy: 0.9640\n",
      "Epoch 2/10\n",
      "1875/1875 [==============================] - 15s 8ms/step - loss: 0.1445 - accuracy: 0.9571 - val_loss: 0.0895 - val_accuracy: 0.9714\n",
      "Epoch 3/10\n",
      "1875/1875 [==============================] - 15s 8ms/step - loss: 0.1112 - accuracy: 0.9651 - val_loss: 0.0768 - val_accuracy: 0.9769\n",
      "Epoch 4/10\n",
      "1875/1875 [==============================] - 16s 9ms/step - loss: 0.0922 - accuracy: 0.9707 - val_loss: 0.0695 - val_accuracy: 0.9777\n",
      "Epoch 5/10\n",
      "1875/1875 [==============================] - 15s 8ms/step - loss: 0.0773 - accuracy: 0.9757 - val_loss: 0.0659 - val_accuracy: 0.9797\n",
      "Epoch 6/10\n",
      "1875/1875 [==============================] - 13s 7ms/step - loss: 0.0707 - accuracy: 0.9778 - val_loss: 0.0580 - val_accuracy: 0.9804\n",
      "Epoch 7/10\n",
      "1875/1875 [==============================] - 16s 8ms/step - loss: 0.0625 - accuracy: 0.9801 - val_loss: 0.0654 - val_accuracy: 0.9803\n",
      "Epoch 8/10\n",
      "1875/1875 [==============================] - 14s 7ms/step - loss: 0.0584 - accuracy: 0.9812 - val_loss: 0.0660 - val_accuracy: 0.9815\n",
      "Epoch 9/10\n",
      "1875/1875 [==============================] - 13s 7ms/step - loss: 0.0506 - accuracy: 0.9830 - val_loss: 0.0558 - val_accuracy: 0.9833\n",
      "Epoch 10/10\n",
      "1875/1875 [==============================] - 13s 7ms/step - loss: 0.0474 - accuracy: 0.9843 - val_loss: 0.0634 - val_accuracy: 0.9815\n"
     ]
    }
   ],
   "source": [
    "history = model.fit(\n",
    "    x_train, \n",
    "    y_train,  \n",
    "    epochs=10, \n",
    "    verbose=1, \n",
    "    validation_data=(x_test, y_test))"
   ]
  },
  {
   "cell_type": "code",
   "execution_count": null,
   "id": "f7c2dd81",
   "metadata": {},
   "outputs": [],
   "source": []
  },
  {
   "cell_type": "markdown",
   "id": "6cc14682",
   "metadata": {},
   "source": [
    "# Grafics"
   ]
  },
  {
   "cell_type": "code",
   "execution_count": 134,
   "id": "571ac14e",
   "metadata": {},
   "outputs": [],
   "source": [
    "def visualizacion_resultados(history):\n",
    "    epochs = [i for i in range(10)]\n",
    "    fig, ax = plt.subplots(1,2)\n",
    "    train_acc = history.history[\"accuracy\"]\n",
    "    train_loss = history.history[\"loss\"]\n",
    "    val_acc = history.history[\"val_accuracy\"]\n",
    "    val_loss = history.history[\"val_loss\"]\n",
    "    fig.set_size_inches(16,9)\n",
    "\n",
    "    ax[0].plot(epochs, train_acc, \"go-\",label = \"Entrenamiento accuracy\")\n",
    "    ax[0].plot(epochs, val_acc, \"bo-\",label = \"Validación accuracy\")\n",
    "    ax[0].set_title(\"Entrenamiento y validación accuracy\")\n",
    "    ax[0].legend()\n",
    "    ax[0].set_xlabel(\"Epochs\")\n",
    "    ax[0].set_ylabel(\"Accuracy\")\n",
    "    ax[0].grid()\n",
    "\n",
    "    ax[1].plot(epochs, train_loss, \"go-\",label = \"Entrenamiento loss\")\n",
    "    ax[1].plot(epochs, val_loss, \"bo-\",label = \"Validación loss\")\n",
    "    ax[1].set_title(\"Entrenamiento y validación loss\")\n",
    "    ax[1].legend()\n",
    "    ax[1].set_xlabel(\"Epochs\")\n",
    "    ax[1].set_ylabel(\"Loss\")\n",
    "    ax[1].grid()\n",
    "    \n",
    "\n",
    "    plt.show() "
   ]
  },
  {
   "cell_type": "code",
   "execution_count": 135,
   "id": "8e289df6",
   "metadata": {},
   "outputs": [
    {
     "data": {
      "image/png": "[encoded data removed]",
      "text/plain": [
       "<Figure size 1152x648 with 2 Axes>"
      ]
     },
     "metadata": {
      "needs_background": "light"
     },
     "output_type": "display_data"
    }
   ],
   "source": [
    "visualizacion_resultados(history)"
   ]
  },
  {
   "cell_type": "markdown",
   "id": "f1558d7e",
   "metadata": {},
   "source": [
    "# evaluate for examples"
   ]
  },
  {
   "cell_type": "markdown",
   "id": "bb67efa3",
   "metadata": {},
   "source": [
    "The __Model.evaluate__ method checks the model's performance, usually on a validation set or test set."
   ]
  },
  {
   "cell_type": "code",
   "execution_count": 104,
   "id": "982beb17",
   "metadata": {},
   "outputs": [
    {
     "name": "stdout",
     "output_type": "stream",
     "text": [
      "313/313 - 1s - loss: 0.0634 - accuracy: 0.9815 - 922ms/epoch - 3ms/step\n"
     ]
    },
    {
     "data": {
      "text/plain": [
       "[0.06341660022735596, 0.9815000295639038]"
      ]
     },
     "execution_count": 104,
     "metadata": {},
     "output_type": "execute_result"
    }
   ],
   "source": [
    "model.evaluate(x_test,  y_test, verbose=2)"
   ]
  },
  {
   "cell_type": "code",
   "execution_count": 105,
   "id": "63b762cf",
   "metadata": {},
   "outputs": [
    {
     "name": "stdout",
     "output_type": "stream",
     "text": [
      "0 : 1.229956978932023e-05\n",
      "1 : 8.497246426486527e-07\n",
      "2 : 2.3549151251245348e-07\n",
      "3 : 3.6044875741936266e-06\n",
      "4 : 1.1362501339817754e-07\n",
      "5 : 1.844019720920187e-06\n",
      "6 : 1.497215089329984e-05\n",
      "7 : 0.9999551773071289\n",
      "8 : 2.3547681848867796e-06\n",
      "9 : 8.442614671366755e-06\n"
     ]
    }
   ],
   "source": [
    "predictions = model(x_test[:1]).numpy()\n",
    "\n",
    "for i, value in enumerate(predictions[0]):\n",
    "    print(f'{i} : {value}')\n"
   ]
  },
  {
   "cell_type": "code",
   "execution_count": 106,
   "id": "50fb6a39",
   "metadata": {
    "scrolled": true
   },
   "outputs": [
    {
     "name": "stdout",
     "output_type": "stream",
     "text": [
      "El valor real  [ 7 ] predicho :[ 7 ] con 23.196043074131012 probabilidad \n",
      "\n",
      "El valor real  [ 7 ] predicho :[ 6 ] con 8.533857762813568 probabilidad \n",
      "\n",
      "El valor real  [ 7 ] predicho :[ 0 ] con 8.533833920955658 probabilidad \n",
      "\n",
      "El valor real  [ 7 ] predicho :[ 9 ] con 8.533801883459091 probabilidad \n",
      "\n",
      "El valor real  [ 7 ] predicho :[ 3 ] con 8.533760160207748 probabilidad \n",
      "\n",
      "El valor real  [ 7 ] predicho :[ 8 ] con 8.533749729394913 probabilidad \n",
      "\n",
      "El valor real  [ 7 ] predicho :[ 5 ] con 8.533746004104614 probabilidad \n",
      "\n",
      "El valor real  [ 7 ] predicho :[ 1 ] con 8.533737063407898 probabilidad \n",
      "\n",
      "El valor real  [ 7 ] predicho :[ 2 ] con 8.53373184800148 probabilidad \n",
      "\n",
      "El valor real  [ 7 ] predicho :[ 4 ] con 8.53373035788536 probabilidad \n",
      "\n",
      "<<<<<<<<<<<<<<<<<<<>>>>>>>>>>>>>>>>>>>>>>>>>>>>>>>>>>>>>>>>>>>>>>\n",
      "El valor real  [ 2 ] predicho :[ 2 ] con 23.196931183338165 probabilidad \n",
      "\n",
      "El valor real  [ 2 ] predicho :[ 0 ] con 8.533674478530884 probabilidad \n",
      "\n",
      "El valor real  [ 2 ] predicho :[ 1 ] con 8.533674478530884 probabilidad \n",
      "\n",
      "El valor real  [ 2 ] predicho :[ 3 ] con 8.533674478530884 probabilidad \n",
      "\n",
      "El valor real  [ 2 ] predicho :[ 4 ] con 8.533674478530884 probabilidad \n",
      "\n",
      "El valor real  [ 2 ] predicho :[ 5 ] con 8.533674478530884 probabilidad \n",
      "\n",
      "El valor real  [ 2 ] predicho :[ 6 ] con 8.533674478530884 probabilidad \n",
      "\n",
      "El valor real  [ 2 ] predicho :[ 7 ] con 8.533674478530884 probabilidad \n",
      "\n",
      "El valor real  [ 2 ] predicho :[ 8 ] con 8.533674478530884 probabilidad \n",
      "\n",
      "El valor real  [ 2 ] predicho :[ 9 ] con 8.533674478530884 probabilidad \n",
      "\n",
      "<<<<<<<<<<<<<<<<<<<>>>>>>>>>>>>>>>>>>>>>>>>>>>>>>>>>>>>>>>>>>>>>>\n",
      "El valor real  [ 1 ] predicho :[ 1 ] con 23.19689244031906 probabilidad \n",
      "\n",
      "El valor real  [ 1 ] predicho :[ 7 ] con 8.533686399459839 probabilidad \n",
      "\n",
      "El valor real  [ 1 ] predicho :[ 0 ] con 8.533681184053421 probabilidad \n",
      "\n",
      "El valor real  [ 1 ] predicho :[ 2 ] con 8.533678948879242 probabilidad \n",
      "\n",
      "El valor real  [ 1 ] predicho :[ 4 ] con 8.533678203821182 probabilidad \n",
      "\n",
      "El valor real  [ 1 ] predicho :[ 5 ] con 8.533678203821182 probabilidad \n",
      "\n",
      "El valor real  [ 1 ] predicho :[ 3 ] con 8.533677458763123 probabilidad \n",
      "\n",
      "El valor real  [ 1 ] predicho :[ 6 ] con 8.533677458763123 probabilidad \n",
      "\n",
      "El valor real  [ 1 ] predicho :[ 8 ] con 8.533677458763123 probabilidad \n",
      "\n",
      "El valor real  [ 1 ] predicho :[ 9 ] con 8.533677458763123 probabilidad \n",
      "\n",
      "<<<<<<<<<<<<<<<<<<<>>>>>>>>>>>>>>>>>>>>>>>>>>>>>>>>>>>>>>>>>>>>>>\n",
      "El valor real  [ 0 ] predicho :[ 0 ] con 23.19086492061615 probabilidad \n",
      "\n",
      "El valor real  [ 0 ] predicho :[ 6 ] con 8.534999936819077 probabilidad \n",
      "\n",
      "El valor real  [ 0 ] predicho :[ 2 ] con 8.534954488277435 probabilidad \n",
      "\n",
      "El valor real  [ 0 ] predicho :[ 1 ] con 8.534229546785355 probabilidad \n",
      "\n",
      "El valor real  [ 0 ] predicho :[ 3 ] con 8.534207195043564 probabilidad \n",
      "\n",
      "El valor real  [ 0 ] predicho :[ 7 ] con 8.534186333417892 probabilidad \n",
      "\n",
      "El valor real  [ 0 ] predicho :[ 9 ] con 8.534182608127594 probabilidad \n",
      "\n",
      "El valor real  [ 0 ] predicho :[ 8 ] con 8.53416696190834 probabilidad \n",
      "\n",
      "El valor real  [ 0 ] predicho :[ 5 ] con 8.534136414527893 probabilidad \n",
      "\n",
      "El valor real  [ 0 ] predicho :[ 4 ] con 8.534080535173416 probabilidad \n",
      "\n",
      "<<<<<<<<<<<<<<<<<<<>>>>>>>>>>>>>>>>>>>>>>>>>>>>>>>>>>>>>>>>>>>>>>\n",
      "El valor real  [ 4 ] predicho :[ 4 ] con 23.196376860141754 probabilidad \n",
      "\n",
      "El valor real  [ 4 ] predicho :[ 9 ] con 8.533921092748642 probabilidad \n",
      "\n",
      "El valor real  [ 4 ] predicho :[ 1 ] con 8.533722907304764 probabilidad \n",
      "\n",
      "El valor real  [ 4 ] predicho :[ 7 ] con 8.533713221549988 probabilidad \n",
      "\n",
      "El valor real  [ 4 ] predicho :[ 0 ] con 8.533710986375809 probabilidad \n",
      "\n",
      "El valor real  [ 4 ] predicho :[ 2 ] con 8.53370875120163 probabilidad \n",
      "\n",
      "El valor real  [ 4 ] predicho :[ 3 ] con 8.53370875120163 probabilidad \n",
      "\n",
      "El valor real  [ 4 ] predicho :[ 6 ] con 8.53370875120163 probabilidad \n",
      "\n",
      "El valor real  [ 4 ] predicho :[ 5 ] con 8.53370800614357 probabilidad \n",
      "\n",
      "El valor real  [ 4 ] predicho :[ 8 ] con 8.53370800614357 probabilidad \n",
      "\n",
      "<<<<<<<<<<<<<<<<<<<>>>>>>>>>>>>>>>>>>>>>>>>>>>>>>>>>>>>>>>>>>>>>>\n",
      "El valor real  [ 1 ] predicho :[ 1 ] con 23.19691926240921 probabilidad \n",
      "\n",
      "El valor real  [ 1 ] predicho :[ 7 ] con 8.533679693937302 probabilidad \n",
      "\n",
      "El valor real  [ 1 ] predicho :[ 4 ] con 8.533675223588943 probabilidad \n",
      "\n",
      "El valor real  [ 1 ] predicho :[ 0 ] con 8.533674478530884 probabilidad \n",
      "\n",
      "El valor real  [ 1 ] predicho :[ 2 ] con 8.533674478530884 probabilidad \n",
      "\n",
      "El valor real  [ 1 ] predicho :[ 3 ] con 8.533674478530884 probabilidad \n",
      "\n",
      "El valor real  [ 1 ] predicho :[ 5 ] con 8.533674478530884 probabilidad \n",
      "\n",
      "El valor real  [ 1 ] predicho :[ 6 ] con 8.533674478530884 probabilidad \n",
      "\n",
      "El valor real  [ 1 ] predicho :[ 8 ] con 8.533674478530884 probabilidad \n",
      "\n",
      "El valor real  [ 1 ] predicho :[ 9 ] con 8.533674478530884 probabilidad \n",
      "\n",
      "<<<<<<<<<<<<<<<<<<<>>>>>>>>>>>>>>>>>>>>>>>>>>>>>>>>>>>>>>>>>>>>>>\n",
      "El valor real  [ 4 ] predicho :[ 4 ] con 23.188723623752594 probabilidad \n",
      "\n",
      "El valor real  [ 4 ] predicho :[ 8 ] con 8.536390960216522 probabilidad \n",
      "\n",
      "El valor real  [ 4 ] predicho :[ 9 ] con 8.535464853048325 probabilidad \n",
      "\n",
      "El valor real  [ 4 ] predicho :[ 5 ] con 8.53421539068222 probabilidad \n",
      "\n",
      "El valor real  [ 4 ] predicho :[ 3 ] con 8.534210175275803 probabilidad \n",
      "\n",
      "El valor real  [ 4 ] predicho :[ 1 ] con 8.534207195043564 probabilidad \n",
      "\n",
      "El valor real  [ 4 ] predicho :[ 7 ] con 8.534204214811325 probabilidad \n",
      "\n",
      "El valor real  [ 4 ] predicho :[ 6 ] con 8.534194529056549 probabilidad \n",
      "\n",
      "El valor real  [ 4 ] predicho :[ 0 ] con 8.53419378399849 probabilidad \n",
      "\n",
      "El valor real  [ 4 ] predicho :[ 2 ] con 8.53419303894043 probabilidad \n",
      "\n",
      "<<<<<<<<<<<<<<<<<<<>>>>>>>>>>>>>>>>>>>>>>>>>>>>>>>>>>>>>>>>>>>>>>\n",
      "El valor real  [ 9 ] predicho :[ 9 ] con 23.181039094924927 probabilidad \n",
      "\n",
      "El valor real  [ 9 ] predicho :[ 4 ] con 8.540832996368408 probabilidad \n",
      "\n",
      "El valor real  [ 9 ] predicho :[ 2 ] con 8.534930646419525 probabilidad \n",
      "\n",
      "El valor real  [ 9 ] predicho :[ 5 ] con 8.534886687994003 probabilidad \n",
      "\n",
      "El valor real  [ 9 ] predicho :[ 3 ] con 8.534867316484451 probabilidad \n",
      "\n",
      "El valor real  [ 9 ] predicho :[ 7 ] con 8.534707874059677 probabilidad \n",
      "\n",
      "El valor real  [ 9 ] predicho :[ 1 ] con 8.534687012434006 probabilidad \n",
      "\n",
      "El valor real  [ 9 ] predicho :[ 8 ] con 8.534684032201767 probabilidad \n",
      "\n",
      "El valor real  [ 9 ] predicho :[ 0 ] con 8.534681051969528 probabilidad \n",
      "\n",
      "El valor real  [ 9 ] predicho :[ 6 ] con 8.53467732667923 probabilidad \n",
      "\n",
      "<<<<<<<<<<<<<<<<<<<>>>>>>>>>>>>>>>>>>>>>>>>>>>>>>>>>>>>>>>>>>>>>>\n",
      "El valor real  [ 5 ] predicho :[ 5 ] con 20.021069049835205 probabilidad \n",
      "\n",
      "El valor real  [ 5 ] predicho :[ 6 ] con 10.298894345760345 probabilidad \n",
      "\n",
      "El valor real  [ 5 ] predicho :[ 8 ] con 8.710335195064545 probabilidad \n",
      "\n",
      "El valor real  [ 5 ] predicho :[ 4 ] con 8.710195869207382 probabilidad \n",
      "\n",
      "El valor real  [ 5 ] predicho :[ 9 ] con 8.710009604692459 probabilidad \n",
      "\n",
      "El valor real  [ 5 ] predicho :[ 2 ] con 8.709900826215744 probabilidad \n",
      "\n",
      "El valor real  [ 5 ] predicho :[ 3 ] con 8.709900826215744 probabilidad \n",
      "\n",
      "El valor real  [ 5 ] predicho :[ 1 ] con 8.709898591041565 probabilidad \n",
      "\n",
      "El valor real  [ 5 ] predicho :[ 7 ] con 8.709898591041565 probabilidad \n",
      "\n",
      "El valor real  [ 5 ] predicho :[ 0 ] con 8.709897100925446 probabilidad \n",
      "\n",
      "<<<<<<<<<<<<<<<<<<<>>>>>>>>>>>>>>>>>>>>>>>>>>>>>>>>>>>>>>>>>>>>>>\n",
      "El valor real  [ 9 ] predicho :[ 9 ] con 23.194076120853424 probabilidad \n",
      "\n",
      "El valor real  [ 9 ] predicho :[ 4 ] con 8.53506252169609 probabilidad \n",
      "\n",
      "El valor real  [ 9 ] predicho :[ 0 ] con 8.533862233161926 probabilidad \n",
      "\n",
      "El valor real  [ 9 ] predicho :[ 7 ] con 8.533862233161926 probabilidad \n",
      "\n",
      "El valor real  [ 9 ] predicho :[ 8 ] con 8.533862233161926 probabilidad \n",
      "\n",
      "El valor real  [ 9 ] predicho :[ 1 ] con 8.53385478258133 probabilidad \n",
      "\n",
      "El valor real  [ 9 ] predicho :[ 3 ] con 8.53385478258133 probabilidad \n",
      "\n",
      "El valor real  [ 9 ] predicho :[ 2 ] con 8.53385403752327 probabilidad \n",
      "\n",
      "El valor real  [ 9 ] predicho :[ 5 ] con 8.53385403752327 probabilidad \n",
      "\n",
      "El valor real  [ 9 ] predicho :[ 6 ] con 8.53385403752327 probabilidad \n",
      "\n",
      "<<<<<<<<<<<<<<<<<<<>>>>>>>>>>>>>>>>>>>>>>>>>>>>>>>>>>>>>>>>>>>>>>\n"
     ]
    }
   ],
   "source": [
    "xaux=x_test\n",
    "yauc=y_test\n",
    "for n in range(0,10)  :\n",
    "    predictions = model(xaux[n:n+1]).numpy()\n",
    "\n",
    "    arr = tf.nn.softmax(predictions).numpy()[0]\n",
    "\n",
    "    # Convertimos el array a un diccionario\n",
    "    dict_arr = dict(zip(range(len(arr)), arr.tolist()))\n",
    "\n",
    "    d_ordenado = dict(sorted(dict_arr.items(), key=lambda x: x[1], reverse=True))\n",
    "\n",
    "    for key, value in d_ordenado.items():\n",
    "        print( \"El valor real  [\", yauc[n], '] predicho :[',key, \"] con\", value*100,'probabilidad','\\n')\n",
    "    print('<<<<<<<<<<<<<<<<<<<>>>>>>>>>>>>>>>>>>>>>>>>>>>>>>>>>>>>>>>>>>>>>>')\n",
    "\n",
    "    "
   ]
  },
  {
   "cell_type": "code",
   "execution_count": 107,
   "id": "52cda585",
   "metadata": {},
   "outputs": [],
   "source": [
    "# for i in range(50) : \n",
    "#     print(i,y_train[i])"
   ]
  },
  {
   "cell_type": "code",
   "execution_count": null,
   "id": "fb657be1",
   "metadata": {},
   "outputs": [],
   "source": []
  },
  {
   "cell_type": "code",
   "execution_count": null,
   "id": "ab6c44ab",
   "metadata": {},
   "outputs": [],
   "source": []
  }
 ],
 "metadata": {
  "kernelspec": {
   "display_name": "Python 3 (ipykernel)",
   "language": "python",
   "name": "python3"
  },
  "language_info": {
   "codemirror_mode": {
    "name": "ipython",
    "version": 3
   },
   "file_extension": ".py",
   "mimetype": "text/x-python",
   "name": "python",
   "nbconvert_exporter": "python",
   "pygments_lexer": "ipython3",
   "version": "3.9.12"
  },
  "toc": {
   "base_numbering": 1,
   "nav_menu": {},
   "number_sections": true,
   "sideBar": true,
   "skip_h1_title": false,
   "title_cell": "Table of Contents",
   "title_sidebar": "Contents",
   "toc_cell": false,
   "toc_position": {},
   "toc_section_display": true,
   "toc_window_display": false
  }
 },
 "nbformat": 4,
 "nbformat_minor": 5
}

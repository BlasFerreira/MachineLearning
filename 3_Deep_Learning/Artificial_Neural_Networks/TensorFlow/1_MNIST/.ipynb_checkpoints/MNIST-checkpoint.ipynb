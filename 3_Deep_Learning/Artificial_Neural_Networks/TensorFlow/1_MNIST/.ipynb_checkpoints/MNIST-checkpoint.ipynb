{
 "cells": [
  {
   "cell_type": "markdown",
   "id": "24c42ee9",
   "metadata": {},
   "source": [
    "# Import"
   ]
  },
  {
   "cell_type": "markdown",
   "id": "471688b1",
   "metadata": {},
   "source": [
    "## Library"
   ]
  },
  {
   "cell_type": "code",
   "execution_count": 1,
   "id": "7ccd1d7d",
   "metadata": {},
   "outputs": [
    {
     "name": "stdout",
     "output_type": "stream",
     "text": [
      "TensorFlow version: 2.9.1\n"
     ]
    }
   ],
   "source": [
    "import tensorflow as tf\n",
    "import numpy as np\n",
    "print(\"TensorFlow version:\", tf.__version__)\n",
    "\n",
    "import numpy as np\n",
    "import pandas as pd\n",
    "import matplotlib.pyplot as plt\n",
    "import seaborn as sns\n",
    "# Logistic Regression Clasificator\n",
    "from sklearn.linear_model import LogisticRegression\n",
    "# import warnings\n",
    "# warnings.filterwarnings('ignore')\n",
    "\n",
    "from PIL import Image\n",
    "import numpy as np\n"
   ]
  },
  {
   "cell_type": "markdown",
   "id": "10eb2e04",
   "metadata": {
    "heading_collapsed": true
   },
   "source": [
    "## Dataset"
   ]
  },
  {
   "cell_type": "code",
   "execution_count": 2,
   "id": "02c1aae9",
   "metadata": {
    "hidden": true
   },
   "outputs": [],
   "source": [
    "# Load and prepare the MNIST dataset\n",
    "mnist = tf.keras.datasets.mnist"
   ]
  },
  {
   "cell_type": "markdown",
   "id": "79502ed0",
   "metadata": {
    "hidden": true
   },
   "source": [
    "### Split"
   ]
  },
  {
   "cell_type": "code",
   "execution_count": 3,
   "id": "efdc2678",
   "metadata": {
    "hidden": true
   },
   "outputs": [],
   "source": [
    "# Split dataset in data of Train and Data od Test\n",
    "(x_train, y_train), (x_test, y_test) = mnist.load_data()"
   ]
  },
  {
   "cell_type": "code",
   "execution_count": 4,
   "id": "a52c1bbe",
   "metadata": {
    "hidden": true
   },
   "outputs": [
    {
     "data": {
      "text/plain": [
       "5"
      ]
     },
     "execution_count": 4,
     "metadata": {},
     "output_type": "execute_result"
    }
   ],
   "source": [
    "y_train[0]"
   ]
  },
  {
   "cell_type": "code",
   "execution_count": 28,
   "id": "c2c3fa97",
   "metadata": {
    "hidden": true
   },
   "outputs": [],
   "source": [
    "# np.reshape(x_train[:1], ( 28, 28) )"
   ]
  },
  {
   "cell_type": "markdown",
   "id": "24928c66",
   "metadata": {
    "hidden": true
   },
   "source": [
    "### Information of Data"
   ]
  },
  {
   "cell_type": "code",
   "execution_count": 6,
   "id": "7d44dc28",
   "metadata": {
    "hidden": true
   },
   "outputs": [
    {
     "name": "stdout",
     "output_type": "stream",
     "text": [
      "x_train.shape : (60000, 28, 28)\n",
      "y_train.shape : (60000,)\n",
      "\n",
      "x_test.shape : (10000, 28, 28)\n",
      "y_test.shape : (10000,)\n"
     ]
    }
   ],
   "source": [
    "print(f'x_train.shape : {x_train.shape}')\n",
    "print(f'y_train.shape : {y_train.shape}\\n')\n",
    "print(f'x_test.shape : {x_test.shape}')\n",
    "print(f'y_test.shape : {y_test.shape}')"
   ]
  },
  {
   "cell_type": "markdown",
   "id": "caa076f2",
   "metadata": {
    "hidden": true
   },
   "source": [
    "The pixel values of the images range from __0__ through __255__. Scale these values to a range of __0__ to **1** by dividing the values by __255.0__. This also converts the sample data from integers to floating-point numbers:"
   ]
  },
  {
   "cell_type": "code",
   "execution_count": 7,
   "id": "dc86b088",
   "metadata": {
    "hidden": true
   },
   "outputs": [],
   "source": [
    "x_train, x_test = x_train / 255.0, x_test / 255.0"
   ]
  },
  {
   "cell_type": "code",
   "execution_count": 8,
   "id": "fcd28fdc",
   "metadata": {
    "hidden": true
   },
   "outputs": [
    {
     "data": {
      "text/plain": [
       "(28, 28)"
      ]
     },
     "execution_count": 8,
     "metadata": {},
     "output_type": "execute_result"
    }
   ],
   "source": [
    "x_train[0].shape"
   ]
  },
  {
   "cell_type": "code",
   "execution_count": 9,
   "id": "96ec5052",
   "metadata": {
    "hidden": true
   },
   "outputs": [
    {
     "data": {
      "text/plain": [
       "numpy.ndarray"
      ]
     },
     "execution_count": 9,
     "metadata": {},
     "output_type": "execute_result"
    }
   ],
   "source": [
    "type(x_train)"
   ]
  },
  {
   "cell_type": "markdown",
   "id": "11c6dada",
   "metadata": {
    "hidden": true
   },
   "source": [
    "![](MNIST.png)"
   ]
  },
  {
   "cell_type": "markdown",
   "id": "cf3787e1",
   "metadata": {},
   "source": [
    "# Build a machine learning model"
   ]
  },
  {
   "cell_type": "markdown",
   "id": "aa041322",
   "metadata": {},
   "source": [
    "## Build a tf.keras.Sequential model:"
   ]
  },
  {
   "cell_type": "markdown",
   "id": "0d0c8f85",
   "metadata": {},
   "source": [
    "![](1_N8UXaiUKWurFLdmEhEHiWg.jpg)"
   ]
  },
  {
   "cell_type": "code",
   "execution_count": 10,
   "id": "df2d8af6",
   "metadata": {},
   "outputs": [],
   "source": [
    "model = tf.keras.models.Sequential([\n",
    "  tf.keras.layers.Flatten(input_shape=(28, 28)),\n",
    "  tf.keras.layers.Dense(128, activation='relu'),\n",
    "  tf.keras.layers.Dropout(0.2),#regularización y reducir el sobreajuste del modelo\n",
    "  tf.keras.layers.Dense(10) #Esta capa tiene 10 neuronas, lo que indica que este modelo se utiliza para clasificación de 10 categorías\n",
    "])"
   ]
  },
  {
   "cell_type": "markdown",
   "id": "6e679d78",
   "metadata": {},
   "source": [
    "- __tf.keras.layers.Flatten__ (La capa de aplanamiento ) es una capa de procesamiento que convierte una matriz de __entrada multidimensional__ en un vector __unidimensional__. Esta capa se utiliza comúnmente como la primera capa en una red neuronal para transformar los datos de entrada. La capa de aplanamiento toma una matriz de entrada de __28x28__ (que representa una imagen de __28x28__ píxeles) y la convierte en un vector de __784__ elementos. Esto permite que la red neuronal procese la imagen como una __secuencia unidimensional__ de valores de píxeles en lugar de como una matriz bidimensional.<br><br>\n",
    "\n",
    "- __tf.keras.layers.Dense__ es una capa de redes neuronales __densamente conectada__ en TensorFlow, que implementa la operación de multiplicación de matriz y adición de sesgo en la entrada, seguida de una función de activación. Cada unidad o nodo en la capa está conectado a cada unidad en la capa anterior, y las entradas se multiplican por un conjunto de pesos y se suman a un sesgo antes de aplicar la función de activación. En otras palabras, la capa densa es una capa de neuronas completamente conectada, donde cada neurona en la capa anterior está conectada a todas las neuronas en la capa actual. La capa __Dense__ en la red neuronal se llama así porque __cada neurona de la capa está conectada a todas las neuronas de la capa anterior y de la capa siguiente__. Esto se conoce como __\"conexión densa\"__ o __\"totalmente conectada\"__. Los valores de entrada se multiplican por los pesos, se suman los resultados y se aplica una función de activación para producir los valores de salida de la capa.En resumen, la capa Dense es una capa de red neuronal en la que cada neurona está conectada a todas las neuronas de la capa anterior y de la capa siguiente, lo que permite aprender patrones complejos en los datos<br><br>\n",
    "\n",
    "- __tf.keras.layers.Dropout__ es una capa en TensorFlow que se utiliza para regularizar modelos de aprendizaje profundo y evitar el sobreajuste. Durante el entrenamiento, Dropout apaga de forma aleatoria un número predefinido de unidades de la capa anterior. Esto evita que las unidades se \"especialicen\" demasiado en un subconjunto particular de los datos de entrenamiento, lo que puede resultar en un modelo que no generaliza bien a datos nuevos. El porcentaje de unidades que se apaga se puede ajustar mediante un parámetro llamado \"rate\".<br>\n"
   ]
  },
  {
   "cell_type": "markdown",
   "id": "da495618",
   "metadata": {},
   "source": [
    "Sequential is useful for stacking layers where each layer has one input tensor and one output tensor. Layers are functions with a known mathematical structure that can be reused and have trainable variables. Most TensorFlow models are composed of layers. This model uses the Flatten, Dense, and Dropout layers."
   ]
  },
  {
   "cell_type": "markdown",
   "id": "59607f14",
   "metadata": {},
   "source": [
    "## predictions example"
   ]
  },
  {
   "cell_type": "markdown",
   "id": "0c64f36f",
   "metadata": {},
   "source": [
    "For each example, the model returns a vector of __logits or log-odds scores__, one for each class"
   ]
  },
  {
   "cell_type": "code",
   "execution_count": 11,
   "id": "4893e491",
   "metadata": {},
   "outputs": [
    {
     "name": "stdout",
     "output_type": "stream",
     "text": [
      "0 : -0.4209520220756531\n",
      "1 : 0.1503024846315384\n",
      "2 : -0.22662420570850372\n",
      "3 : -0.32889488339424133\n",
      "4 : -0.24071243405342102\n",
      "5 : 0.6052711009979248\n",
      "6 : 0.2296079397201538\n",
      "7 : 0.20289534330368042\n",
      "8 : -1.4688804149627686\n",
      "9 : -0.05771341919898987\n"
     ]
    }
   ],
   "source": [
    "predictions = model(x_train[:1]).numpy()\n",
    "\n",
    "for i, value in enumerate(predictions[0]):\n",
    "    print(f'{i} : {value}')"
   ]
  },
  {
   "cell_type": "markdown",
   "id": "8ad0787d",
   "metadata": {},
   "source": [
    "## converts these logits to probabilities"
   ]
  },
  {
   "cell_type": "markdown",
   "id": "b8091bf4",
   "metadata": {},
   "source": [
    "The __tf.nn.softmax__ function converts these logits to probabilities for each class:"
   ]
  },
  {
   "cell_type": "code",
   "execution_count": 12,
   "id": "c19e7cc7",
   "metadata": {},
   "outputs": [
    {
     "data": {
      "text/plain": [
       "array([[0.06830242, 0.12092853, 0.08295291, 0.07488865, 0.08179244,\n",
       "        0.19059835, 0.13090935, 0.12745872, 0.02395116, 0.09821745]],\n",
       "      dtype=float32)"
      ]
     },
     "execution_count": 12,
     "metadata": {},
     "output_type": "execute_result"
    }
   ],
   "source": [
    "tf.nn.softmax(predictions).numpy()"
   ]
  },
  {
   "cell_type": "markdown",
   "id": "a693218b",
   "metadata": {},
   "source": [
    "## Define a loss function"
   ]
  },
  {
   "cell_type": "markdown",
   "id": "ab6c7c55",
   "metadata": {},
   "source": [
    "Define a loss function for training using __losses.SparseCategoricalCrossentropy__:"
   ]
  },
  {
   "cell_type": "code",
   "execution_count": 13,
   "id": "610bd8e7",
   "metadata": {},
   "outputs": [],
   "source": [
    "loss_fn = tf.keras.losses.SparseCategoricalCrossentropy(from_logits=True)"
   ]
  },
  {
   "cell_type": "markdown",
   "id": "9632ee7c",
   "metadata": {},
   "source": [
    "The __loss function__ takes a __vector of ground truth values__ and a __vector of logits__ and __returns a scalar loss for each example__. This __loss__ is equal to the __negative log probability of the true class__: The __loss__ is __0__ if the model is sure of the __correct__ class.\n",
    "\n",
    "This untrained model gives probabilities close to random (1/10 for each class), so the initial loss should be close to -tf.math.log(1/10) ~= 2.3."
   ]
  },
  {
   "cell_type": "code",
   "execution_count": 14,
   "id": "d44a933c",
   "metadata": {},
   "outputs": [
    {
     "data": {
      "text/plain": [
       "1.6575869"
      ]
     },
     "execution_count": 14,
     "metadata": {},
     "output_type": "execute_result"
    }
   ],
   "source": [
    "loss_fn(y_train[:1], predictions).numpy()"
   ]
  },
  {
   "cell_type": "markdown",
   "id": "3fdc54a8",
   "metadata": {},
   "source": [
    "## Set the optimizer"
   ]
  },
  {
   "cell_type": "code",
   "execution_count": 15,
   "id": "127a683d",
   "metadata": {},
   "outputs": [],
   "source": [
    "model.compile(optimizer = 'adam',\n",
    "              loss = loss_fn,\n",
    "              metrics = ['accuracy'])"
   ]
  },
  {
   "cell_type": "markdown",
   "id": "9735ef51",
   "metadata": {},
   "source": [
    "Adam (Adaptive Moment Estimation) es un __algoritmo de optimización__ de __gradiente descendente estocástico__ utilizado comúnmente para entrenar redes neuronales en el aprendizaje profundo.\n",
    "\n",
    "Adam es un __método de optimización adaptativo__ que combina el enfoque de __Momentum__ y __RMSprop__. Al igual que RMSprop, Adam mantiene un promedio móvil de los cuadrados de los gradientes y, al igual que el enfoque de Momentum, mantiene un __promedio móvil de los gradientes__.\n",
    "\n",
    "El algoritmo adapta la tasa de aprendizaje de cada parámetro en función de la magnitud del gradiente y la magnitud de la media móvil de segundo orden de los gradientes. Adam también incluye un término de corrección de sesgo para compensar la inicialización sesgada de los promedios móviles en las primeras iteraciones.\n",
    "\n",
    "En resumen, Adam es un algoritmo de optimización de gradiente descendente estocástico que adapta la tasa de aprendizaje para cada parámetro en función de la magnitud del gradiente y la media móvil de segundo orden de los gradientes. Es muy popular en el aprendizaje profundo debido a su eficacia y eficiencia en la práctica."
   ]
  },
  {
   "cell_type": "markdown",
   "id": "ef6d1fc7",
   "metadata": {},
   "source": [
    "# Train and evaluate your model"
   ]
  },
  {
   "cell_type": "markdown",
   "id": "1f4ba162",
   "metadata": {},
   "source": [
    "## Train"
   ]
  },
  {
   "cell_type": "markdown",
   "id": "f45bbc35",
   "metadata": {},
   "source": [
    "Use the __Model.fit__ Method to adjust your model parameters and minimize the loss:"
   ]
  },
  {
   "cell_type": "code",
   "execution_count": 16,
   "id": "58bc63cb",
   "metadata": {},
   "outputs": [
    {
     "name": "stdout",
     "output_type": "stream",
     "text": [
      "Epoch 1/5\n",
      "1875/1875 [==============================] - 5s 2ms/step - loss: 0.3003 - accuracy: 0.9126\n",
      "Epoch 2/5\n",
      "1875/1875 [==============================] - 4s 2ms/step - loss: 0.1442 - accuracy: 0.9575\n",
      "Epoch 3/5\n",
      "1875/1875 [==============================] - 4s 2ms/step - loss: 0.1071 - accuracy: 0.9675\n",
      "Epoch 4/5\n",
      "1875/1875 [==============================] - 4s 2ms/step - loss: 0.0856 - accuracy: 0.9735\n",
      "Epoch 5/5\n",
      "1875/1875 [==============================] - 4s 2ms/step - loss: 0.0739 - accuracy: 0.9771\n"
     ]
    }
   ],
   "source": [
    "history = model.fit(x_train, y_train,verbose=1, epochs=5)"
   ]
  },
  {
   "cell_type": "code",
   "execution_count": null,
   "id": "1d01ff3d",
   "metadata": {},
   "outputs": [],
   "source": []
  },
  {
   "cell_type": "markdown",
   "id": "f1558d7e",
   "metadata": {},
   "source": [
    "## evaluate"
   ]
  },
  {
   "cell_type": "markdown",
   "id": "bb67efa3",
   "metadata": {},
   "source": [
    "The __Model.evaluate__ method checks the model's performance, usually on a validation set or test set."
   ]
  },
  {
   "cell_type": "code",
   "execution_count": 17,
   "id": "982beb17",
   "metadata": {},
   "outputs": [
    {
     "name": "stdout",
     "output_type": "stream",
     "text": [
      "313/313 - 1s - loss: 0.0794 - accuracy: 0.9768 - 656ms/epoch - 2ms/step\n"
     ]
    },
    {
     "data": {
      "text/plain": [
       "[0.0793856531381607, 0.9768000245094299]"
      ]
     },
     "execution_count": 17,
     "metadata": {},
     "output_type": "execute_result"
    }
   ],
   "source": [
    "model.evaluate(x_test,  y_test, verbose=2)"
   ]
  },
  {
   "cell_type": "code",
   "execution_count": 18,
   "id": "4e10052d",
   "metadata": {},
   "outputs": [
    {
     "data": {
      "text/plain": [
       "keras.engine.sequential.Sequential"
      ]
     },
     "execution_count": 18,
     "metadata": {},
     "output_type": "execute_result"
    }
   ],
   "source": [
    "type(model)"
   ]
  },
  {
   "cell_type": "code",
   "execution_count": 19,
   "id": "13fdd373",
   "metadata": {},
   "outputs": [
    {
     "data": {
      "text/plain": [
       "7"
      ]
     },
     "execution_count": 19,
     "metadata": {},
     "output_type": "execute_result"
    }
   ],
   "source": [
    "y_test[0]"
   ]
  },
  {
   "cell_type": "code",
   "execution_count": 20,
   "id": "14d4ce3a",
   "metadata": {},
   "outputs": [
    {
     "data": {
      "text/plain": [
       "(28, 28)"
      ]
     },
     "execution_count": 20,
     "metadata": {},
     "output_type": "execute_result"
    }
   ],
   "source": [
    "x_test[0].shape"
   ]
  },
  {
   "cell_type": "code",
   "execution_count": 21,
   "id": "63b762cf",
   "metadata": {},
   "outputs": [
    {
     "name": "stdout",
     "output_type": "stream",
     "text": [
      "0 : -3.8071160316467285\n",
      "1 : -4.458176136016846\n",
      "2 : -1.0903630256652832\n",
      "3 : 2.4349026679992676\n",
      "4 : -12.516755104064941\n",
      "5 : -2.536863088607788\n",
      "6 : -16.072933197021484\n",
      "7 : 11.77712345123291\n",
      "8 : -3.7162599563598633\n",
      "9 : -2.0633792877197266\n"
     ]
    }
   ],
   "source": [
    "predictions = model(x_test[:1]).numpy()\n",
    "\n",
    "for i, value in enumerate(predictions[0]):\n",
    "    print(f'{i} : {value}')\n"
   ]
  },
  {
   "cell_type": "code",
   "execution_count": 22,
   "id": "50fb6a39",
   "metadata": {
    "scrolled": true
   },
   "outputs": [
    {
     "name": "stdout",
     "output_type": "stream",
     "text": [
      "El valor real  [ 7 ] predicho :[ 7 ]on 99.99077320098877 probabilidad \n",
      "\n",
      "El valor real  [ 7 ] predicho :[ 3 ]on 0.008763654477661476 probabilidad \n",
      "\n",
      "El valor real  [ 7 ] predicho :[ 2 ]on 0.00025803662992984755 probabilidad \n",
      "\n",
      "El valor real  [ 7 ] predicho :[ 9 ]on 9.752275218488649e-05 probabilidad \n",
      "\n",
      "El valor real  [ 7 ] predicho :[ 5 ]on 6.073995564293e-05 probabilidad \n",
      "\n",
      "El valor real  [ 7 ] predicho :[ 8 ]on 1.867536099098288e-05 probabilidad \n",
      "\n",
      "El valor real  [ 7 ] predicho :[ 0 ]on 1.7053382350695756e-05 probabilidad \n",
      "\n",
      "El valor real  [ 7 ] predicho :[ 1 ]on 8.893213276905954e-06 probabilidad \n",
      "\n",
      "El valor real  [ 7 ] predicho :[ 4 ]on 2.8136010882251483e-09 probabilidad \n",
      "\n",
      "El valor real  [ 7 ] predicho :[ 6 ]on 8.032198495731835e-11 probabilidad \n",
      "\n",
      "<<<<<<<<<<<<<<<<<<<>>>>>>>>>>>>>>>>>>>>>>>>>>>>>>>>>>>>>>>>>>>>>>\n",
      "El valor real  [ 2 ] predicho :[ 2 ]on 99.98459815979004 probabilidad \n",
      "\n",
      "El valor real  [ 2 ] predicho :[ 1 ]on 0.011130857456009835 probabilidad \n",
      "\n",
      "El valor real  [ 2 ] predicho :[ 3 ]on 0.0031011702958494425 probabilidad \n",
      "\n",
      "El valor real  [ 2 ] predicho :[ 8 ]on 0.000635844071439351 probabilidad \n",
      "\n",
      "El valor real  [ 2 ] predicho :[ 5 ]on 0.0004598150098900078 probabilidad \n",
      "\n",
      "El valor real  [ 2 ] predicho :[ 6 ]on 5.481248308569775e-05 probabilidad \n",
      "\n",
      "El valor real  [ 2 ] predicho :[ 0 ]on 7.598352880222592e-06 probabilidad \n",
      "\n",
      "El valor real  [ 2 ] predicho :[ 9 ]on 3.0108502496739575e-10 probabilidad \n",
      "\n",
      "El valor real  [ 2 ] predicho :[ 7 ]on 3.653258793569203e-11 probabilidad \n",
      "\n",
      "El valor real  [ 2 ] predicho :[ 4 ]on 9.428834073238338e-14 probabilidad \n",
      "\n",
      "<<<<<<<<<<<<<<<<<<<>>>>>>>>>>>>>>>>>>>>>>>>>>>>>>>>>>>>>>>>>>>>>>\n",
      "El valor real  [ 1 ] predicho :[ 1 ]on 99.88958835601807 probabilidad \n",
      "\n",
      "El valor real  [ 1 ] predicho :[ 7 ]on 0.05851794849149883 probabilidad \n",
      "\n",
      "El valor real  [ 1 ] predicho :[ 2 ]on 0.025003767223097384 probabilidad \n",
      "\n",
      "El valor real  [ 1 ] predicho :[ 8 ]on 0.02003296685870737 probabilidad \n",
      "\n",
      "El valor real  [ 1 ] predicho :[ 6 ]on 0.002719809162954334 probabilidad \n",
      "\n",
      "El valor real  [ 1 ] predicho :[ 4 ]on 0.002325732566532679 probabilidad \n",
      "\n",
      "El valor real  [ 1 ] predicho :[ 3 ]on 0.0008940029147197492 probabilidad \n",
      "\n",
      "El valor real  [ 1 ] predicho :[ 9 ]on 0.000685523082211148 probabilidad \n",
      "\n",
      "El valor real  [ 1 ] predicho :[ 5 ]on 0.00021212895262578968 probabilidad \n",
      "\n",
      "El valor real  [ 1 ] predicho :[ 0 ]on 2.3644896884889022e-05 probabilidad \n",
      "\n",
      "<<<<<<<<<<<<<<<<<<<>>>>>>>>>>>>>>>>>>>>>>>>>>>>>>>>>>>>>>>>>>>>>>\n",
      "El valor real  [ 0 ] predicho :[ 0 ]on 99.99731779098511 probabilidad \n",
      "\n",
      "El valor real  [ 0 ] predicho :[ 9 ]on 0.0015427585822180845 probabilidad \n",
      "\n",
      "El valor real  [ 0 ] predicho :[ 2 ]on 0.0009070593478099909 probabilidad \n",
      "\n",
      "El valor real  [ 0 ] predicho :[ 6 ]on 0.00014979068510001525 probabilidad \n",
      "\n",
      "El valor real  [ 0 ] predicho :[ 5 ]on 3.649792574833555e-05 probabilidad \n",
      "\n",
      "El valor real  [ 0 ] predicho :[ 7 ]on 2.4453706259919272e-05 probabilidad \n",
      "\n",
      "El valor real  [ 0 ] predicho :[ 4 ]on 1.4403160264464532e-05 probabilidad \n",
      "\n",
      "El valor real  [ 0 ] predicho :[ 8 ]on 3.7436471700402763e-06 probabilidad \n",
      "\n",
      "El valor real  [ 0 ] predicho :[ 3 ]on 5.293663729588616e-07 probabilidad \n",
      "\n",
      "El valor real  [ 0 ] predicho :[ 1 ]on 2.332127026216657e-09 probabilidad \n",
      "\n",
      "<<<<<<<<<<<<<<<<<<<>>>>>>>>>>>>>>>>>>>>>>>>>>>>>>>>>>>>>>>>>>>>>>\n",
      "El valor real  [ 4 ] predicho :[ 4 ]on 99.81751441955566 probabilidad \n",
      "\n",
      "El valor real  [ 4 ] predicho :[ 9 ]on 0.17992168432101607 probabilidad \n",
      "\n",
      "El valor real  [ 4 ] predicho :[ 7 ]on 0.0019770097424043342 probabilidad \n",
      "\n",
      "El valor real  [ 4 ] predicho :[ 0 ]on 0.0003992284746345831 probabilidad \n",
      "\n",
      "El valor real  [ 4 ] predicho :[ 6 ]on 0.00011396864465496037 probabilidad \n",
      "\n",
      "El valor real  [ 4 ] predicho :[ 5 ]on 3.763558993341576e-05 probabilidad \n",
      "\n",
      "El valor real  [ 4 ] predicho :[ 2 ]on 3.196111322267825e-05 probabilidad \n",
      "\n",
      "El valor real  [ 4 ] predicho :[ 8 ]on 3.7202177338713227e-06 probabilidad \n",
      "\n",
      "El valor real  [ 4 ] predicho :[ 3 ]on 7.735309281997615e-07 probabilidad \n",
      "\n",
      "El valor real  [ 4 ] predicho :[ 1 ]on 1.846422875706466e-08 probabilidad \n",
      "\n",
      "<<<<<<<<<<<<<<<<<<<>>>>>>>>>>>>>>>>>>>>>>>>>>>>>>>>>>>>>>>>>>>>>>\n",
      "El valor real  [ 1 ] predicho :[ 1 ]on 99.92523789405823 probabilidad \n",
      "\n",
      "El valor real  [ 1 ] predicho :[ 7 ]on 0.07402440533041954 probabilidad \n",
      "\n",
      "El valor real  [ 1 ] predicho :[ 8 ]on 0.0002912395757448394 probabilidad \n",
      "\n",
      "El valor real  [ 1 ] predicho :[ 2 ]on 0.00023546599550172687 probabilidad \n",
      "\n",
      "El valor real  [ 1 ] predicho :[ 9 ]on 9.242224336958316e-05 probabilidad \n",
      "\n",
      "El valor real  [ 1 ] predicho :[ 4 ]on 7.747313475192641e-05 probabilidad \n",
      "\n",
      "El valor real  [ 1 ] predicho :[ 3 ]on 3.364190206411877e-05 probabilidad \n",
      "\n",
      "El valor real  [ 1 ] predicho :[ 6 ]on 3.644183621531738e-06 probabilidad \n",
      "\n",
      "El valor real  [ 1 ] predicho :[ 0 ]on 2.5211233101174457e-07 probabilidad \n",
      "\n",
      "El valor real  [ 1 ] predicho :[ 5 ]on 1.8325667650032074e-07 probabilidad \n",
      "\n",
      "<<<<<<<<<<<<<<<<<<<>>>>>>>>>>>>>>>>>>>>>>>>>>>>>>>>>>>>>>>>>>>>>>\n",
      "El valor real  [ 4 ] predicho :[ 4 ]on 99.9496340751648 probabilidad \n",
      "\n",
      "El valor real  [ 4 ] predicho :[ 8 ]on 0.04491706204134971 probabilidad \n",
      "\n",
      "El valor real  [ 4 ] predicho :[ 9 ]on 0.004802518742508255 probabilidad \n",
      "\n",
      "El valor real  [ 4 ] predicho :[ 5 ]on 0.0004399369117891183 probabilidad \n",
      "\n",
      "El valor real  [ 4 ] predicho :[ 7 ]on 0.00020362224404379958 probabilidad \n",
      "\n",
      "El valor real  [ 4 ] predicho :[ 6 ]on 4.087726779289369e-06 probabilidad \n",
      "\n",
      "El valor real  [ 4 ] predicho :[ 3 ]on 2.530827813984615e-06 probabilidad \n",
      "\n",
      "El valor real  [ 4 ] predicho :[ 1 ]on 3.689747840596169e-07 probabilidad \n",
      "\n",
      "El valor real  [ 4 ] predicho :[ 2 ]on 1.1974015112770076e-07 probabilidad \n",
      "\n",
      "El valor real  [ 4 ] predicho :[ 0 ]on 6.037564892480418e-08 probabilidad \n",
      "\n",
      "<<<<<<<<<<<<<<<<<<<>>>>>>>>>>>>>>>>>>>>>>>>>>>>>>>>>>>>>>>>>>>>>>\n",
      "El valor real  [ 9 ] predicho :[ 9 ]on 99.88163709640503 probabilidad \n",
      "\n",
      "El valor real  [ 9 ] predicho :[ 4 ]on 0.09879148565232754 probabilidad \n",
      "\n",
      "El valor real  [ 9 ] predicho :[ 3 ]on 0.017268172814510763 probabilidad \n",
      "\n",
      "El valor real  [ 9 ] predicho :[ 7 ]on 0.0011845461813209113 probabilidad \n",
      "\n",
      "El valor real  [ 9 ] predicho :[ 2 ]on 0.0008199158401112072 probabilidad \n",
      "\n",
      "El valor real  [ 9 ] predicho :[ 5 ]on 0.00015821037777641322 probabilidad \n",
      "\n",
      "El valor real  [ 9 ] predicho :[ 1 ]on 0.0001127412815549178 probabilidad \n",
      "\n",
      "El valor real  [ 9 ] predicho :[ 8 ]on 3.19813693749893e-05 probabilidad \n",
      "\n",
      "El valor real  [ 9 ] predicho :[ 0 ]on 4.886604454412691e-07 probabilidad \n",
      "\n",
      "El valor real  [ 9 ] predicho :[ 6 ]on 1.4563752981366918e-08 probabilidad \n",
      "\n",
      "<<<<<<<<<<<<<<<<<<<>>>>>>>>>>>>>>>>>>>>>>>>>>>>>>>>>>>>>>>>>>>>>>\n",
      "El valor real  [ 5 ] predicho :[ 5 ]on 99.54003691673279 probabilidad \n",
      "\n",
      "El valor real  [ 5 ] predicho :[ 6 ]on 0.4413285292685032 probabilidad \n",
      "\n",
      "El valor real  [ 5 ] predicho :[ 8 ]on 0.008684304339112714 probabilidad \n",
      "\n",
      "El valor real  [ 5 ] predicho :[ 4 ]on 0.005100187991047278 probabilidad \n",
      "\n",
      "El valor real  [ 5 ] predicho :[ 9 ]on 0.004787401121575385 probabilidad \n",
      "\n",
      "El valor real  [ 5 ] predicho :[ 2 ]on 6.259324436541647e-05 probabilidad \n",
      "\n",
      "El valor real  [ 5 ] predicho :[ 0 ]on 8.52379322680008e-07 probabilidad \n",
      "\n",
      "El valor real  [ 5 ] predicho :[ 3 ]on 3.07310754621426e-07 probabilidad \n",
      "\n",
      "El valor real  [ 5 ] predicho :[ 1 ]on 1.0892649282556732e-08 probabilidad \n",
      "\n",
      "El valor real  [ 5 ] predicho :[ 7 ]on 9.88991250006066e-09 probabilidad \n",
      "\n",
      "<<<<<<<<<<<<<<<<<<<>>>>>>>>>>>>>>>>>>>>>>>>>>>>>>>>>>>>>>>>>>>>>>\n",
      "El valor real  [ 9 ] predicho :[ 9 ]on 99.39509630203247 probabilidad \n",
      "\n",
      "El valor real  [ 9 ] predicho :[ 4 ]on 0.5825592670589685 probabilidad \n",
      "\n",
      "El valor real  [ 9 ] predicho :[ 7 ]on 0.016672552737873048 probabilidad \n",
      "\n",
      "El valor real  [ 9 ] predicho :[ 8 ]on 0.005637743015540764 probabilidad \n",
      "\n",
      "El valor real  [ 9 ] predicho :[ 3 ]on 2.8308716082392493e-05 probabilidad \n",
      "\n",
      "El valor real  [ 9 ] predicho :[ 5 ]on 5.584692530646862e-06 probabilidad \n",
      "\n",
      "El valor real  [ 9 ] predicho :[ 0 ]on 6.185533418801015e-07 probabilidad \n",
      "\n",
      "El valor real  [ 9 ] predicho :[ 2 ]on 7.311974636881047e-09 probabilidad \n",
      "\n",
      "El valor real  [ 9 ] predicho :[ 1 ]on 3.1780418574545166e-09 probabilidad \n",
      "\n",
      "El valor real  [ 9 ] predicho :[ 6 ]on 8.751867286438397e-10 probabilidad \n",
      "\n",
      "<<<<<<<<<<<<<<<<<<<>>>>>>>>>>>>>>>>>>>>>>>>>>>>>>>>>>>>>>>>>>>>>>\n"
     ]
    }
   ],
   "source": [
    "xaux=x_test\n",
    "yauc=y_test\n",
    "for n in range(0,10)  :\n",
    "    predictions = model(xaux[n:n+1]).numpy()\n",
    "\n",
    "    arr = tf.nn.softmax(predictions).numpy()[0]\n",
    "\n",
    "    # Convertimos el array a un diccionario\n",
    "    dict_arr = dict(zip(range(len(arr)), arr.tolist()))\n",
    "\n",
    "    d_ordenado = dict(sorted(dict_arr.items(), key=lambda x: x[1], reverse=True))\n",
    "\n",
    "    for key, value in d_ordenado.items():\n",
    "        print( \"El valor real  [\", yauc[n], '] predicho :[',key, \"] con\", value*100,'probabilidad','\\n')\n",
    "    print('<<<<<<<<<<<<<<<<<<<>>>>>>>>>>>>>>>>>>>>>>>>>>>>>>>>>>>>>>>>>>>>>>')\n",
    "\n",
    "    "
   ]
  },
  {
   "cell_type": "code",
   "execution_count": 23,
   "id": "52cda585",
   "metadata": {},
   "outputs": [
    {
     "name": "stdout",
     "output_type": "stream",
     "text": [
      "0 5\n",
      "1 0\n",
      "2 4\n",
      "3 1\n",
      "4 9\n",
      "5 2\n",
      "6 1\n",
      "7 3\n",
      "8 1\n",
      "9 4\n",
      "10 3\n",
      "11 5\n",
      "12 3\n",
      "13 6\n",
      "14 1\n",
      "15 7\n",
      "16 2\n",
      "17 8\n",
      "18 6\n",
      "19 9\n",
      "20 4\n",
      "21 0\n",
      "22 9\n",
      "23 1\n",
      "24 1\n",
      "25 2\n",
      "26 4\n",
      "27 3\n",
      "28 2\n",
      "29 7\n",
      "30 3\n",
      "31 8\n",
      "32 6\n",
      "33 9\n",
      "34 0\n",
      "35 5\n",
      "36 6\n",
      "37 0\n",
      "38 7\n",
      "39 6\n",
      "40 1\n",
      "41 8\n",
      "42 7\n",
      "43 9\n",
      "44 3\n",
      "45 9\n",
      "46 8\n",
      "47 5\n",
      "48 9\n",
      "49 3\n"
     ]
    }
   ],
   "source": [
    "for i in range(50) : \n",
    "    print(i,y_train[i])"
   ]
  },
  {
   "cell_type": "markdown",
   "id": "d2cd38ff",
   "metadata": {},
   "source": [
    "# Trying"
   ]
  },
  {
   "cell_type": "code",
   "execution_count": 24,
   "id": "11c78f4b",
   "metadata": {},
   "outputs": [],
   "source": [
    "from keras.layers import Dropout\n",
    "from tensorflow.keras import regularizers"
   ]
  },
  {
   "cell_type": "code",
   "execution_count": 25,
   "id": "42916fac",
   "metadata": {},
   "outputs": [],
   "source": [
    "model = tf.keras.models.Sequential([\n",
    "\n",
    "\t# Input Layer\n",
    "    tf.keras.layers.Flatten(input_shape=(28, 28)),\n",
    "    # Hidden Layer\n",
    "    tf.keras.layers.Dense(512, activation='relu',kernel_initializer=tf.keras.initializers.RandomNormal(mean=0.0, stddev=0.088, seed=None)),\n",
    "    tf.keras.layers.BatchNormalization(),#regularización y reducir el sobreajuste del modelo\n",
    "    tf.keras.layers.Dropout(0.1),#regularización y reducir el sobreajuste del modelo\n",
    "\n",
    "    tf.keras.layers.Dense(256, activation='relu',kernel_initializer=tf.keras.initializers.RandomNormal(mean=0.0, stddev=0.088, seed=None)),\n",
    "    tf.keras.layers.BatchNormalization(),#regularización y reducir el sobreajuste del modelo\n",
    "    tf.keras.layers.Dropout(0.1),#regularización y reducir el sobreajuste del modelo\n",
    "\n",
    "    tf.keras.layers.Dense(128, activation='relu',kernel_initializer=tf.keras.initializers.RandomNormal(mean=0.0, stddev=0.088, seed=None)),\n",
    "    tf.keras.layers.BatchNormalization(),#regularización y reducir el sobreajuste del modelo\n",
    "    tf.keras.layers.Dropout(0.2),#regularización y reducir el sobreajuste del modelo\n",
    "    \n",
    "   # Outoput Layer\n",
    "    tf.keras.layers.Dense(10,activation='softmax'), #Esta capa tiene 10 neuronas, clasificación de 10 categorías\n",
    "])\n",
    "\n",
    "\n",
    "loss_fn = tf.keras.losses.SparseCategoricalCrossentropy(from_logits=True)\n",
    "\n",
    "model.compile(optimizer = 'adam',\n",
    "            loss = loss_fn,\n",
    "            metrics = ['accuracy'])\n"
   ]
  },
  {
   "cell_type": "code",
   "execution_count": 26,
   "id": "9b3fe267",
   "metadata": {},
   "outputs": [
    {
     "name": "stdout",
     "output_type": "stream",
     "text": [
      "Epoch 1/9\n"
     ]
    },
    {
     "name": "stderr",
     "output_type": "stream",
     "text": [
      "C:\\ProgramData\\Anaconda3\\lib\\site-packages\\tensorflow\\python\\util\\dispatch.py:1082: UserWarning: \"`sparse_categorical_crossentropy` received `from_logits=True`, but the `output` argument was produced by a sigmoid or softmax activation and thus does not represent logits. Was this intended?\"\n",
      "  return dispatch_target(*args, **kwargs)\n"
     ]
    },
    {
     "name": "stdout",
     "output_type": "stream",
     "text": [
      "1875/1875 [==============================] - 14s 7ms/step - loss: 0.2693 - accuracy: 0.9172 - val_loss: 0.1158 - val_accuracy: 0.9649\n",
      "Epoch 2/9\n",
      "1875/1875 [==============================] - 13s 7ms/step - loss: 0.1399 - accuracy: 0.9581 - val_loss: 0.0836 - val_accuracy: 0.9761\n",
      "Epoch 3/9\n",
      "1875/1875 [==============================] - 13s 7ms/step - loss: 0.1102 - accuracy: 0.9658 - val_loss: 0.0719 - val_accuracy: 0.9776\n",
      "Epoch 4/9\n",
      "1875/1875 [==============================] - 14s 7ms/step - loss: 0.0936 - accuracy: 0.9706 - val_loss: 0.0687 - val_accuracy: 0.9781\n",
      "Epoch 5/9\n",
      "1875/1875 [==============================] - 13s 7ms/step - loss: 0.0794 - accuracy: 0.9750 - val_loss: 0.0736 - val_accuracy: 0.9781\n",
      "Epoch 6/9\n",
      "1875/1875 [==============================] - 13s 7ms/step - loss: 0.0713 - accuracy: 0.9771 - val_loss: 0.0550 - val_accuracy: 0.9833\n",
      "Epoch 7/9\n",
      "1875/1875 [==============================] - 13s 7ms/step - loss: 0.0637 - accuracy: 0.9793 - val_loss: 0.0705 - val_accuracy: 0.9800\n",
      "Epoch 8/9\n",
      "1875/1875 [==============================] - 13s 7ms/step - loss: 0.0565 - accuracy: 0.9815 - val_loss: 0.0602 - val_accuracy: 0.9825\n",
      "Epoch 9/9\n",
      "1875/1875 [==============================] - 13s 7ms/step - loss: 0.0513 - accuracy: 0.9831 - val_loss: 0.0660 - val_accuracy: 0.9811\n"
     ]
    }
   ],
   "source": [
    "history = model.fit(x_train, y_train,  epochs=9, verbose=1, validation_data=(x_test, y_test))\n"
   ]
  },
  {
   "cell_type": "code",
   "execution_count": 27,
   "id": "5d9724d4",
   "metadata": {},
   "outputs": [
    {
     "data": {
      "image/png": "[encoded data removed]",
      "text/plain": [
       "<Figure size 432x288 with 1 Axes>"
      ]
     },
     "metadata": {
      "needs_background": "light"
     },
     "output_type": "display_data"
    }
   ],
   "source": [
    "# Get training and test loss histories\n",
    "training_loss = history.history['loss']\n",
    "test_loss = history.history['val_loss']\n",
    "\n",
    "# Create count of the number of epochs\n",
    "epoch_count = range(1, len(training_loss) + 1)\n",
    "\n",
    "# Visualize loss history\n",
    "plt.plot(epoch_count, training_loss, 'r--')\n",
    "plt.plot(epoch_count, test_loss, 'b-')\n",
    "plt.legend(['Training Loss', 'Test Loss'])\n",
    "plt.xlabel('Epoch')\n",
    "plt.ylabel('Loss')\n",
    "plt.show();"
   ]
  },
  {
   "cell_type": "code",
   "execution_count": null,
   "id": "571ac14e",
   "metadata": {},
   "outputs": [],
   "source": []
  },
  {
   "cell_type": "code",
   "execution_count": null,
   "id": "8e289df6",
   "metadata": {},
   "outputs": [],
   "source": []
  },
  {
   "cell_type": "code",
   "execution_count": null,
   "id": "fb657be1",
   "metadata": {},
   "outputs": [],
   "source": []
  },
  {
   "cell_type": "code",
   "execution_count": null,
   "id": "ab6c44ab",
   "metadata": {},
   "outputs": [],
   "source": []
  }
 ],
 "metadata": {
  "kernelspec": {
   "display_name": "Python 3 (ipykernel)",
   "language": "python",
   "name": "python3"
  },
  "language_info": {
   "codemirror_mode": {
    "name": "ipython",
    "version": 3
   },
   "file_extension": ".py",
   "mimetype": "text/x-python",
   "name": "python",
   "nbconvert_exporter": "python",
   "pygments_lexer": "ipython3",
   "version": "3.9.12"
  },
  "toc": {
   "base_numbering": 1,
   "nav_menu": {},
   "number_sections": true,
   "sideBar": true,
   "skip_h1_title": false,
   "title_cell": "Table of Contents",
   "title_sidebar": "Contents",
   "toc_cell": false,
   "toc_position": {},
   "toc_section_display": true,
   "toc_window_display": false
  }
 },
 "nbformat": 4,
 "nbformat_minor": 5
}
